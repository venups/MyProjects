{
 "cells": [
  {
   "cell_type": "markdown",
   "id": "4e7b4f7e",
   "metadata": {},
   "source": [
    "# Find Current Temperature Through Web API"
   ]
  },
  {
   "cell_type": "code",
   "execution_count": 1,
   "id": "c7f34c31",
   "metadata": {},
   "outputs": [],
   "source": [
    "import requests"
   ]
  },
  {
   "cell_type": "code",
   "execution_count": 2,
   "id": "a2e73298",
   "metadata": {},
   "outputs": [],
   "source": [
    "import os"
   ]
  },
  {
   "cell_type": "code",
   "execution_count": 3,
   "id": "d966a47c",
   "metadata": {},
   "outputs": [],
   "source": [
    "import json"
   ]
  },
  {
   "cell_type": "markdown",
   "id": "a68eb116",
   "metadata": {},
   "source": [
    "## Example Practice"
   ]
  },
  {
   "cell_type": "code",
   "execution_count": 4,
   "id": "b13c61eb",
   "metadata": {},
   "outputs": [],
   "source": [
    "def geocode(address):\n",
    "    params = { 'format'        :'json', \n",
    "               'addressdetails': 1, \n",
    "               'q'             : address}\n",
    "    headers = { 'user-agent'   : 'X' }   #  Need to supply a user agent other than the default provided \n",
    "                                           #  by requests for the API to accept the query.\n",
    "    return requests.get('http://nominatim.openstreetmap.org/search', \n",
    "                        params=params, headers=headers)"
   ]
  },
  {
   "cell_type": "code",
   "execution_count": 5,
   "id": "05ea1876",
   "metadata": {},
   "outputs": [],
   "source": [
    "address = '1922 E Boston St, Philadelphia, PA 19125'"
   ]
  },
  {
   "cell_type": "code",
   "execution_count": 6,
   "id": "d9329650",
   "metadata": {},
   "outputs": [],
   "source": [
    "response = geocode(address)"
   ]
  },
  {
   "cell_type": "code",
   "execution_count": 7,
   "id": "ce553198",
   "metadata": {},
   "outputs": [
    {
     "data": {
      "text/plain": [
       "'https://nominatim.openstreetmap.org/search?format=json&addressdetails=1&q=1922+E+Boston+St%2C+Philadelphia%2C+PA+19125'"
      ]
     },
     "execution_count": 7,
     "metadata": {},
     "output_type": "execute_result"
    }
   ],
   "source": [
    "response.url"
   ]
  },
  {
   "cell_type": "code",
   "execution_count": 8,
   "id": "8d63833c",
   "metadata": {},
   "outputs": [
    {
     "data": {
      "text/plain": [
       "'[{\"place_id\":304134260,\"licence\":\"Data © OpenStreetMap contributors, ODbL 1.0. https://osm.org/copyright\",\"osm_type\":\"way\",\"osm_id\":12155124,\"boundingbox\":[\"39.985249714286\",\"39.985349714286\",\"-75.130385020408\",\"-75.130285020408\"],\"lat\":\"39.98529971428571\",\"lon\":\"-75.13033502040817\",\"display_name\":\"1922, East Boston Street, Kensington, Philadelphia, Philadelphia County, Pennsylvania, 19125, United States\",\"class\":\"place\",\"type\":\"house\",\"importance\":-0.52,\"address\":{\"house_number\":\"1922\",\"road\":\"East Boston Street\",\"neighbourhood\":\"Kensington\",\"city\":\"Philadelphia\",\"county\":\"Philadelphia County\",\"state\":\"Pennsylvania\",\"ISO3166-2-lvl4\":\"US-PA\",\"postcode\":\"19125\",\"country\":\"United States\",\"country_code\":\"us\"}}]'"
      ]
     },
     "execution_count": 8,
     "metadata": {},
     "output_type": "execute_result"
    }
   ],
   "source": [
    "response.text"
   ]
  },
  {
   "cell_type": "code",
   "execution_count": 9,
   "id": "a6c01e55",
   "metadata": {},
   "outputs": [
    {
     "data": {
      "text/plain": [
       "[{'place_id': 304134260,\n",
       "  'licence': 'Data © OpenStreetMap contributors, ODbL 1.0. https://osm.org/copyright',\n",
       "  'osm_type': 'way',\n",
       "  'osm_id': 12155124,\n",
       "  'boundingbox': ['39.985249714286',\n",
       "   '39.985349714286',\n",
       "   '-75.130385020408',\n",
       "   '-75.130285020408'],\n",
       "  'lat': '39.98529971428571',\n",
       "  'lon': '-75.13033502040817',\n",
       "  'display_name': '1922, East Boston Street, Kensington, Philadelphia, Philadelphia County, Pennsylvania, 19125, United States',\n",
       "  'class': 'place',\n",
       "  'type': 'house',\n",
       "  'importance': -0.52,\n",
       "  'address': {'house_number': '1922',\n",
       "   'road': 'East Boston Street',\n",
       "   'neighbourhood': 'Kensington',\n",
       "   'city': 'Philadelphia',\n",
       "   'county': 'Philadelphia County',\n",
       "   'state': 'Pennsylvania',\n",
       "   'ISO3166-2-lvl4': 'US-PA',\n",
       "   'postcode': '19125',\n",
       "   'country': 'United States',\n",
       "   'country_code': 'us'}}]"
      ]
     },
     "execution_count": 9,
     "metadata": {},
     "output_type": "execute_result"
    }
   ],
   "source": [
    "response.json()"
   ]
  },
  {
   "cell_type": "code",
   "execution_count": 10,
   "id": "fff99247",
   "metadata": {},
   "outputs": [],
   "source": [
    "lat = response.json()[0]['lat']"
   ]
  },
  {
   "cell_type": "code",
   "execution_count": 11,
   "id": "8c3c5bb6",
   "metadata": {},
   "outputs": [],
   "source": [
    "lon = response.json()[0]['lon']"
   ]
  },
  {
   "cell_type": "code",
   "execution_count": 12,
   "id": "dbfb6818",
   "metadata": {},
   "outputs": [
    {
     "name": "stdout",
     "output_type": "stream",
     "text": [
      "39.98529971428571 , -75.13033502040817\n"
     ]
    }
   ],
   "source": [
    "print(lat,',',lon)"
   ]
  },
  {
   "cell_type": "code",
   "execution_count": 13,
   "id": "16d950a3",
   "metadata": {},
   "outputs": [],
   "source": [
    "def temperature_at_address(address):\n",
    "    response = geocode(address)\n",
    "    lat = response.json()[0]['lat']\n",
    "    lon = response.json()[0]['lon']\n",
    "    \n",
    "    web_address = 'https://api.weather.gov/points/'+lat+','+lon\n",
    "    \n",
    "    response1 = requests.get(web_address)\n",
    "    \n",
    "    forecast = response1.json()['properties']['forecast']\n",
    "    \n",
    "    response2 = requests.get(forecast)\n",
    "    \n",
    "    temp = response2.json()['properties']['periods'][0]['temperature']\n",
    "    \n",
    "    return temp"
   ]
  },
  {
   "cell_type": "code",
   "execution_count": 14,
   "id": "dbb0edd8",
   "metadata": {},
   "outputs": [],
   "source": [
    "address = '1922 E Boston St, Philadelphia'"
   ]
  },
  {
   "cell_type": "code",
   "execution_count": 15,
   "id": "ce94c16b",
   "metadata": {},
   "outputs": [],
   "source": [
    "temp = temperature_at_address(address)"
   ]
  },
  {
   "cell_type": "code",
   "execution_count": 16,
   "id": "da5fb05f",
   "metadata": {},
   "outputs": [
    {
     "name": "stdout",
     "output_type": "stream",
     "text": [
      "The current temperature at 1922 E Boston St, Philadelphia is: 52 F\n"
     ]
    }
   ],
   "source": [
    "print('The current temperature at '+address+' is: '+str(temp)+' F')"
   ]
  },
  {
   "cell_type": "code",
   "execution_count": 17,
   "id": "2706b303",
   "metadata": {},
   "outputs": [],
   "source": [
    "from requests_oauthlib import OAuth1"
   ]
  },
  {
   "cell_type": "code",
   "execution_count": 18,
   "id": "33747aa4",
   "metadata": {},
   "outputs": [],
   "source": [
    "with open(\"secrets/twitter_secrets.json.venu\") as fh:\n",
    "    secrets = json.load(fh)"
   ]
  },
  {
   "cell_type": "code",
   "execution_count": 19,
   "id": "bed896f9",
   "metadata": {},
   "outputs": [],
   "source": [
    "# create an auth object\n",
    "auth = OAuth1(\n",
    "    secrets[\"api_key\"],\n",
    "    secrets[\"api_secret\"],\n",
    "    secrets[\"access_token\"],\n",
    "    secrets[\"access_token_secret\"]\n",
    ")"
   ]
  },
  {
   "cell_type": "code",
   "execution_count": 20,
   "id": "6ff5e9d3",
   "metadata": {},
   "outputs": [
    {
     "name": "stdout",
     "output_type": "stream",
     "text": [
      "<requests_oauthlib.oauth1_auth.OAuth1 object at 0x7f14283dfe80>\n"
     ]
    }
   ],
   "source": [
    "print(auth)"
   ]
  },
  {
   "cell_type": "code",
   "execution_count": null,
   "id": "71c33a24",
   "metadata": {},
   "outputs": [],
   "source": []
  }
 ],
 "metadata": {
  "kernelspec": {
   "display_name": "Python3",
   "language": "python",
   "name": "python3"
  },
  "language_info": {
   "codemirror_mode": {
    "name": "ipython",
    "version": 3
   },
   "file_extension": ".py",
   "mimetype": "text/x-python",
   "name": "python",
   "nbconvert_exporter": "python",
   "pygments_lexer": "ipython3",
   "version": "3.10.8"
  }
 },
 "nbformat": 4,
 "nbformat_minor": 5
}
