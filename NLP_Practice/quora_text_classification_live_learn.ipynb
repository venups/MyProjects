{
  "cells": [
    {
      "cell_type": "markdown",
      "metadata": {
        "id": "view-in-github",
        "colab_type": "text"
      },
      "source": [
        "<a href=\"https://colab.research.google.com/github/venups/MyProjects/blob/main/NLP_Practice/quora_text_classification_live_learn.ipynb\" target=\"_parent\"><img src=\"https://colab.research.google.com/assets/colab-badge.svg\" alt=\"Open In Colab\"/></a>"
      ]
    },
    {
      "cell_type": "markdown",
      "metadata": {
        "id": "2U4LKTljZkey"
      },
      "source": [
        "# quora-text-classification-live-learn\n",
        "\n",
        "Use the \"Run\" button to execute the code.\n",
        "\n",
        "#######Try to sync"
      ]
    },
    {
      "cell_type": "code",
      "execution_count": null,
      "metadata": {
        "colab": {
          "base_uri": "https://localhost:8080/"
        },
        "id": "mlhmKQq6aUuv",
        "outputId": "6c480386-b632-4a30-c286-75300d06709b"
      },
      "outputs": [
        {
          "name": "stdout",
          "output_type": "stream",
          "text": [
            "Drive already mounted at /content/drive; to attempt to forcibly remount, call drive.mount(\"/content/drive\", force_remount=True).\n"
          ]
        }
      ],
      "source": [
        "\n",
        "from google.colab import drive\n",
        "drive.mount('/content/drive')"
      ]
    },
    {
      "cell_type": "markdown",
      "metadata": {
        "id": "u391-sqha91q"
      },
      "source": [
        "# First Bag of Words NLP \n",
        "\n",
        "Outline:\n",
        "- Download and Explore the data\n",
        "- Text preprocessing technique\n",
        "- Implement Bag of words model\n",
        "- Train ML model for text classification\n",
        "- Make predictions and submit to Kaggle"
      ]
    },
    {
      "cell_type": "markdown",
      "metadata": {
        "id": "wKQN4Gltb3tp"
      },
      "source": [
        "## Download and Explore the Data\n",
        "\n",
        "Outline:\n",
        "1. Download the dataset from Kaggle to Cloab\n",
        "2. Explore the data using Pandas\n",
        "3. Create a working sample (work with small subset of database while working on big models)"
      ]
    },
    {
      "cell_type": "markdown",
      "metadata": {
        "id": "nf0ut-I2dSEB"
      },
      "source": [
        "### Download the Data to Colab"
      ]
    },
    {
      "cell_type": "code",
      "execution_count": null,
      "metadata": {
        "colab": {
          "base_uri": "https://localhost:8080/"
        },
        "id": "y4RI2oOm3GTy",
        "outputId": "542aa1bf-c0e0-46f8-a0ca-aefb26e58de9"
      },
      "outputs": [
        {
          "output_type": "stream",
          "name": "stdout",
          "text": [
            "kaggle.json  sample_data\n"
          ]
        }
      ],
      "source": [
        "!ls #Shell command can be executed using exclmation mark "
      ]
    },
    {
      "cell_type": "code",
      "execution_count": null,
      "metadata": {
        "id": "cycKQe0d4qKW"
      },
      "outputs": [],
      "source": [
        "import os \n",
        "os.environ['KAGGLE_CONFIG_DIR']='.'"
      ]
    },
    {
      "cell_type": "code",
      "execution_count": null,
      "metadata": {
        "colab": {
          "base_uri": "https://localhost:8080/"
        },
        "id": "IYSEIBCGcep_",
        "outputId": "60a44411-93bf-44b1-9adc-ddb64a379c9e"
      },
      "outputs": [
        {
          "output_type": "stream",
          "name": "stdout",
          "text": [
            "Warning: Your Kaggle API key is readable by other users on this system! To fix this, you can run 'chmod 600 ./kaggle.json'\n",
            "Downloading train.csv.zip to data\n",
            " 96% 53.0M/54.9M [00:00<00:00, 129MB/s] \n",
            "100% 54.9M/54.9M [00:00<00:00, 104MB/s]\n"
          ]
        }
      ],
      "source": [
        "#!pip install --upgrade kaggle\n",
        "!kaggle competitions download -c quora-insincere-questions-classification -f train.csv -p data\n",
        "# This is a shell command from the competition website"
      ]
    },
    {
      "cell_type": "code",
      "execution_count": null,
      "metadata": {
        "colab": {
          "base_uri": "https://localhost:8080/"
        },
        "id": "CIp6xanqcenU",
        "outputId": "50b610e8-0b0d-4be3-f9a3-72af304ff5e2"
      },
      "outputs": [
        {
          "output_type": "stream",
          "name": "stdout",
          "text": [
            "Warning: Your Kaggle API key is readable by other users on this system! To fix this, you can run 'chmod 600 ./kaggle.json'\n",
            "Downloading test.csv.zip to data\n",
            " 57% 9.00M/15.8M [00:00<00:00, 34.2MB/s]\n",
            "100% 15.8M/15.8M [00:00<00:00, 53.6MB/s]\n",
            "Warning: Your Kaggle API key is readable by other users on this system! To fix this, you can run 'chmod 600 ./kaggle.json'\n",
            "Downloading sample_submission.csv.zip to data\n",
            "100% 4.09M/4.09M [00:00<00:00, 32.1MB/s]\n",
            "100% 4.09M/4.09M [00:00<00:00, 32.0MB/s]\n"
          ]
        }
      ],
      "source": [
        "!kaggle competitions download -c quora-insincere-questions-classification -f test.csv -p data\n",
        "!kaggle competitions download -c quora-insincere-questions-classification -f sample_submission.csv -p data"
      ]
    },
    {
      "cell_type": "markdown",
      "metadata": {
        "id": "4hHb25q92MKH"
      },
      "source": [
        "### Explore the Data Using Pandas"
      ]
    },
    {
      "cell_type": "code",
      "execution_count": null,
      "metadata": {
        "id": "hu6bDrN0cedi"
      },
      "outputs": [],
      "source": [
        "train_fname = 'data/train.csv.zip'\n",
        "test_fname = 'data/test.csv.zip'\n",
        "sample_fname = 'data/sample_submission.csv.zip'"
      ]
    },
    {
      "cell_type": "code",
      "execution_count": null,
      "metadata": {
        "id": "nvSkZ1Ye1mNm"
      },
      "outputs": [],
      "source": [
        "import pandas as pd"
      ]
    },
    {
      "cell_type": "code",
      "execution_count": null,
      "metadata": {
        "id": "7Y0eMPBS2xwR"
      },
      "outputs": [],
      "source": [
        "raw_df = pd.read_csv(train_fname)"
      ]
    },
    {
      "cell_type": "code",
      "execution_count": null,
      "metadata": {
        "colab": {
          "base_uri": "https://localhost:8080/",
          "height": 424
        },
        "id": "QRphwswO9T2q",
        "outputId": "554dfedf-6ae0-481c-fff4-73a7aac577fe"
      },
      "outputs": [
        {
          "output_type": "execute_result",
          "data": {
            "text/plain": [
              "                          qid  \\\n",
              "0        00002165364db923c7e6   \n",
              "1        000032939017120e6e44   \n",
              "2        0000412ca6e4628ce2cf   \n",
              "3        000042bf85aa498cd78e   \n",
              "4        0000455dfa3e01eae3af   \n",
              "...                       ...   \n",
              "1306117  ffffcc4e2331aaf1e41e   \n",
              "1306118  ffffd431801e5a2f4861   \n",
              "1306119  ffffd48fb36b63db010c   \n",
              "1306120  ffffec519fa37cf60c78   \n",
              "1306121  ffffed09fedb5088744a   \n",
              "\n",
              "                                             question_text  target  \n",
              "0        How did Quebec nationalists see their province...       0  \n",
              "1        Do you have an adopted dog, how would you enco...       0  \n",
              "2        Why does velocity affect time? Does velocity a...       0  \n",
              "3        How did Otto von Guericke used the Magdeburg h...       0  \n",
              "4        Can I convert montra helicon D to a mountain b...       0  \n",
              "...                                                    ...     ...  \n",
              "1306117  What other technical skills do you need as a c...       0  \n",
              "1306118  Does MS in ECE have good job prospects in USA ...       0  \n",
              "1306119                          Is foam insulation toxic?       0  \n",
              "1306120  How can one start a research project based on ...       0  \n",
              "1306121  Who wins in a battle between a Wolverine and a...       0  \n",
              "\n",
              "[1306122 rows x 3 columns]"
            ],
            "text/html": [
              "\n",
              "  <div id=\"df-80c94bd2-efeb-4ce9-aec8-5ab756b41b41\">\n",
              "    <div class=\"colab-df-container\">\n",
              "      <div>\n",
              "<style scoped>\n",
              "    .dataframe tbody tr th:only-of-type {\n",
              "        vertical-align: middle;\n",
              "    }\n",
              "\n",
              "    .dataframe tbody tr th {\n",
              "        vertical-align: top;\n",
              "    }\n",
              "\n",
              "    .dataframe thead th {\n",
              "        text-align: right;\n",
              "    }\n",
              "</style>\n",
              "<table border=\"1\" class=\"dataframe\">\n",
              "  <thead>\n",
              "    <tr style=\"text-align: right;\">\n",
              "      <th></th>\n",
              "      <th>qid</th>\n",
              "      <th>question_text</th>\n",
              "      <th>target</th>\n",
              "    </tr>\n",
              "  </thead>\n",
              "  <tbody>\n",
              "    <tr>\n",
              "      <th>0</th>\n",
              "      <td>00002165364db923c7e6</td>\n",
              "      <td>How did Quebec nationalists see their province...</td>\n",
              "      <td>0</td>\n",
              "    </tr>\n",
              "    <tr>\n",
              "      <th>1</th>\n",
              "      <td>000032939017120e6e44</td>\n",
              "      <td>Do you have an adopted dog, how would you enco...</td>\n",
              "      <td>0</td>\n",
              "    </tr>\n",
              "    <tr>\n",
              "      <th>2</th>\n",
              "      <td>0000412ca6e4628ce2cf</td>\n",
              "      <td>Why does velocity affect time? Does velocity a...</td>\n",
              "      <td>0</td>\n",
              "    </tr>\n",
              "    <tr>\n",
              "      <th>3</th>\n",
              "      <td>000042bf85aa498cd78e</td>\n",
              "      <td>How did Otto von Guericke used the Magdeburg h...</td>\n",
              "      <td>0</td>\n",
              "    </tr>\n",
              "    <tr>\n",
              "      <th>4</th>\n",
              "      <td>0000455dfa3e01eae3af</td>\n",
              "      <td>Can I convert montra helicon D to a mountain b...</td>\n",
              "      <td>0</td>\n",
              "    </tr>\n",
              "    <tr>\n",
              "      <th>...</th>\n",
              "      <td>...</td>\n",
              "      <td>...</td>\n",
              "      <td>...</td>\n",
              "    </tr>\n",
              "    <tr>\n",
              "      <th>1306117</th>\n",
              "      <td>ffffcc4e2331aaf1e41e</td>\n",
              "      <td>What other technical skills do you need as a c...</td>\n",
              "      <td>0</td>\n",
              "    </tr>\n",
              "    <tr>\n",
              "      <th>1306118</th>\n",
              "      <td>ffffd431801e5a2f4861</td>\n",
              "      <td>Does MS in ECE have good job prospects in USA ...</td>\n",
              "      <td>0</td>\n",
              "    </tr>\n",
              "    <tr>\n",
              "      <th>1306119</th>\n",
              "      <td>ffffd48fb36b63db010c</td>\n",
              "      <td>Is foam insulation toxic?</td>\n",
              "      <td>0</td>\n",
              "    </tr>\n",
              "    <tr>\n",
              "      <th>1306120</th>\n",
              "      <td>ffffec519fa37cf60c78</td>\n",
              "      <td>How can one start a research project based on ...</td>\n",
              "      <td>0</td>\n",
              "    </tr>\n",
              "    <tr>\n",
              "      <th>1306121</th>\n",
              "      <td>ffffed09fedb5088744a</td>\n",
              "      <td>Who wins in a battle between a Wolverine and a...</td>\n",
              "      <td>0</td>\n",
              "    </tr>\n",
              "  </tbody>\n",
              "</table>\n",
              "<p>1306122 rows × 3 columns</p>\n",
              "</div>\n",
              "      <button class=\"colab-df-convert\" onclick=\"convertToInteractive('df-80c94bd2-efeb-4ce9-aec8-5ab756b41b41')\"\n",
              "              title=\"Convert this dataframe to an interactive table.\"\n",
              "              style=\"display:none;\">\n",
              "        \n",
              "  <svg xmlns=\"http://www.w3.org/2000/svg\" height=\"24px\"viewBox=\"0 0 24 24\"\n",
              "       width=\"24px\">\n",
              "    <path d=\"M0 0h24v24H0V0z\" fill=\"none\"/>\n",
              "    <path d=\"M18.56 5.44l.94 2.06.94-2.06 2.06-.94-2.06-.94-.94-2.06-.94 2.06-2.06.94zm-11 1L8.5 8.5l.94-2.06 2.06-.94-2.06-.94L8.5 2.5l-.94 2.06-2.06.94zm10 10l.94 2.06.94-2.06 2.06-.94-2.06-.94-.94-2.06-.94 2.06-2.06.94z\"/><path d=\"M17.41 7.96l-1.37-1.37c-.4-.4-.92-.59-1.43-.59-.52 0-1.04.2-1.43.59L10.3 9.45l-7.72 7.72c-.78.78-.78 2.05 0 2.83L4 21.41c.39.39.9.59 1.41.59.51 0 1.02-.2 1.41-.59l7.78-7.78 2.81-2.81c.8-.78.8-2.07 0-2.86zM5.41 20L4 18.59l7.72-7.72 1.47 1.35L5.41 20z\"/>\n",
              "  </svg>\n",
              "      </button>\n",
              "      \n",
              "  <style>\n",
              "    .colab-df-container {\n",
              "      display:flex;\n",
              "      flex-wrap:wrap;\n",
              "      gap: 12px;\n",
              "    }\n",
              "\n",
              "    .colab-df-convert {\n",
              "      background-color: #E8F0FE;\n",
              "      border: none;\n",
              "      border-radius: 50%;\n",
              "      cursor: pointer;\n",
              "      display: none;\n",
              "      fill: #1967D2;\n",
              "      height: 32px;\n",
              "      padding: 0 0 0 0;\n",
              "      width: 32px;\n",
              "    }\n",
              "\n",
              "    .colab-df-convert:hover {\n",
              "      background-color: #E2EBFA;\n",
              "      box-shadow: 0px 1px 2px rgba(60, 64, 67, 0.3), 0px 1px 3px 1px rgba(60, 64, 67, 0.15);\n",
              "      fill: #174EA6;\n",
              "    }\n",
              "\n",
              "    [theme=dark] .colab-df-convert {\n",
              "      background-color: #3B4455;\n",
              "      fill: #D2E3FC;\n",
              "    }\n",
              "\n",
              "    [theme=dark] .colab-df-convert:hover {\n",
              "      background-color: #434B5C;\n",
              "      box-shadow: 0px 1px 3px 1px rgba(0, 0, 0, 0.15);\n",
              "      filter: drop-shadow(0px 1px 2px rgba(0, 0, 0, 0.3));\n",
              "      fill: #FFFFFF;\n",
              "    }\n",
              "  </style>\n",
              "\n",
              "      <script>\n",
              "        const buttonEl =\n",
              "          document.querySelector('#df-80c94bd2-efeb-4ce9-aec8-5ab756b41b41 button.colab-df-convert');\n",
              "        buttonEl.style.display =\n",
              "          google.colab.kernel.accessAllowed ? 'block' : 'none';\n",
              "\n",
              "        async function convertToInteractive(key) {\n",
              "          const element = document.querySelector('#df-80c94bd2-efeb-4ce9-aec8-5ab756b41b41');\n",
              "          const dataTable =\n",
              "            await google.colab.kernel.invokeFunction('convertToInteractive',\n",
              "                                                     [key], {});\n",
              "          if (!dataTable) return;\n",
              "\n",
              "          const docLinkHtml = 'Like what you see? Visit the ' +\n",
              "            '<a target=\"_blank\" href=https://colab.research.google.com/notebooks/data_table.ipynb>data table notebook</a>'\n",
              "            + ' to learn more about interactive tables.';\n",
              "          element.innerHTML = '';\n",
              "          dataTable['output_type'] = 'display_data';\n",
              "          await google.colab.output.renderOutput(dataTable, element);\n",
              "          const docLink = document.createElement('div');\n",
              "          docLink.innerHTML = docLinkHtml;\n",
              "          element.appendChild(docLink);\n",
              "        }\n",
              "      </script>\n",
              "    </div>\n",
              "  </div>\n",
              "  "
            ]
          },
          "metadata": {},
          "execution_count": 8
        }
      ],
      "source": [
        "raw_df"
      ]
    },
    {
      "cell_type": "code",
      "execution_count": null,
      "metadata": {
        "id": "02PsB8Ri1mLK"
      },
      "outputs": [],
      "source": [
        "sincere_df = raw_df[raw_df.target==0]"
      ]
    },
    {
      "cell_type": "code",
      "execution_count": null,
      "metadata": {
        "colab": {
          "base_uri": "https://localhost:8080/"
        },
        "id": "gFGZkH4n_QPN",
        "outputId": "018ed06a-a0b1-49a6-ba4c-bea69cd8dd49"
      },
      "outputs": [
        {
          "output_type": "execute_result",
          "data": {
            "text/plain": [
              "array(['How did Quebec nationalists see their province as a nation in the 1960s?',\n",
              "       'Do you have an adopted dog, how would you encourage people to adopt and not shop?',\n",
              "       'Why does velocity affect time? Does velocity affect space geometry?',\n",
              "       'How did Otto von Guericke used the Magdeburg hemispheres?',\n",
              "       'Can I convert montra helicon D to a mountain bike by just changing the tyres?',\n",
              "       'Is Gaza slowly becoming Auschwitz, Dachau or Treblinka for Palestinians?',\n",
              "       'Why does Quora automatically ban conservative opinions when reported, but does not do the same for liberal views?',\n",
              "       'Is it crazy if I wash or wipe my groceries off? Germs are everywhere.',\n",
              "       'Is there such a thing as dressing moderately, and if so, how is that different than dressing modestly?',\n",
              "       'Is it just me or have you ever been in this phase wherein you became ignorant to the people you once loved, completely disregarding their feelings/lives so you get to have something go your way and feel temporarily at ease. How did things change?'],\n",
              "      dtype=object)"
            ]
          },
          "metadata": {},
          "execution_count": 10
        }
      ],
      "source": [
        "sincere_df.question_text.values[:10]"
      ]
    },
    {
      "cell_type": "code",
      "execution_count": null,
      "metadata": {
        "id": "Bezkq1OQ_Wc1"
      },
      "outputs": [],
      "source": [
        "insincere_df = raw_df[raw_df.target==1]"
      ]
    },
    {
      "cell_type": "code",
      "execution_count": null,
      "metadata": {
        "colab": {
          "base_uri": "https://localhost:8080/"
        },
        "id": "ZdzqJV7S_bxx",
        "outputId": "596c168f-0c5e-44e2-924e-500950829fc7"
      },
      "outputs": [
        {
          "output_type": "execute_result",
          "data": {
            "text/plain": [
              "array(['Has the United States become the largest dictatorship in the world?',\n",
              "       'Which babies are more sweeter to their parents? Dark skin babies or light skin babies?',\n",
              "       \"If blacks support school choice and mandatory sentencing for criminals why don't they vote Republican?\",\n",
              "       'I am gay boy and I love my cousin (boy). He is sexy, but I dont know what to do. He is hot, and I want to see his di**. What should I do?',\n",
              "       'Which races have the smallest penis?',\n",
              "       'Why do females find penises ugly?',\n",
              "       'How do I marry an American woman for a Green Card? How much do they charge?',\n",
              "       \"Why do Europeans say they're the superior race, when in fact it took them over 2,000 years until mid 19th century to surpass China's largest economy?\",\n",
              "       'Did Julius Caesar bring a tyrannosaurus rex on his campaigns to frighten the Celts into submission?',\n",
              "       \"In what manner has Republican backing of 'states rights' been hypocritical and what ways have they actually restricted the ability of states to make their own laws?\"],\n",
              "      dtype=object)"
            ]
          },
          "metadata": {},
          "execution_count": 12
        }
      ],
      "source": [
        "insincere_df.question_text.values[:10]"
      ]
    },
    {
      "cell_type": "code",
      "execution_count": null,
      "metadata": {
        "colab": {
          "base_uri": "https://localhost:8080/",
          "height": 442
        },
        "id": "vUrpeQzp_d-B",
        "outputId": "4176f0fa-7f90-4583-a210-376b2f5eec16"
      },
      "outputs": [
        {
          "output_type": "execute_result",
          "data": {
            "text/plain": [
              "<Axes: >"
            ]
          },
          "metadata": {},
          "execution_count": 13
        },
        {
          "output_type": "display_data",
          "data": {
            "text/plain": [
              "<Figure size 640x480 with 1 Axes>"
            ],
            "image/png": "[encoded data removed]"
          },
          "metadata": {}
        }
      ],
      "source": [
        "raw_df.target.value_counts(normalize=True).plot(kind='bar')"
      ]
    },
    {
      "cell_type": "code",
      "execution_count": null,
      "metadata": {
        "id": "_wTNdPxt_eDi"
      },
      "outputs": [],
      "source": [
        "test_df = pd.read_csv(test_fname)"
      ]
    },
    {
      "cell_type": "code",
      "execution_count": null,
      "metadata": {
        "id": "uVzMTfscAu3t",
        "colab": {
          "base_uri": "https://localhost:8080/",
          "height": 424
        },
        "outputId": "95045897-c3da-46dd-9a88-cd902fa1d1c0"
      },
      "outputs": [
        {
          "output_type": "execute_result",
          "data": {
            "text/plain": [
              "                         qid  \\\n",
              "0       0000163e3ea7c7a74cd7   \n",
              "1       00002bd4fb5d505b9161   \n",
              "2       00007756b4a147d2b0b3   \n",
              "3       000086e4b7e1c7146103   \n",
              "4       0000c4c3fbe8785a3090   \n",
              "...                      ...   \n",
              "375801  ffff7fa746bd6d6197a9   \n",
              "375802  ffffa1be31c43046ab6b   \n",
              "375803  ffffae173b6ca6bfa563   \n",
              "375804  ffffb1f7f1a008620287   \n",
              "375805  fffff85473f4699474b0   \n",
              "\n",
              "                                            question_text  \n",
              "0       Why do so many women become so rude and arroga...  \n",
              "1       When should I apply for RV college of engineer...  \n",
              "2       What is it really like to be a nurse practitio...  \n",
              "3                                  Who are entrepreneurs?  \n",
              "4        Is education really making good people nowadays?  \n",
              "...                                                   ...  \n",
              "375801  How many countries listed in gold import in in...  \n",
              "375802  Is there an alternative to dresses on formal p...  \n",
              "375803  Where I can find best friendship quotes in Tel...  \n",
              "375804        What are the causes of refraction of light?  \n",
              "375805  Climate change is a worrying topic. How much t...  \n",
              "\n",
              "[375806 rows x 2 columns]"
            ],
            "text/html": [
              "\n",
              "  <div id=\"df-c95ed416-c211-4e96-9cb6-796153403c93\">\n",
              "    <div class=\"colab-df-container\">\n",
              "      <div>\n",
              "<style scoped>\n",
              "    .dataframe tbody tr th:only-of-type {\n",
              "        vertical-align: middle;\n",
              "    }\n",
              "\n",
              "    .dataframe tbody tr th {\n",
              "        vertical-align: top;\n",
              "    }\n",
              "\n",
              "    .dataframe thead th {\n",
              "        text-align: right;\n",
              "    }\n",
              "</style>\n",
              "<table border=\"1\" class=\"dataframe\">\n",
              "  <thead>\n",
              "    <tr style=\"text-align: right;\">\n",
              "      <th></th>\n",
              "      <th>qid</th>\n",
              "      <th>question_text</th>\n",
              "    </tr>\n",
              "  </thead>\n",
              "  <tbody>\n",
              "    <tr>\n",
              "      <th>0</th>\n",
              "      <td>0000163e3ea7c7a74cd7</td>\n",
              "      <td>Why do so many women become so rude and arroga...</td>\n",
              "    </tr>\n",
              "    <tr>\n",
              "      <th>1</th>\n",
              "      <td>00002bd4fb5d505b9161</td>\n",
              "      <td>When should I apply for RV college of engineer...</td>\n",
              "    </tr>\n",
              "    <tr>\n",
              "      <th>2</th>\n",
              "      <td>00007756b4a147d2b0b3</td>\n",
              "      <td>What is it really like to be a nurse practitio...</td>\n",
              "    </tr>\n",
              "    <tr>\n",
              "      <th>3</th>\n",
              "      <td>000086e4b7e1c7146103</td>\n",
              "      <td>Who are entrepreneurs?</td>\n",
              "    </tr>\n",
              "    <tr>\n",
              "      <th>4</th>\n",
              "      <td>0000c4c3fbe8785a3090</td>\n",
              "      <td>Is education really making good people nowadays?</td>\n",
              "    </tr>\n",
              "    <tr>\n",
              "      <th>...</th>\n",
              "      <td>...</td>\n",
              "      <td>...</td>\n",
              "    </tr>\n",
              "    <tr>\n",
              "      <th>375801</th>\n",
              "      <td>ffff7fa746bd6d6197a9</td>\n",
              "      <td>How many countries listed in gold import in in...</td>\n",
              "    </tr>\n",
              "    <tr>\n",
              "      <th>375802</th>\n",
              "      <td>ffffa1be31c43046ab6b</td>\n",
              "      <td>Is there an alternative to dresses on formal p...</td>\n",
              "    </tr>\n",
              "    <tr>\n",
              "      <th>375803</th>\n",
              "      <td>ffffae173b6ca6bfa563</td>\n",
              "      <td>Where I can find best friendship quotes in Tel...</td>\n",
              "    </tr>\n",
              "    <tr>\n",
              "      <th>375804</th>\n",
              "      <td>ffffb1f7f1a008620287</td>\n",
              "      <td>What are the causes of refraction of light?</td>\n",
              "    </tr>\n",
              "    <tr>\n",
              "      <th>375805</th>\n",
              "      <td>fffff85473f4699474b0</td>\n",
              "      <td>Climate change is a worrying topic. How much t...</td>\n",
              "    </tr>\n",
              "  </tbody>\n",
              "</table>\n",
              "<p>375806 rows × 2 columns</p>\n",
              "</div>\n",
              "      <button class=\"colab-df-convert\" onclick=\"convertToInteractive('df-c95ed416-c211-4e96-9cb6-796153403c93')\"\n",
              "              title=\"Convert this dataframe to an interactive table.\"\n",
              "              style=\"display:none;\">\n",
              "        \n",
              "  <svg xmlns=\"http://www.w3.org/2000/svg\" height=\"24px\"viewBox=\"0 0 24 24\"\n",
              "       width=\"24px\">\n",
              "    <path d=\"M0 0h24v24H0V0z\" fill=\"none\"/>\n",
              "    <path d=\"M18.56 5.44l.94 2.06.94-2.06 2.06-.94-2.06-.94-.94-2.06-.94 2.06-2.06.94zm-11 1L8.5 8.5l.94-2.06 2.06-.94-2.06-.94L8.5 2.5l-.94 2.06-2.06.94zm10 10l.94 2.06.94-2.06 2.06-.94-2.06-.94-.94-2.06-.94 2.06-2.06.94z\"/><path d=\"M17.41 7.96l-1.37-1.37c-.4-.4-.92-.59-1.43-.59-.52 0-1.04.2-1.43.59L10.3 9.45l-7.72 7.72c-.78.78-.78 2.05 0 2.83L4 21.41c.39.39.9.59 1.41.59.51 0 1.02-.2 1.41-.59l7.78-7.78 2.81-2.81c.8-.78.8-2.07 0-2.86zM5.41 20L4 18.59l7.72-7.72 1.47 1.35L5.41 20z\"/>\n",
              "  </svg>\n",
              "      </button>\n",
              "      \n",
              "  <style>\n",
              "    .colab-df-container {\n",
              "      display:flex;\n",
              "      flex-wrap:wrap;\n",
              "      gap: 12px;\n",
              "    }\n",
              "\n",
              "    .colab-df-convert {\n",
              "      background-color: #E8F0FE;\n",
              "      border: none;\n",
              "      border-radius: 50%;\n",
              "      cursor: pointer;\n",
              "      display: none;\n",
              "      fill: #1967D2;\n",
              "      height: 32px;\n",
              "      padding: 0 0 0 0;\n",
              "      width: 32px;\n",
              "    }\n",
              "\n",
              "    .colab-df-convert:hover {\n",
              "      background-color: #E2EBFA;\n",
              "      box-shadow: 0px 1px 2px rgba(60, 64, 67, 0.3), 0px 1px 3px 1px rgba(60, 64, 67, 0.15);\n",
              "      fill: #174EA6;\n",
              "    }\n",
              "\n",
              "    [theme=dark] .colab-df-convert {\n",
              "      background-color: #3B4455;\n",
              "      fill: #D2E3FC;\n",
              "    }\n",
              "\n",
              "    [theme=dark] .colab-df-convert:hover {\n",
              "      background-color: #434B5C;\n",
              "      box-shadow: 0px 1px 3px 1px rgba(0, 0, 0, 0.15);\n",
              "      filter: drop-shadow(0px 1px 2px rgba(0, 0, 0, 0.3));\n",
              "      fill: #FFFFFF;\n",
              "    }\n",
              "  </style>\n",
              "\n",
              "      <script>\n",
              "        const buttonEl =\n",
              "          document.querySelector('#df-c95ed416-c211-4e96-9cb6-796153403c93 button.colab-df-convert');\n",
              "        buttonEl.style.display =\n",
              "          google.colab.kernel.accessAllowed ? 'block' : 'none';\n",
              "\n",
              "        async function convertToInteractive(key) {\n",
              "          const element = document.querySelector('#df-c95ed416-c211-4e96-9cb6-796153403c93');\n",
              "          const dataTable =\n",
              "            await google.colab.kernel.invokeFunction('convertToInteractive',\n",
              "                                                     [key], {});\n",
              "          if (!dataTable) return;\n",
              "\n",
              "          const docLinkHtml = 'Like what you see? Visit the ' +\n",
              "            '<a target=\"_blank\" href=https://colab.research.google.com/notebooks/data_table.ipynb>data table notebook</a>'\n",
              "            + ' to learn more about interactive tables.';\n",
              "          element.innerHTML = '';\n",
              "          dataTable['output_type'] = 'display_data';\n",
              "          await google.colab.output.renderOutput(dataTable, element);\n",
              "          const docLink = document.createElement('div');\n",
              "          docLink.innerHTML = docLinkHtml;\n",
              "          element.appendChild(docLink);\n",
              "        }\n",
              "      </script>\n",
              "    </div>\n",
              "  </div>\n",
              "  "
            ]
          },
          "metadata": {},
          "execution_count": 15
        }
      ],
      "source": [
        "test_df"
      ]
    },
    {
      "cell_type": "code",
      "execution_count": null,
      "metadata": {
        "id": "CL-6ygLlAu8S"
      },
      "outputs": [],
      "source": [
        "sub_df = pd.read_csv(sample_fname) "
      ]
    },
    {
      "cell_type": "code",
      "execution_count": null,
      "metadata": {
        "id": "dcB31eWAAvCP",
        "colab": {
          "base_uri": "https://localhost:8080/",
          "height": 424
        },
        "outputId": "726310d3-b4e9-4d72-b092-31192313240d"
      },
      "outputs": [
        {
          "output_type": "execute_result",
          "data": {
            "text/plain": [
              "                         qid  prediction\n",
              "0       0000163e3ea7c7a74cd7           0\n",
              "1       00002bd4fb5d505b9161           0\n",
              "2       00007756b4a147d2b0b3           0\n",
              "3       000086e4b7e1c7146103           0\n",
              "4       0000c4c3fbe8785a3090           0\n",
              "...                      ...         ...\n",
              "375801  ffff7fa746bd6d6197a9           0\n",
              "375802  ffffa1be31c43046ab6b           0\n",
              "375803  ffffae173b6ca6bfa563           0\n",
              "375804  ffffb1f7f1a008620287           0\n",
              "375805  fffff85473f4699474b0           0\n",
              "\n",
              "[375806 rows x 2 columns]"
            ],
            "text/html": [
              "\n",
              "  <div id=\"df-d32f36f1-d077-496c-b02e-06ea2fa9aa0b\">\n",
              "    <div class=\"colab-df-container\">\n",
              "      <div>\n",
              "<style scoped>\n",
              "    .dataframe tbody tr th:only-of-type {\n",
              "        vertical-align: middle;\n",
              "    }\n",
              "\n",
              "    .dataframe tbody tr th {\n",
              "        vertical-align: top;\n",
              "    }\n",
              "\n",
              "    .dataframe thead th {\n",
              "        text-align: right;\n",
              "    }\n",
              "</style>\n",
              "<table border=\"1\" class=\"dataframe\">\n",
              "  <thead>\n",
              "    <tr style=\"text-align: right;\">\n",
              "      <th></th>\n",
              "      <th>qid</th>\n",
              "      <th>prediction</th>\n",
              "    </tr>\n",
              "  </thead>\n",
              "  <tbody>\n",
              "    <tr>\n",
              "      <th>0</th>\n",
              "      <td>0000163e3ea7c7a74cd7</td>\n",
              "      <td>0</td>\n",
              "    </tr>\n",
              "    <tr>\n",
              "      <th>1</th>\n",
              "      <td>00002bd4fb5d505b9161</td>\n",
              "      <td>0</td>\n",
              "    </tr>\n",
              "    <tr>\n",
              "      <th>2</th>\n",
              "      <td>00007756b4a147d2b0b3</td>\n",
              "      <td>0</td>\n",
              "    </tr>\n",
              "    <tr>\n",
              "      <th>3</th>\n",
              "      <td>000086e4b7e1c7146103</td>\n",
              "      <td>0</td>\n",
              "    </tr>\n",
              "    <tr>\n",
              "      <th>4</th>\n",
              "      <td>0000c4c3fbe8785a3090</td>\n",
              "      <td>0</td>\n",
              "    </tr>\n",
              "    <tr>\n",
              "      <th>...</th>\n",
              "      <td>...</td>\n",
              "      <td>...</td>\n",
              "    </tr>\n",
              "    <tr>\n",
              "      <th>375801</th>\n",
              "      <td>ffff7fa746bd6d6197a9</td>\n",
              "      <td>0</td>\n",
              "    </tr>\n",
              "    <tr>\n",
              "      <th>375802</th>\n",
              "      <td>ffffa1be31c43046ab6b</td>\n",
              "      <td>0</td>\n",
              "    </tr>\n",
              "    <tr>\n",
              "      <th>375803</th>\n",
              "      <td>ffffae173b6ca6bfa563</td>\n",
              "      <td>0</td>\n",
              "    </tr>\n",
              "    <tr>\n",
              "      <th>375804</th>\n",
              "      <td>ffffb1f7f1a008620287</td>\n",
              "      <td>0</td>\n",
              "    </tr>\n",
              "    <tr>\n",
              "      <th>375805</th>\n",
              "      <td>fffff85473f4699474b0</td>\n",
              "      <td>0</td>\n",
              "    </tr>\n",
              "  </tbody>\n",
              "</table>\n",
              "<p>375806 rows × 2 columns</p>\n",
              "</div>\n",
              "      <button class=\"colab-df-convert\" onclick=\"convertToInteractive('df-d32f36f1-d077-496c-b02e-06ea2fa9aa0b')\"\n",
              "              title=\"Convert this dataframe to an interactive table.\"\n",
              "              style=\"display:none;\">\n",
              "        \n",
              "  <svg xmlns=\"http://www.w3.org/2000/svg\" height=\"24px\"viewBox=\"0 0 24 24\"\n",
              "       width=\"24px\">\n",
              "    <path d=\"M0 0h24v24H0V0z\" fill=\"none\"/>\n",
              "    <path d=\"M18.56 5.44l.94 2.06.94-2.06 2.06-.94-2.06-.94-.94-2.06-.94 2.06-2.06.94zm-11 1L8.5 8.5l.94-2.06 2.06-.94-2.06-.94L8.5 2.5l-.94 2.06-2.06.94zm10 10l.94 2.06.94-2.06 2.06-.94-2.06-.94-.94-2.06-.94 2.06-2.06.94z\"/><path d=\"M17.41 7.96l-1.37-1.37c-.4-.4-.92-.59-1.43-.59-.52 0-1.04.2-1.43.59L10.3 9.45l-7.72 7.72c-.78.78-.78 2.05 0 2.83L4 21.41c.39.39.9.59 1.41.59.51 0 1.02-.2 1.41-.59l7.78-7.78 2.81-2.81c.8-.78.8-2.07 0-2.86zM5.41 20L4 18.59l7.72-7.72 1.47 1.35L5.41 20z\"/>\n",
              "  </svg>\n",
              "      </button>\n",
              "      \n",
              "  <style>\n",
              "    .colab-df-container {\n",
              "      display:flex;\n",
              "      flex-wrap:wrap;\n",
              "      gap: 12px;\n",
              "    }\n",
              "\n",
              "    .colab-df-convert {\n",
              "      background-color: #E8F0FE;\n",
              "      border: none;\n",
              "      border-radius: 50%;\n",
              "      cursor: pointer;\n",
              "      display: none;\n",
              "      fill: #1967D2;\n",
              "      height: 32px;\n",
              "      padding: 0 0 0 0;\n",
              "      width: 32px;\n",
              "    }\n",
              "\n",
              "    .colab-df-convert:hover {\n",
              "      background-color: #E2EBFA;\n",
              "      box-shadow: 0px 1px 2px rgba(60, 64, 67, 0.3), 0px 1px 3px 1px rgba(60, 64, 67, 0.15);\n",
              "      fill: #174EA6;\n",
              "    }\n",
              "\n",
              "    [theme=dark] .colab-df-convert {\n",
              "      background-color: #3B4455;\n",
              "      fill: #D2E3FC;\n",
              "    }\n",
              "\n",
              "    [theme=dark] .colab-df-convert:hover {\n",
              "      background-color: #434B5C;\n",
              "      box-shadow: 0px 1px 3px 1px rgba(0, 0, 0, 0.15);\n",
              "      filter: drop-shadow(0px 1px 2px rgba(0, 0, 0, 0.3));\n",
              "      fill: #FFFFFF;\n",
              "    }\n",
              "  </style>\n",
              "\n",
              "      <script>\n",
              "        const buttonEl =\n",
              "          document.querySelector('#df-d32f36f1-d077-496c-b02e-06ea2fa9aa0b button.colab-df-convert');\n",
              "        buttonEl.style.display =\n",
              "          google.colab.kernel.accessAllowed ? 'block' : 'none';\n",
              "\n",
              "        async function convertToInteractive(key) {\n",
              "          const element = document.querySelector('#df-d32f36f1-d077-496c-b02e-06ea2fa9aa0b');\n",
              "          const dataTable =\n",
              "            await google.colab.kernel.invokeFunction('convertToInteractive',\n",
              "                                                     [key], {});\n",
              "          if (!dataTable) return;\n",
              "\n",
              "          const docLinkHtml = 'Like what you see? Visit the ' +\n",
              "            '<a target=\"_blank\" href=https://colab.research.google.com/notebooks/data_table.ipynb>data table notebook</a>'\n",
              "            + ' to learn more about interactive tables.';\n",
              "          element.innerHTML = '';\n",
              "          dataTable['output_type'] = 'display_data';\n",
              "          await google.colab.output.renderOutput(dataTable, element);\n",
              "          const docLink = document.createElement('div');\n",
              "          docLink.innerHTML = docLinkHtml;\n",
              "          element.appendChild(docLink);\n",
              "        }\n",
              "      </script>\n",
              "    </div>\n",
              "  </div>\n",
              "  "
            ]
          },
          "metadata": {},
          "execution_count": 17
        }
      ],
      "source": [
        "sub_df"
      ]
    },
    {
      "cell_type": "code",
      "execution_count": null,
      "metadata": {
        "id": "EJciuvag_eJB",
        "colab": {
          "base_uri": "https://localhost:8080/"
        },
        "outputId": "0202004d-143f-4df7-bf7a-7bb19d843f2a"
      },
      "outputs": [
        {
          "output_type": "execute_result",
          "data": {
            "text/plain": [
              "0    375806\n",
              "Name: prediction, dtype: int64"
            ]
          },
          "metadata": {},
          "execution_count": 18
        }
      ],
      "source": [
        "sub_df.prediction.value_counts() "
      ]
    },
    {
      "cell_type": "markdown",
      "source": [
        "This is a sample submission file. Thus, all are 0. For Final submission, need to come up with predicted value for dataset and submit a csv file into Kaggle "
      ],
      "metadata": {
        "id": "A1wej61rZfNv"
      }
    },
    {
      "cell_type": "markdown",
      "source": [
        "### Create a Working Sample"
      ],
      "metadata": {
        "id": "lTUflnBPZrpI"
      }
    },
    {
      "cell_type": "code",
      "source": [
        "SAMPLE_SIZE = 100_000 # doing this since raw data size is too big. We start with small data to run analysis at first."
      ],
      "metadata": {
        "id": "mU8sdx7cZ0sL"
      },
      "execution_count": null,
      "outputs": []
    },
    {
      "cell_type": "code",
      "source": [
        "sample_df = raw_df.sample(SAMPLE_SIZE, random_state=42)"
      ],
      "metadata": {
        "id": "9kFErSEwZ2eg"
      },
      "execution_count": null,
      "outputs": []
    },
    {
      "cell_type": "code",
      "source": [
        "sample_df "
      ],
      "metadata": {
        "colab": {
          "base_uri": "https://localhost:8080/",
          "height": 424
        },
        "id": "UEE4a-M6Z2PX",
        "outputId": "b692348c-357b-419e-801e-cd5417a002bd"
      },
      "execution_count": null,
      "outputs": [
        {
          "output_type": "execute_result",
          "data": {
            "text/plain": [
              "                          qid  \\\n",
              "443046   56d324bb1e2c29f43b12   \n",
              "947549   b9ad893dc78c577f8a63   \n",
              "523769   6689ebaeeb65b209a412   \n",
              "949821   ba1e2c4a0fef09671516   \n",
              "1030397  c9ea2b69bf0d74626f46   \n",
              "...                       ...   \n",
              "998930   c3c03a307a29c69971b4   \n",
              "66641    0d119aba95ee6684f506   \n",
              "90024    11a46cd148a104b271cf   \n",
              "130113   1973e6e2111a0c93193a   \n",
              "1137     0037ed037520d82393c0   \n",
              "\n",
              "                                             question_text  target  \n",
              "443046   What is the most effective classroom managemen...       0  \n",
              "947549   Can I study abroad after 10th class from Bangl...       0  \n",
              "523769         How can I make friends as a college junior?       0  \n",
              "949821   How do I download free APK Minecraft: Pocket E...       0  \n",
              "1030397  Like Kuvera, is \"Groww\" also a free online inv...       0  \n",
              "...                                                    ...     ...  \n",
              "998930   How do I research list of reliable charcoal im...       0  \n",
              "66641    What are petroleum products, and what is petro...       0  \n",
              "90024    What are some services that will let you quick...       0  \n",
              "130113   What credit card processors do online marketpl...       0  \n",
              "1137          On which number system does a computer work?       0  \n",
              "\n",
              "[100000 rows x 3 columns]"
            ],
            "text/html": [
              "\n",
              "  <div id=\"df-7113bc5e-a49d-4a2d-b9ac-38acd566202b\">\n",
              "    <div class=\"colab-df-container\">\n",
              "      <div>\n",
              "<style scoped>\n",
              "    .dataframe tbody tr th:only-of-type {\n",
              "        vertical-align: middle;\n",
              "    }\n",
              "\n",
              "    .dataframe tbody tr th {\n",
              "        vertical-align: top;\n",
              "    }\n",
              "\n",
              "    .dataframe thead th {\n",
              "        text-align: right;\n",
              "    }\n",
              "</style>\n",
              "<table border=\"1\" class=\"dataframe\">\n",
              "  <thead>\n",
              "    <tr style=\"text-align: right;\">\n",
              "      <th></th>\n",
              "      <th>qid</th>\n",
              "      <th>question_text</th>\n",
              "      <th>target</th>\n",
              "    </tr>\n",
              "  </thead>\n",
              "  <tbody>\n",
              "    <tr>\n",
              "      <th>443046</th>\n",
              "      <td>56d324bb1e2c29f43b12</td>\n",
              "      <td>What is the most effective classroom managemen...</td>\n",
              "      <td>0</td>\n",
              "    </tr>\n",
              "    <tr>\n",
              "      <th>947549</th>\n",
              "      <td>b9ad893dc78c577f8a63</td>\n",
              "      <td>Can I study abroad after 10th class from Bangl...</td>\n",
              "      <td>0</td>\n",
              "    </tr>\n",
              "    <tr>\n",
              "      <th>523769</th>\n",
              "      <td>6689ebaeeb65b209a412</td>\n",
              "      <td>How can I make friends as a college junior?</td>\n",
              "      <td>0</td>\n",
              "    </tr>\n",
              "    <tr>\n",
              "      <th>949821</th>\n",
              "      <td>ba1e2c4a0fef09671516</td>\n",
              "      <td>How do I download free APK Minecraft: Pocket E...</td>\n",
              "      <td>0</td>\n",
              "    </tr>\n",
              "    <tr>\n",
              "      <th>1030397</th>\n",
              "      <td>c9ea2b69bf0d74626f46</td>\n",
              "      <td>Like Kuvera, is \"Groww\" also a free online inv...</td>\n",
              "      <td>0</td>\n",
              "    </tr>\n",
              "    <tr>\n",
              "      <th>...</th>\n",
              "      <td>...</td>\n",
              "      <td>...</td>\n",
              "      <td>...</td>\n",
              "    </tr>\n",
              "    <tr>\n",
              "      <th>998930</th>\n",
              "      <td>c3c03a307a29c69971b4</td>\n",
              "      <td>How do I research list of reliable charcoal im...</td>\n",
              "      <td>0</td>\n",
              "    </tr>\n",
              "    <tr>\n",
              "      <th>66641</th>\n",
              "      <td>0d119aba95ee6684f506</td>\n",
              "      <td>What are petroleum products, and what is petro...</td>\n",
              "      <td>0</td>\n",
              "    </tr>\n",
              "    <tr>\n",
              "      <th>90024</th>\n",
              "      <td>11a46cd148a104b271cf</td>\n",
              "      <td>What are some services that will let you quick...</td>\n",
              "      <td>0</td>\n",
              "    </tr>\n",
              "    <tr>\n",
              "      <th>130113</th>\n",
              "      <td>1973e6e2111a0c93193a</td>\n",
              "      <td>What credit card processors do online marketpl...</td>\n",
              "      <td>0</td>\n",
              "    </tr>\n",
              "    <tr>\n",
              "      <th>1137</th>\n",
              "      <td>0037ed037520d82393c0</td>\n",
              "      <td>On which number system does a computer work?</td>\n",
              "      <td>0</td>\n",
              "    </tr>\n",
              "  </tbody>\n",
              "</table>\n",
              "<p>100000 rows × 3 columns</p>\n",
              "</div>\n",
              "      <button class=\"colab-df-convert\" onclick=\"convertToInteractive('df-7113bc5e-a49d-4a2d-b9ac-38acd566202b')\"\n",
              "              title=\"Convert this dataframe to an interactive table.\"\n",
              "              style=\"display:none;\">\n",
              "        \n",
              "  <svg xmlns=\"http://www.w3.org/2000/svg\" height=\"24px\"viewBox=\"0 0 24 24\"\n",
              "       width=\"24px\">\n",
              "    <path d=\"M0 0h24v24H0V0z\" fill=\"none\"/>\n",
              "    <path d=\"M18.56 5.44l.94 2.06.94-2.06 2.06-.94-2.06-.94-.94-2.06-.94 2.06-2.06.94zm-11 1L8.5 8.5l.94-2.06 2.06-.94-2.06-.94L8.5 2.5l-.94 2.06-2.06.94zm10 10l.94 2.06.94-2.06 2.06-.94-2.06-.94-.94-2.06-.94 2.06-2.06.94z\"/><path d=\"M17.41 7.96l-1.37-1.37c-.4-.4-.92-.59-1.43-.59-.52 0-1.04.2-1.43.59L10.3 9.45l-7.72 7.72c-.78.78-.78 2.05 0 2.83L4 21.41c.39.39.9.59 1.41.59.51 0 1.02-.2 1.41-.59l7.78-7.78 2.81-2.81c.8-.78.8-2.07 0-2.86zM5.41 20L4 18.59l7.72-7.72 1.47 1.35L5.41 20z\"/>\n",
              "  </svg>\n",
              "      </button>\n",
              "      \n",
              "  <style>\n",
              "    .colab-df-container {\n",
              "      display:flex;\n",
              "      flex-wrap:wrap;\n",
              "      gap: 12px;\n",
              "    }\n",
              "\n",
              "    .colab-df-convert {\n",
              "      background-color: #E8F0FE;\n",
              "      border: none;\n",
              "      border-radius: 50%;\n",
              "      cursor: pointer;\n",
              "      display: none;\n",
              "      fill: #1967D2;\n",
              "      height: 32px;\n",
              "      padding: 0 0 0 0;\n",
              "      width: 32px;\n",
              "    }\n",
              "\n",
              "    .colab-df-convert:hover {\n",
              "      background-color: #E2EBFA;\n",
              "      box-shadow: 0px 1px 2px rgba(60, 64, 67, 0.3), 0px 1px 3px 1px rgba(60, 64, 67, 0.15);\n",
              "      fill: #174EA6;\n",
              "    }\n",
              "\n",
              "    [theme=dark] .colab-df-convert {\n",
              "      background-color: #3B4455;\n",
              "      fill: #D2E3FC;\n",
              "    }\n",
              "\n",
              "    [theme=dark] .colab-df-convert:hover {\n",
              "      background-color: #434B5C;\n",
              "      box-shadow: 0px 1px 3px 1px rgba(0, 0, 0, 0.15);\n",
              "      filter: drop-shadow(0px 1px 2px rgba(0, 0, 0, 0.3));\n",
              "      fill: #FFFFFF;\n",
              "    }\n",
              "  </style>\n",
              "\n",
              "      <script>\n",
              "        const buttonEl =\n",
              "          document.querySelector('#df-7113bc5e-a49d-4a2d-b9ac-38acd566202b button.colab-df-convert');\n",
              "        buttonEl.style.display =\n",
              "          google.colab.kernel.accessAllowed ? 'block' : 'none';\n",
              "\n",
              "        async function convertToInteractive(key) {\n",
              "          const element = document.querySelector('#df-7113bc5e-a49d-4a2d-b9ac-38acd566202b');\n",
              "          const dataTable =\n",
              "            await google.colab.kernel.invokeFunction('convertToInteractive',\n",
              "                                                     [key], {});\n",
              "          if (!dataTable) return;\n",
              "\n",
              "          const docLinkHtml = 'Like what you see? Visit the ' +\n",
              "            '<a target=\"_blank\" href=https://colab.research.google.com/notebooks/data_table.ipynb>data table notebook</a>'\n",
              "            + ' to learn more about interactive tables.';\n",
              "          element.innerHTML = '';\n",
              "          dataTable['output_type'] = 'display_data';\n",
              "          await google.colab.output.renderOutput(dataTable, element);\n",
              "          const docLink = document.createElement('div');\n",
              "          docLink.innerHTML = docLinkHtml;\n",
              "          element.appendChild(docLink);\n",
              "        }\n",
              "      </script>\n",
              "    </div>\n",
              "  </div>\n",
              "  "
            ]
          },
          "metadata": {},
          "execution_count": 22
        }
      ]
    },
    {
      "cell_type": "markdown",
      "metadata": {
        "id": "JIJwR0IDbEgU"
      },
      "source": [
        "## Text Processing Techniques\n",
        "\n",
        "Outline:\n",
        "1. understand the bag of words model\n",
        "2. Tokenization\n",
        "3. Stop word removal\n",
        "4. Stemming"
      ]
    },
    {
      "cell_type": "markdown",
      "source": [
        "## Bag of Words Intuition\n",
        "\n",
        "1. Create a list of all the words across all the text documents\n",
        "2. You create each document into vector counts of each word\n",
        "\n",
        "\n",
        "![Example.JPG](data:image/jpeg;base64,/9j/4AAQSkZJRgABAQEAYABgAAD/4RDyRXhpZgAATU0AKgAAAAgABAE7AAIAAAANAAAISodpAAQAAAABAAAIWJydAAEAAAAaAAAQ0OocAAcAAAgMAAAAPgAAAAAc6gAAAAgAAAAAAAAAAAAAAAAAAAAAAAAAAAAAAAAAAAAAAAAAAAAAAAAAAAAAAAAAAAAAAAAAAAAAAAAAAAAAAAAAAAAAAAAAAAAAAAAAAAAAAAAAAAAAAAAAAAAAAAAAAAAAAAAAAAAAAAAAAAAAAAAAAAAAAAAAAAAAAAAAAAAAAAAAAAAAAAAAAAAAAAAAAAAAAAAAAAAAAAAAAAAAAAAAAAAAAAAAAAAAAAAAAAAAAAAAAAAAAAAAAAAAAAAAAAAAAAAAAAAAAAAAAAAAAAAAAAAAAAAAAAAAAAAAAAAAAAAAAAAAAAAAAAAAAAAAAAAAAAAAAAAAAAAAAAAAAAAAAAAAAAAAAAAAAAAAAAAAAAAAAAAAAAAAAAAAAAAAAAAAAAAAAAAAAAAAAAAAAAAAAAAAAAAAAAAAAAAAAAAAAAAAAAAAAAAAAAAAAAAAAAAAAAAAAAAAAAAAAAAAAAAAAAAAAAAAAAAAAAAAAAAAAAAAAAAAAAAAAAAAAAAAAAAAAAAAAAAAAAAAAAAAAAAAAAAAAAAAAAAAAAAAAAAAAAAAAAAAAAAAAAAAAAAAAAAAAAAAAAAAAAAAAAAAAAAAAAAAAAAAAAAAAAAAAAAAAAAAAAAAAAAAAAAAAAAAAAAAAAAAAAAAAAAAAAAAAAAAAAAAAAAAAAAAAAAAAAAAAAAAAAAAAAAAAAAAAAAAAAAAAAAAAAAAAAAAAAAAAAAAAAAAAAAAAAAAAAAAAAAAAAAAAAAAAAAAAAAAAAAAAAAAAAAAAAAAAAAAAAAAAAAAAAAAAAAAAAAAAAAAAAAAAAAAAAAAAAAAAAAAAAAAAAAAAAAAAAAAAAAAAAAAAAAAAAAAAAAAAAAAAAAAAAAAAAAAAAAAAAAAAAAAAAAAAAAAAAAAAAAAAAAAAAAAAAAAAAAAAAAAAAAAAAAAAAAAAAAAAAAAAAAAAAAAAAAAAAAAAAAAAAAAAAAAAAAAAAAAAAAAAAAAAAAAAAAAAAAAAAAAAAAAAAAAAAAAAAAAAAAAAAAAAAAAAAAAAAAAAAAAAAAAAAAAAAAAAAAAAAAAAAAAAAAAAAAAAAAAAAAAAAAAAAAAAAAAAAAAAAAAAAAAAAAAAAAAAAAAAAAAAAAAAAAAAAAAAAAAAAAAAAAAAAAAAAAAAAAAAAAAAAAAAAAAAAAAAAAAAAAAAAAAAAAAAAAAAAAAAAAAAAAAAAAAAAAAAAAAAAAAAAAAAAAAAAAAAAAAAAAAAAAAAAAAAAAAAAAAAAAAAAAAAAAAAAAAAAAAAAAAAAAAAAAAAAAAAAAAAAAAAAAAAAAAAAAAAAAAAAAAAAAAAAAAAAAAAAAAAAAAAAAAAAAAAAAAAAAAAAAAAAAAAAAAAAAAAAAAAAAAAAAAAAAAAAAAAAAAAAAAAAAAAAAAAAAAAAAAAAAAAAAAAAAAAAAAAAAAAAAAAAAAAAAAAAAAAAAAAAAAAAAAAAAAAAAAAAAAAAAAAAAAAAAAAAAAAAAAAAAAAAAAAAAAAAAAAAAAAAAAAAAAAAAAAAAAAAAAAAAAAAAAAAAAAAAAAAAAAAAAAAAAAAAAAAAAAAAAAAAAAAAAAAAAAAAAAAAAAAAAAAAAAAAAAAAAAAAAAAAAAAAAAAAAAAAAAAAAAAAAAAAAAAAAAAAAAAAAAAAAAAAAAAAAAAAAAAAAAAAAAAAAAAAAAAAAAAAAAAAAAAAAAAAAAAAAAAAAAAAAAAAAAAAAAAAAAAAAAAAAAAAAAAAAAAAAAAAAAAAAAAAAAAAAAAAAAAAAAAAAAAAAAAAAAAAAAAAAAAAAAAAAAAAAAAAAAAAAAAAAAAAAAAAAAAAAAAAAAAAAAAAAAAAAAAAAAAAAAAAAAAAAAAAAAAAAAAAAAAAAAAAAAAAAAAAAAAAAAAAAAAAAAAAAAAAAAAAAAAAAAAAAAAAAAAAAAAAAAAAAAAAAAAAAAAAAAAAAAAAAAAAAAAAAAAAAAAAAAAAAAAAAAAAAAAAAAAAAAAAAAAAAAAAAAAAAAAAAAAAAAAAAAAAAAAAAAAAAAAAAAAAAAAAAAAAAAAAAAAAAAAAAAAAAAAAAAAAAAAAAAAAAAAAAAAAAAAAAAAAAAAAAAAAAAAAAAAAAAAAAAAAAAAAAAAAAAAAAAAAAAAAAAAAAAAAAAAAAAAAAAAAAAAAAAAAAAAAAAAAAAAAAAAAAAAAAAAAAAAAAAAAAAAAAAAAAAAAAAAAAAAAAAAAAAAAAAAAAAAAAAAAAAAAAAAAAAAAAAAAAAAAAAAAAAAAAAAAAAAAAAAAAAAAAAAAAAAAAAAAAAAAAAAAAAAAAAAAAAAAAAAAAAAAAAAAAAAAAAAAAAAAAAAAAAAAAAAAAAAAAAAAAAAAAAAAAAAAAAAAAAAAAAAAAAAAAAAAAAAAAAAAAAAAAAAAAAAAAAAAAAAAAAAAAAAAAAAAAAAAAAAAAAAAAAAAAAAAAAAAAAAAAAAAAAAAAAAAAAAAAAAAAAAAAAAAAAAAAAAAAAAAAAAAAAAAAAAAAAAAAAAAAAAAAAAAAAAAAAAAAAAAAAAAAAAAAAAAAAAAAAAAAAAAAAAAAAAAAAAAAAAAAAAAAAAAAAAAAAAAAAAAAAAAAAAAAAAAAAAAAAAAAAAAAAAAAAAAAAAAAAAAAAAAAAAAAAAAAAAAAAAAAAAAAAAAAAAAAAAAAAAAAAAAAAAAAAAAAAAAAAAAAAAAAAAAAAAAAAAAAAAAAAAAAAAAAAAAAAFBva3VyaSwgVmVudQAAAAWQAwACAAAAFAAAEKaQBAACAAAAFAAAELqSkQACAAAAAzk0AACSkgACAAAAAzk0AADqHAAHAAAIDAAACJoAAAAAHOoAAAAIAAAAAAAAAAAAAAAAAAAAAAAAAAAAAAAAAAAAAAAAAAAAAAAAAAAAAAAAAAAAAAAAAAAAAAAAAAAAAAAAAAAAAAAAAAAAAAAAAAAAAAAAAAAAAAAAAAAAAAAAAAAAAAAAAAAAAAAAAAAAAAAAAAAAAAAAAAAAAAAAAAAAAAAAAAAAAAAAAAAAAAAAAAAAAAAAAAAAAAAAAAAAAAAAAAAAAAAAAAAAAAAAAAAAAAAAAAAAAAAAAAAAAAAAAAAAAAAAAAAAAAAAAAAAAAAAAAAAAAAAAAAAAAAAAAAAAAAAAAAAAAAAAAAAAAAAAAAAAAAAAAAAAAAAAAAAAAAAAAAAAAAAAAAAAAAAAAAAAAAAAAAAAAAAAAAAAAAAAAAAAAAAAAAAAAAAAAAAAAAAAAAAAAAAAAAAAAAAAAAAAAAAAAAAAAAAAAAAAAAAAAAAAAAAAAAAAAAAAAAAAAAAAAAAAAAAAAAAAAAAAAAAAAAAAAAAAAAAAAAAAAAAAAAAAAAAAAAAAAAAAAAAAAAAAAAAAAAAAAAAAAAAAAAAAAAAAAAAAAAAAAAAAAAAAAAAAAAAAAAAAAAAAAAAAAAAAAAAAAAAAAAAAAAAAAAAAAAAAAAAAAAAAAAAAAAAAAAAAAAAAAAAAAAAAAAAAAAAAAAAAAAAAAAAAAAAAAAAAAAAAAAAAAAAAAAAAAAAAAAAAAAAAAAAAAAAAAAAAAAAAAAAAAAAAAAAAAAAAAAAAAAAAAAAAAAAAAAAAAAAAAAAAAAAAAAAAAAAAAAAAAAAAAAAAAAAAAAAAAAAAAAAAAAAAAAAAAAAAAAAAAAAAAAAAAAAAAAAAAAAAAAAAAAAAAAAAAAAAAAAAAAAAAAAAAAAAAAAAAAAAAAAAAAAAAAAAAAAAAAAAAAAAAAAAAAAAAAAAAAAAAAAAAAAAAAAAAAAAAAAAAAAAAAAAAAAAAAAAAAAAAAAAAAAAAAAAAAAAAAAAAAAAAAAAAAAAAAAAAAAAAAAAAAAAAAAAAAAAAAAAAAAAAAAAAAAAAAAAAAAAAAAAAAAAAAAAAAAAAAAAAAAAAAAAAAAAAAAAAAAAAAAAAAAAAAAAAAAAAAAAAAAAAAAAAAAAAAAAAAAAAAAAAAAAAAAAAAAAAAAAAAAAAAAAAAAAAAAAAAAAAAAAAAAAAAAAAAAAAAAAAAAAAAAAAAAAAAAAAAAAAAAAAAAAAAAAAAAAAAAAAAAAAAAAAAAAAAAAAAAAAAAAAAAAAAAAAAAAAAAAAAAAAAAAAAAAAAAAAAAAAAAAAAAAAAAAAAAAAAAAAAAAAAAAAAAAAAAAAAAAAAAAAAAAAAAAAAAAAAAAAAAAAAAAAAAAAAAAAAAAAAAAAAAAAAAAAAAAAAAAAAAAAAAAAAAAAAAAAAAAAAAAAAAAAAAAAAAAAAAAAAAAAAAAAAAAAAAAAAAAAAAAAAAAAAAAAAAAAAAAAAAAAAAAAAAAAAAAAAAAAAAAAAAAAAAAAAAAAAAAAAAAAAAAAAAAAAAAAAAAAAAAAAAAAAAAAAAAAAAAAAAAAAAAAAAAAAAAAAAAAAAAAAAAAAAAAAAAAAAAAAAAAAAAAAAAAAAAAAAAAAAAAAAAAAAAAAAAAAAAAAAAAAAAAAAAAAAAAAAAAAAAAAAAAAAAAAAAAAAAAAAAAAAAAAAAAAAAAAAAAAAAAAAAAAAAAAAAAAAAAAAAAAAAAAAAAAAAAAAAAAAAAAAAAAAAAAAAAAAAAAAAAAAAAAAAAAAAAAAAAAAAAAAAAAAAAAAAAAAAAAAAAAAAAAAAAAAAAAAAAAAAAAAAAAAAAAAAAAAAAAAAAAAAAAAAAAAAAAAAAAAAAAAAAAAAAAAAAAAAAAAAAAAAAAAAAAAAAAAAAAAAAAAAAAAAAAAAAAAAAAAAAAAAAAAAAAAAAAAAAAAAAAAAAAAAAAAAAAAAAAAAAAAAAAAAAAAAAAAAAAAAAAAAAAAAAAAAAAAAAAAAAAAAAAAAAAAAAAAAAAAAAAAAAAAAAAAAAAAAAAAAAAAAAAAAAAAAAAAAAAAAAAAAAAAAAAAAAAAAAAAAAAAAAAAAAAAAAAAAAAAAAAAAAAAAAAAAAAAAAAAAAAAAAAAAAAAAAAAAAAAAAAAAAAAAAAAAAAAAAAAAAAAAAAAAAAAAAAAAAAAAAAAAAAAAAAAAAAAAAAAAAAAAAAAAAAAAAAAAAAAAAAAAAAAAAAAAAAAAAAAAAAAAAAAAAAAAAAAAAAAAAAAAAAAAAAAAAAAAAAAAAAAAAAAAAAAAAAAAAAAAAAAAAAAAAAAAAAAAAAAAAAAAAAAAAAAAAAAAAAAAAAAAAAAAAAAAAAAAAAAAAAAAAAAAAAAAAAAAAAAAAAAAAAAAAAAAAAAAAAAAAAAAAAAAAAAAAAAAAAAAAAAAAAAAAAAAAAAAAAAAAAAAAAAAAAAAAAAAAAAAAAAAAAAAAAAAAAAAAAAAAAAAAAAAAAAAAAAAAAAAAAAAAAAAAAAAAAAAAAAAAAAAAAAAAAAAAAAAAAAAAAAAAAAAAAAAAAAAAAAAAAAAAAAAAAAAAAAAAAAAAAAAAAAAAAAAAAAAAAAAAAAAAAAAAAAAAAAAAAAAAAAAAAAAAAAAAAAAAAAAAAAAAAAAAAAAAAAAAAAAAAAAAAAAAAAAAAAAAAAAAAAAAAAAAAAAAAAAAAAAAAAAAAAAAAAAAAAAAAAAAAAAAAAAAAAAAAAAAAAAAAAAAAAAAAAAAAyMDIzOjA2OjA5IDE0OjQxOjEyADIwMjM6MDY6MDkgMTQ6NDE6MTIAAABQAG8AawB1AHIAaQAsACAAVgBlAG4AdQAAAP/hCx9odHRwOi8vbnMuYWRvYmUuY29tL3hhcC8xLjAvADw/eHBhY2tldCBiZWdpbj0n77u/JyBpZD0nVzVNME1wQ2VoaUh6cmVTek5UY3prYzlkJz8+DQo8eDp4bXBtZXRhIHhtbG5zOng9ImFkb2JlOm5zOm1ldGEvIj48cmRmOlJERiB4bWxuczpyZGY9Imh0dHA6Ly93d3cudzMub3JnLzE5OTkvMDIvMjItcmRmLXN5bnRheC1ucyMiPjxyZGY6RGVzY3JpcHRpb24gcmRmOmFib3V0PSJ1dWlkOmZhZjViZGQ1LWJhM2QtMTFkYS1hZDMxLWQzM2Q3NTE4MmYxYiIgeG1sbnM6ZGM9Imh0dHA6Ly9wdXJsLm9yZy9kYy9lbGVtZW50cy8xLjEvIi8+PHJkZjpEZXNjcmlwdGlvbiByZGY6YWJvdXQ9InV1aWQ6ZmFmNWJkZDUtYmEzZC0xMWRhLWFkMzEtZDMzZDc1MTgyZjFiIiB4bWxuczp4bXA9Imh0dHA6Ly9ucy5hZG9iZS5jb20veGFwLzEuMC8iPjx4bXA6Q3JlYXRlRGF0ZT4yMDIzLTA2LTA5VDE0OjQxOjEyLjk0MjwveG1wOkNyZWF0ZURhdGU+PC9yZGY6RGVzY3JpcHRpb24+PHJkZjpEZXNjcmlwdGlvbiByZGY6YWJvdXQ9InV1aWQ6ZmFmNWJkZDUtYmEzZC0xMWRhLWFkMzEtZDMzZDc1MTgyZjFiIiB4bWxuczpkYz0iaHR0cDovL3B1cmwub3JnL2RjL2VsZW1lbnRzLzEuMS8iPjxkYzpjcmVhdG9yPjxyZGY6U2VxIHhtbG5zOnJkZj0iaHR0cDovL3d3dy53My5vcmcvMTk5OS8wMi8yMi1yZGYtc3ludGF4LW5zIyI+PHJkZjpsaT5Qb2t1cmksIFZlbnU8L3JkZjpsaT48L3JkZjpTZXE+DQoJCQk8L2RjOmNyZWF0b3I+PC9yZGY6RGVzY3JpcHRpb24+PC9yZGY6UkRGPjwveDp4bXBtZXRhPg0KICAgICAgICAgICAgICAgICAgICAgICAgICAgICAgICAgICAgICAgICAgICAgICAgICAgICAgICAgICAgICAgICAgICAgICAgICAgICAgICAgICAgICAgICAgICAgICAgICAgIAogICAgICAgICAgICAgICAgICAgICAgICAgICAgICAgICAgICAgICAgICAgICAgICAgICAgICAgICAgICAgICAgICAgICAgICAgICAgICAgICAgICAgICAgICAgICAgICAgICAgCiAgICAgICAgICAgICAgICAgICAgICAgICAgICAgICAgICAgICAgICAgICAgICAgICAgICAgICAgICAgICAgICAgICAgICAgICAgICAgICAgICAgICAgICAgICAgICAgICAgICAKICAgICAgICAgICAgICAgICAgICAgICAgICAgICAgICAgICAgICAgICAgICAgICAgICAgICAgICAgICAgICAgICAgICAgICAgICAgICAgICAgICAgICAgICAgICAgICAgICAgIAogICAgICAgICAgICAgICAgICAgICAgICAgICAgICAgICAgICAgICAgICAgICAgICAgICAgICAgICAgICAgICAgICAgICAgICAgICAgICAgICAgICAgICAgICAgICAgICAgICAgCiAgICAgICAgICAgICAgICAgICAgICAgICAgICAgICAgICAgICAgICAgICAgICAgICAgICAgICAgICAgICAgICAgICAgICAgICAgICAgICAgICAgICAgICAgICAgICAgICAgICAKICAgICAgICAgICAgICAgICAgICAgICAgICAgICAgICAgICAgICAgICAgICAgICAgICAgICAgICAgICAgICAgICAgICAgICAgICAgICAgICAgICAgICAgICAgICAgICAgICAgIAogICAgICAgICAgICAgICAgICAgICAgICAgICAgICAgICAgICAgICAgICAgICAgICAgICAgICAgICAgICAgICAgICAgICAgICAgICAgICAgICAgICAgICAgICAgICAgICAgICAgCiAgICAgICAgICAgICAgICAgICAgICAgICAgICAgICAgICAgICAgICAgICAgICAgICAgICAgICAgICAgICAgICAgICAgICAgICAgICAgICAgICAgICAgICAgICAgICAgICAgICAKICAgICAgICAgICAgICAgICAgICAgICAgICAgICAgICAgICAgICAgICAgICAgICAgICAgICAgICAgICAgICAgICAgICAgICAgICAgICAgICAgICAgICAgICAgICAgICAgICAgIAogICAgICAgICAgICAgICAgICAgICAgICAgICAgICAgICAgICAgICAgICAgICAgICAgICAgICAgICAgICAgICAgICAgICAgICAgICAgICAgICAgICAgICAgICAgICAgICAgICAgCiAgICAgICAgICAgICAgICAgICAgICAgICAgICAgICAgICAgICAgICAgICAgICAgICAgICAgICAgICAgICAgICAgICAgICAgICAgICAgICAgICAgICAgICAgICAgICAgICAgICAKICAgICAgICAgICAgICAgICAgICAgICAgICAgICAgICAgICAgICAgICAgICAgICAgICAgICAgICAgICAgICAgICAgICAgICAgICAgICAgICAgICAgICAgICAgICAgICAgICAgIAogICAgICAgICAgICAgICAgICAgICAgICAgICAgICAgICAgICAgICAgICAgICAgICAgICAgICAgICAgICAgICAgICAgICAgICAgICAgICAgICAgICAgICAgICAgICAgICAgICAgCiAgICAgICAgICAgICAgICAgICAgICAgICAgICAgICAgICAgICAgICAgICAgICAgICAgICAgICAgICAgICAgICAgICAgICAgICAgICAgICAgICAgICAgICAgICAgICAgICAgICAKICAgICAgICAgICAgICAgICAgICAgICAgICAgICAgICAgICAgICAgICAgICAgICAgICAgICAgICAgICAgICAgICAgICAgICAgICAgICAgICAgICAgICAgICAgICAgICAgICAgIAogICAgICAgICAgICAgICAgICAgICAgICAgICAgICAgICAgICAgICAgICAgICAgICAgICAgICAgICAgICAgICAgICAgICAgICAgICAgICAgICAgICAgICAgICAgICAgICAgICAgCiAgICAgICAgICAgICAgICAgICAgICAgICAgICAgICAgICAgICAgICAgICAgICAgICAgICAgICAgICAgICAgICAgICAgICAgICAgICAgICAgICAgICAgICAgICAgICAgICAgICAKICAgICAgICAgICAgICAgICAgICAgICAgICAgICAgICAgICAgICAgICAgICAgICAgICAgICAgICAgICAgICAgICAgICAgICAgICAgICAgICAgICAgICAgICAgICAgICAgICAgIAogICAgICAgICAgICAgICAgICAgICAgICAgICAgICAgICAgICAgICAgICAgICAgICAgICAgICAgICAgICAgICAgICAgICAgICAgICAgICAgICAgICAgICAgICAgICAgICAgICAgCiAgICAgICAgICAgICAgICAgICAgICAgICAgICA8P3hwYWNrZXQgZW5kPSd3Jz8+/9sAQwAHBQUGBQQHBgUGCAcHCAoRCwoJCQoVDxAMERgVGhkYFRgXGx4nIRsdJR0XGCIuIiUoKSssKxogLzMvKjInKisq/9sAQwEHCAgKCQoUCwsUKhwYHCoqKioqKioqKioqKioqKioqKioqKioqKioqKioqKioqKioqKioqKioqKioqKioqKioq/8AAEQgCKgd1AwEiAAIRAQMRAf/EAB8AAAEFAQEBAQEBAAAAAAAAAAABAgMEBQYHCAkKC//EALUQAAIBAwMCBAMFBQQEAAABfQECAwAEEQUSITFBBhNRYQcicRQygZGhCCNCscEVUtHwJDNicoIJChYXGBkaJSYnKCkqNDU2Nzg5OkNERUZHSElKU1RVVldYWVpjZGVmZ2hpanN0dXZ3eHl6g4SFhoeIiYqSk5SVlpeYmZqio6Slpqeoqaqys7S1tre4ubrCw8TFxsfIycrS09TV1tfY2drh4uPk5ebn6Onq8fLz9PX29/j5+v/EAB8BAAMBAQEBAQEBAQEAAAAAAAABAgMEBQYHCAkKC//EALURAAIBAgQEAwQHBQQEAAECdwABAgMRBAUhMQYSQVEHYXETIjKBCBRCkaGxwQkjM1LwFWJy0QoWJDThJfEXGBkaJicoKSo1Njc4OTpDREVGR0hJSlNUVVZXWFlaY2RlZmdoaWpzdHV2d3h5eoKDhIWGh4iJipKTlJWWl5iZmqKjpKWmp6ipqrKztLW2t7i5usLDxMXGx8jJytLT1NXW19jZ2uLj5OXm5+jp6vLz9PX29/j5+v/aAAwDAQACEQMRAD8A+kKM0nNFAC5ozSUUALmjNFGKADNFGKMUAFFGKMUAGaM0YNGKADNFGKMGgBaKTFGKAFopMGjFAC0UmKMGgBaKTFGKAFopMGjFAC0UmKMGgBaKTFGKAFopMGjFAC0UmKMGgBaKTFGKAFopMGjFAC0UmKMGgBaKTFGKAFopMGjFAC0UmKMGgAzRmjFGKADNGaMGjFABmijFFABRmjFFABmjNJmjNAC5ozSUUALmikpaACiiigAooooAKWkpaACiijFABRSUYoAWkoooAKKKKACiiigBaKSigBaKKSgBaKSigBaSjFH40AFFGPej8aACijHvR+NABRR+NFABRRijHvQAUZox70UAFFH40fjQAUUY96KACjNGPejHvQAUUUYoAM0UYoxQAUZoxRQAUtIfrRQAUUtJQAUZoooAKKKKADNFFFABRRRQAUZoooAKTNFFABmjNJRQAufrSZ+tJRQA7P1ozTaUUAOzRmkooAXNGaSigBc0ZpKKAFzRmkooAXNGaSigBc0ZpKKAFzRmkooAXNGaSloAWikooAWikooAM0UUlAC5ozSUUALmiko5oAWik5o5oAXNGaSigBc0ZpKMUALmjNJiigBc0ZpKKAFzRmkooAXNGaSigBc0ZoooAM0uabmjNAC5ozSUUALmjNJRQAuaM0lFAC5ozSUUALmjNJmlzQAZpc03NFADqM0nNFAC0UlFAC0UlGaAFopKKADNLSUUAFLSUUALRSUUALRSUUALRSZooAWikzRQAtFJRQAtFJRQAtFJmigBc0maKTNAC5ozSZooAXNGaSigBc0ZpKKAFzRmkooAXNGaSigBc0ZpKKAFzRmkooAXNGaSigBc0ZpKKAFzRmkooAXNGaSigBc0ZpM0UALmlptLQAuaTNJzQetAC5opKKAFooooAQ1BfTNb6dPMn3o4yw/KpzVLWDjRbv8A65N/KgDC0x/Emo6XFdJeW8YlG5QyZOKnNl4m76jCfotX/DP/ACLNjnr5X9a1PwoA5z7F4l/5/wCL/vml+x+Jf+ghCP8AgNdFRQBz32HxN/0E4P8Avij7D4l/6CcH/fuuhoxQBz32HxN/0E4P+/dH2LxN/wBBK3/7910NFAHP/YvE3/QSt/8Av3SfYvE3/QSt/wDv3XQ0UAc99i8Tf9BK3/790fYvE3/QSt/+/ddDRQBz32LxN/0Erf8A790fYvE3/QSt/wDv3XQ0UAc99i8Tf9BK3/790fYvE3/QSt/+/ddDRQBz32LxN/0Erf8A790fYvE3/QSt/wDv3XQ0UAc99i8Tf9BK3/790fYvE3/QSt/+/ddDRQBz32LxN/0Erf8A790fYvE3/QSt/wDv3XQ0UAc99i8Tf9BK3/790fYvE3/QSt/+/ddDRQBz32LxN/0Erf8A790fYvE3/QSt/wDv3XQ0UAc99i8Tf9BK3/790fYvE3/QSt/+/ddDRQBz32LxN/0Erf8A790fYvE3/QSt/wDv3XQ0UAc99i8Tf9BK3/790fYvE3/QSt/+/ddDRQBz32LxN/0Erf8A790fYvE3/QSt/wDv3XQ0UAc99i8Tf9BK3/790fYvE3/QSt/+/ddDRQBz32LxN/0Erf8A790fYvE3/QSt/wDv3XQ0UAc99i8Tf9BK3/790fYvE3/QSt/+/ddDRQBz32LxL/0E7f8A790v2LxN/wBBK3/7910GKKAOe+xeJv8AoJW//fuj7F4m/wCgnb/9+66HFFAHP/YvE3/QTt/+/dJ9i8Tf9BO3/wC/ddDRigDn/sXib/oJ2/8A36pBZ+Jw3/IUtiPTyq6HFJigDkLW88S3Oq3Fis9qrQAFnK5BBq8LPxV/0EbP/v1SaT/yOWqe8a/zroxQBzv2PxV/0ELP/v2aPsnir/n+s/8Av2a6OigDnPsnir/n+s/+/Zo+y+K/+f6y/wC/Zro6KAOc+yeK/wDn/sv+/Zo+y+K/+f8Asv8Av2a6OigDnPsviv8A5/7L/v2aUWnis/8AMRsR/wBsjXRUlAHPfY/Ff/QSsf8AvyaPsfiv/oJ2P/fk10NFAHPfY/Ff/QTsf+/Jo+x+K/8AoJ2P/fk10NLQBzv2PxX/ANBKx/78mkNp4r/6CNif+2Rro6KAOc+yeK/+ghZf9+zR9k8V/wDQQsv+/RroqKAOd+yeK/8AoIWX/fo0fZPFf/P/AGX/AH7NdFRQBzv2XxX/AM/9l/37NKLTxWeuo2I/7ZGuipKAOeNn4r/6CVj/AN+TR9j8V/8AQTsf+/JroaKAOe+x+K/+gnY/9+TQtp4q3fNqVlj2hNdFSUAchf3viK11K3s/Pt2e4OFYLirxs/Eo5XUoD7GOl1kAeJ9Gbv5hFdBQBgG18TY+W/tf+/dMNr4r7X9n/wB+66OigDm/sniv/n+s/wDv3R9l8V/8/wBZ/wDfFdJRQBzf2XxZ/wA/1n/37o+y+LP+f6z/AO/ddJRQBzf2XxZ/z/Wf/fFH2XxX/wA/1n/37rpPwooA5v7L4s/5/rP/AL90v2TxZ/z/ANn/AN+66OkoA537J4s/6CFl/wB+jSfZPFn/AEELL/v2a6OigDnPsniz/oIWX/fs0v2TxZ/0ELL/AL9muiooA5z7J4s/6CFl/wB+zR9l8Wf8/wDZ/wDfuujooA537L4r/wCf6z/790fZfFf/AD/Wf/fuuiooA537L4r/AOf+z/790fZfFn/P/Z/9+66Ok5oA537L4s/5/wCz/wC/dH2XxX/z/Wf/AH7roqWgDnPsviz/AJ/7P/v3SG18WY/4/wCzH/bOujooA5PUJfE+mWb3U11ayon3gExViO28UXECSrqdrGHUMF8nOARVrxaceGbr6D+dalj/AMg62/65L/IUAYf2LxYvTVLNv+2NH2TxX/z/ANn/AN+66OigDm/sniz/AJ/7P/v2aPsfiv8A6CFl/wB+zXSUUAc59k8V/wDP/Z/9+zR9k8V/8/8AZ/8Afs10dFAHN/ZPFf8A0ELL/v2aX7J4r/5/7P8A79mujooA5z7J4r/5/wCy/wC/Zo+yeLP+f+y/79mujooA5v7J4r/5/rP/AL90fZfFf/P7af8AfFdJRQBzn2XxV/z+2v8A3xSfZvFPe7tj/wABrpKKAOc+zeKO91b/AJUn2XxP/wA/Vv8AlXR0tAHN/ZvE/wDz8QUfZvE//PxBXSUYoA5v7L4n/wCfmAU4Wvic/wDL7bD6pmuiooA577J4o/6CNoP+2VH2PxR/0ErT/v1XQ0lAHP8A2PxR/wBBO0/780fZPFPbVLP/AL8V0FFAHNzW/iqKF5P7StJNozt8nGaraXP4m1Sz+0LeWsKliADHnOK6i5/49pP901keEOfD6+0rj9aAIvsvig/8xG0/79UfZfFH/P8A2v8A3xXQ4paAOd+y+KP+f62/74o+y+KP+f62/wC+K6KkxQBz32XxP/z/AFt/3xR9l8Uf8/8Aa/8AfFdDRQBz32XxR/z/ANr/AN+6Psvif/n/ALX/AL910NFAHPfZPFH/AEELX/v3S/ZPFH/QRtP+/VdBS0Ac99k8Uf8AQRtP+/VH2PxR/wBBG1/79V0NJQBz/wBj8Uf9BG0/79UfZPFH/QRtP+/VdDRQBz32TxR/0EbX/v3SfZPE/wDz/Wx/4BXRUlAHPfZfE/8Az/W3/fFH2XxR/wA/1t/3xXQ0tAHO/ZfE/wDz/W3/AHxR9l8T/wDP9bf98V0OKMUAc99l8T/8/wBbf98UfZfFH/P9bf8AfFdDijFAHPfZfFH/AD/W3/fFH2XxP/z/ANt/37rocUYoA577J4oz/wAhK1x/1yqjb3Pie41S4sRd2iPbgFn8vIINdf3rn9KOfGOrf7iUAL9m8T/8/wDaH/tnTfsvic/8vtt/3zXQ0UAc99l8Tf8AP7b/APfNH2XxN/z/AFv/AN8V0NLQBzv2TxP/AM/9t/3xR9l8Tf8AP9b/APfFdDiigDnvsnib/n/tx/wCnfZPE/8A0EbX/v3W/RigDA+yeJ/+gja/9+6Psnif/oI2v/fut+igDA+yeJ/+gja/9+6Psnif/oIWv/fut+igDA+yeJv+f+1P/AKb9l8Tf8/tv/3zXRUUAc79l8Tf8/lv/wB80fZfE3/P7b/9810VFAHO/ZfE3/P7b/8AfNH2XxN/z+2//fNdDRigDnvsnib/AJ/rcf8AAKd9k8Tf9BC1/wC/db9FAGB9k8T/APQRtf8Av3R9j8T/APQRtf8Av3W/S0Ac/wDZPE//AEEbX/v3R9k8T/8AQRtf+/Vb9FAHPNaeKO2pWv8A36qleXniO1vLa18+3L3DbVcL0Ndca5/Wv+Ri0j1EhoAa1h4pLZGrWw9vJpfsnigf8xG0P/bKuipDQBz32XxR/wBBC0/790fZPFH/AD/2n/fuuhpaAOd+yeKP+gjaf9+qPsnij/oIWn/fquhxRQBz32XxR/z/ANp/37o+y+KP+f8AtP8Av3XQ4ooA577J4o/6CFp/37o+y+KP+f8Atf8Av3XQ4ooA577L4o/6CFp/37o+yeKP+ghaf9+66GigDnvsvij/AJ/7X/v3R9l8Uf8AP9a/9+66GjFAHPfZfFH/AD/Wv/fuj7L4o/5/rX/v3XQ4oxQBz32XxR/z/Wv/AH7pfsvij/n+tf8Av3XQUUAc/wDZfFH/AD/Wv/fuj7L4o/5/rX/v3XQUUAc/9l8Uf8/1r/37o+y+KP8An+tf+/ddBRQBz32XxR/z/Wv/AH7pfsvij/n+tf8Av3XQUYoA577J4o/6CFoP+2dVNSm8S6ZYtcyXdtKqnkBMV1lYvi3jw3cfUfzoAqwQeKJYEkN/ajeoYKY+mak+zeJx/wAvtof+AVtWv/HlB/1zX+VTUAc/9m8T/wDP5a/98UfZvE//AD+Wv/fFdBiloA577N4n/wCfy1/74o+zeJ/+fy1/74roMUYoA5/7N4n/AOfy1/74o+zeJ/8An8tf++K6DFGKAOf+zeJ/+fy1/wC+KPs3if8A5/LX/viugxRigDn/ALN4n/5/LX/vij7N4n/5/LX/AL4roMUYoA5/7N4n/wCfy1/74o+zeJ/+fy1/74roMUYoA5/7N4n/AOfy1/74o+zeJ/8An8tf++K6DFGKAOf+zeJ/+fy1/wC+KPs3if8A5/LX/viugxRigDn/ALN4n/5/LX/vij7N4n/5/LX/AL4roMUYoA5/7N4n/wCfy1/74o+zeJ/+fy1/74roMUYoA5/7N4n/AOf21/74o+y+J/8An+tB/wBs66CigDn/ALJ4p7alZj/tiaje28Vxxs51G0k2jO0RYzXR02biF/8AdNAGZ4c1G61LTDNehA6uU+TvitasLwf/AMgNj/03k/nW7QAoFFFFABRRRQAhqjrX/IFu/wDrmf5VfqjrP/IFu/8Arkf5UAQ+G/8AkWrL/rl/WtMVmeGv+RZsv+uf9a1BQAUUUUAFFFFABRRRQAUUUUAFFFFABRRRQAUUUUAFFFFABRRRQAUUUUAFFFFABRRRQAUUUUAFFFFABRRRQAUUUUAFFFFABRRRQAUUUUAFFFFABRRRQAlLRRQAUUUUAc7pP/I5an/1yX+ddDXPaV/yOWp/9cl/nXQ0ALRRRQAUUUUAFFJQKAFooooAKKKKACiiigAoopDQAtJS0UAFFFFABRRRQAUUUUAFFFFAHOa5n/hJtGH/AE1NdGa57XB/xUujH/pqa6E0AFFJRmkhXFooozTGFFJmigBaKKM0roAooJpKYmwopaQ0DCiiigAopKdQAUUUUAFFFFABRRRQAUUUUAYfi/jwxc/QfzrVsf8AkG23/XJf5Csnxh/yK9z+H861rL/kG23/AFyX+QoAmpaSloAKKTr0paACjNFFABRRRQAUZoooAM0UUUAFFFJmgBaKSigBaKKKACikpaACkNLSUAFFFFAEc/8Ax7Sf7prH8Hf8gE/9d3/nWxcf8e0n+6axvB3/ACAm/wCu7/zoA3qKKKACiijpQAUUUUAJS0UUAFFFFABRRRQAUUUUAFFFFABRRRQAUUUUAFFFFABRRRQAlc9pX/I66t/1zSuhrntK/wCR01X/AK5JQB0VFFFABRRSZoAWikpaACiiigAooooAKKKKACiiigAooooAKKKKACiiigAooooAKKKKAErn9c48RaX/AL5roa57XP8AkYdL/wB80AdD2pKO1IaAFFLSCloAKMUUUAFFFJmgBaKBRQAUUUvSgBKKWkoAKKDRQAUUUUAFFFFABRRRQAUUUUAFYfi7/kWbj8P51t1ieL/+RauPw/nQBq2f/IPt/wDrkv8AKpqgs/8AkH2//XJf5Cp6AFooFFABRRRQAUUUUAFFFFABRRRQAUUUUAFFFFABRRRQAUUUUAFFFFABRRRQAlMm/wCPd/8AdNSUyb/j3k/3TQBh+Dv+QC3/AF3k/nW9WD4N50Bv+u8n863qAFopKKAFooooAKo6z/yBbv8A65H+VXqo6z/yBbv/AK5H+VAEPhr/AJFmy/65/wBa1Ky/DX/Is2X/AFz/AK1qUAFFFFABRRRQAUUUUAFFFFABRRRQAUUUUAFFFFABRRRQAUUUUAFFFFABRRRQAUUUUAFFFFABRRRQAUUUUAFFFFABRRRQAUUUUAFFFFABRRRQAUUUUAFFFFAC0lFFAHO6V/yOWqf9cl/nXQ1z2k/8jlqf/XJf510NAC0lFeR/F341SeBNSg0LQLFNQ1m4QP8APkpECcAYHJY46UAeuZ7UN901843up/H+DTxrD28PkhDM1tGq74168rnPTtk13PwY+LUnxHsLuy1aBLfWLFQ03ljCSKTjcB2OeooAyLP4oeIJf2j5vCEskJ0lXMaxiMBshA27Ne25zXyB418UXvgn9pDWNU0yxhu7xZkSGOYEjLRqOMd+a6nVPG3xw0G2XxPqunRppqHdLaCIERp6sAcge+aAPpajoK4v4afEjTviT4ea+sY2t7m3IjurZ+TGxHY9wcHFefeO/jdrEvjB/B/wzsU1DUA/lSXRG9Q3cLzjA7k8UAe6g5o61806h8QPjH8OGi1DxfZwX+mySASEx5C/7IZcbT9c17b4f8cWXi3wH/wkuh5EZhdiko5jdRyp+hoA6n60HivJfgZ8Q9b8d22sHXmidrW42xmNNuFPatv4y+MNR8E/D241bRjGLoSxxoZF3AbjgnFAHb397Hp+nXF5MCY4ImkYDqQBmuG+FfxMl+JGn6jetpyWUVpc+QiiTcWGMgn8K5/xh4i8Ua/+z+us6HFbiS7tN94cnckePmKfka8t/Z+vfHMOpSweFLKC50Zpla/a4OFU46g5zux25oA+shS01clRuHOKdQAUUUUAFFFFABRRRQAUUUUAc9rf/IyaN/11NdAa57XD/wAVLo3/AF1NdCetAB2rzT41+NNW8F+Era90J1iuJbtEZ3TcAvcfjXpfavGP2lB/xbm1bA51BBz/ALprsy+nGrXjCXUyqto9T0DUpdT0Cyu7ldks0Ku4AxyRWmTxxXz/AGHiz4reJdMh/wCEO0O2tNNt4wqXM5GZ9oxxk/0/Guh+Hvxb1PU/FT+EfHOnLpmsrlYmUYWUjsff6da6MRgJQnJq2nRdCY1LrU0vid4m8Z6JrGhW/hCyNxBczEXREIfABHGe3U816TBIzwI0q7XKgsPQ4ry34r/EXVfBOueHbTT4YWiv5mEzOOdoIGB6da0/it45v/AvhO31TS4YZpJrhIitwCQARntWf1eVVQjFasOdRZ6GWB6GjIHWvm+P4nfFbxRJDe+H9FjFmGCjyUyjH3JrtfiH8Xbrwbp+nafbWSz+I72JS1ufmWFjxzjqSegolltSMlHS4va32PV5ZdkZYdgTXlvwo+IOteLfFview1coYrGb9wqx7Si7iMH8q5M+L/i94dthq3iDSYLywYZkjUYaEEdSBzTv2er86p418XXxUL9q8qUqP4SS2a65YF0cPKbafoKNS8rH0DQaKQ14NzoFopKWqGFLSUUwFooooAKKKKACiiigAoopKAMPxj/yK9z+H861rL/kHW3/AFyX+QrJ8Y/8ivc/h/Otay/5Btt/1yX+QoAmrG8YatNoXgvV9UtV3T2lpJLGMZ+YKcfrW1XPeP8AA+HPiEt0Gmz/APoBoA5D4FeN9Y8beDJrvxBIs1xDOU84IF3Dn0+leoBgRXyH8IvG3ji28PTeGvAGgR385YyS3MvSHJPPJA/M10K/GL4i/DrxPBZfEfTkltLg7jhADtzjcjDg49KAPpoc0pOOtYWteLdK8P8AhGXxHqM4jsEhWYMBkvuHyqPc5Arwqz+JvxW+JuoTzeA7G303S7dyFkkUc+gZjnJ9gKAPpKivAvDHxs8ReGfFieGvi3p4s3mwIrtExjJwCcEgqfUdK9N+JPxCsfh14UbVrpRcTSsI7W3DY81zz19AOTQB15NHSvnLT/FPxv8AHFgNc0KG006wlOYI9gXzB7bskj34rW+HPxm8SS+Po/BXxD05YL6VjHHLGm1g+MgMMkEEDqKAPeBzSV5J8aviprHw0vNI/sm2trlLxZDIk4P8OOhH1ri9C+Ivxj8V63p11ZaH5OlzSozGODEZiJ5OSc4xQB9H571neIL99K8NapqEKhpbSzlnQEdSqFh/KvIPij8cL7TPED+EPANp9r1rzBFJOU3BGI+6o7tz1PArlvEHjn4veDPC9z/wmWlWt5p+oRNA1wy8xbwRg7TwcE9RQB6F8BfiDrfj7w/qk/iJ4pJrW4VUeOPbkMCcY9sV6vXgX7KRU+GfEOwYH2yP8PkNe+0ALRRSUALRRRQAUlLSUAFHeijvQBHcf8esv+6ax/B3/IBP/Xd/51sXH/HtJ/umsfwd/wAgE/8AXd/50AbtI3SloxnigDynwT4s8car8V9a0zW9PeHQrd3W3kaDZgD7vzd88V6rnFeR+BPibrPiT4teIfDl6kH2GwlZINqYYAEjk9+lZvjz4ueJJfHcngf4c2EE+oxjE93MM7D32jOMDPJOaAPbwQ3Ior5n1nx/8X/hdc2114rW21XT5sAvsBQHuu5cbT9a9+8J+J7Hxj4Xs9b0wkQ3KBijfeRu6n6UAbVFJS0AFFFFABRRRQAUUUUAFFFFABRRRQAUUUUAFFFFABRRRQAlc9pX/I6ar/1ySuhrn9K/5HTVf+uSUAdDRRTWLbDtGTjigDzf4o/FxPh3qulaemn/AG2a/IJJfaEXdtz9a2vih4lvvCfw71HWdI2/a4EGzcm4Ak4zivmP483PiR/isf7chWMxqv8AZ6JypjzwR75zmvXvFk/jC/8A2d9Sl8b2NraX6xqxEbcmLjlhkgP7UAdj8HPF+peNvh1a6vrQQ3TSyRO8a7Q204ziu8FfJ3ws8dfEV/Bq+GPAHh+1nS2Zy18w5j3HJzkgd/et/SPjN458EeMLfQ/ifYgw3DD96EAdQTgMCDhlzQB9JUucda5/xb4t0/wb4Uutd1Vz5EAGFA5kY/dVfc14ZaePfjF8R3bUvCFlBpmlI5ERIGHx2JbJJ+gFAH0nRXhPgL4263beMF8I/E+wWwv3YJFchdo3dgwzjB7MK92oAKKBRQAUUUUAFFFFABRRRQAUUUUAFHeiigAooooAK57XP+Rh0v8A3zXQ1z2uf8jDpf8AvmgDoe1JijsKUUAIBilHNeL/ABN+KWu/D/4naRaMsEmi3wXzEZPmC7gGIPYjNei+NPFKeFPAOo+IY0E32W3EkSscB2OAo/UUAdHQa8a+Bnxb1X4h3up2HiGO3S5tEWaFoV27lJIII9uKX4tfFPW/DPjbRfDHhUWzXV2ytOZU3EBmwFHpkd6APYwaWvKPiv8AGeLwCsWk6Zbrf+IZ41YQkZSHPdsck+grhJ/Ffx403TV8Q3WnRyWSgytbeUCVTrkqDnH60AfSQNHNec/Cb4s2fxM06aNoPseq2ag3FvuypB/iXvjNeceOvj/4q8L/ABG1nw7pmnWFzHBMsNtvRi4JUHPB569KAPozNLnivFPhj4s+Js2u3UnxA0v7NoyWzXEl1Mgj8lQM5HPIrmrv4y+PPiF4ouNK+F2nxxWdsS3numWZR/ExPCg9h1oA9C+OvjfWvAvgq3vvD0iRXE10Imd4w+1cE9/pXYeCNZn8Q+BtH1a8AE95aJLJtHG4jmvlf4q+PPGt1ocPhLx5pcNtdRyCcXCKQZl7HrjH0r6a+F3Pwp8NY/6B0X/oNAHWUUUUAFFFFABRRRQAUUUUAFFFFABWH4v/AORauPw/nW5WH4v/AORauPw/nQBqWf8AyD7f/rkv8hU9Q2f/ACD7b/rkv8hU1ADsUlcH8YvEGu+F/h7dax4akVLm1dC+6PcNhOCfwqT4S+PP+Fg+B4dTn2LexuYrqNf4WHf6HrQB3HagV5B8cfipf+CG07RvDbJ/a16wkLOm4JHkj8ya1viN8Vo/hx4RsJbqJbzXb6EeTbDhd2BuZu4UE/jQB6TRXzOnib48avpQ8R2dsIrJv3qWqQgFk9Qp5x+Nd58IfjVH4+uH0bW7dLLXIlLFV4ScDrgHkEdxQB64eKK8e8T/ABS1vQ/jxpfhKKK2fTblI/MynzkvnkH2xXr8jbI2YfwqTQA6g14r8F/irrvjvxlrmm6ysHkWkRlh8tcFf3gXHvwa9qoAKKKKACiiigAooooAKKKKACiiigAooooAKjm/495P901JUc3/AB7yf7poAw/Bf/Ivt/18SfzrfrA8F8+Hz/18SfzrfoAKKWigAooooAKpaz/yBbv/AK5H+VXapaz/AMgW7/65H+VAEHhr/kWbL/rn/WtQVl+Gv+RZsv8Arn/WtQUAFFFFABRRRQAUUUUAFFFFABRRRQAUUUUAFFFFABRRRQAUUUUAFFFFABRRRQAUUUUAFFFFABRRRQAUUUUAFFFFABRRRQAUUUUAFFFFABRRRQAUd6KO9ABRRRQAtJRRQBzuk/8AI5an/wBcl/nXRVzuk/8AI56n/wBcl/nXRUAI3SvIPib4u+H3grxXb6nfaNHrHitVVYoIfvqD0LHkA+nBNewHkEV8m/ERZvA37SK+JfEGnvcaTJcpOjbNyumwA4zxkEZx7UAdxefF/wCJGt27t4X+HN1bxspHm3KszfUAgA1yn7Mkk03xL8RSXa7Ll7RmkXG3DmUZGO3Jrt/EH7Rvh46PPD4OS+1PWZkxbRC3YKGPc/TrjFeffs2alIfi9qg1RmF5fWkrt5i4LPvDNkdupoA1INPtdT/bIvBdgOtvOJVRhkMwiXH86+kr62hu7Ge1uV3Q3EZikB7qRg/zr5F8fa5eeEv2mNR1uwhed7O6SVowpO5Sigg49jXpHin9pnQJvCMsfheC8k1m5j8tEmh2rAzDBOc8kdsdaAOY+A15Jovi3xxZWZIt7e2ndBnvGxC/pWx+y1pltK3iDWpDuvhP9nOeSEOGJ/Otj9nv4f39h4d1XWvE0DRza6pURSriTyznLEdtxOa890TUtY/Z6+Jt9b61Yy3OjXpKiWMHa6bgRIh6FgOCDQB9MeNNPttT8C61Z3cavFJYy5BHcISD+BFeC/s43Uq+DfGdmzsYYVV1BPCnawP0zirnxD/aK07WPDcui+A7e8mvtQQwtLJDtMYYYIVeSW5rrfgh8N7vwz8Ob6PW1aC/1sbpYmGTEu0hc+/OSKAOd/Zd5sfExH/P7/Sug/aUB/4VDOc/8vcOf++q8p+Gvj0/BfxprmieMLK5SCaUlzEmWVgflYDPIIpvxt+MSeP9Lt9N8NWt1HosbiS4uJotvmydl7gAdevNAHsXgwhf2ZYD1H9lS9+v3q5r9lVseFdfGOP7QXH/AHxXWfDqzfUv2d7CzTIkn02RBx1bnFeO/A34n2XgDUL3wz4itZYkvL3ImVCTFJwm1l64460AfV9LSAhgCDkEZFLQAUUUUAFFFFABRRRQAUUUUAc7rn/Iy6N/11NdCa5/XP8AkZdF/wCuproTQAh6V4v+0u+PhvaJ3bUEOfT5Wr2ivGP2lgG+H1jGc7n1FAOP9k125ev38UZVNj0vwrYwWHhewt7f/Vpbpt/EZrxj422kdt8VPB2pQErcvcxoxXg4DjH86s+Dfj5oeleF7ex8VRahBeWybN625ZZQOmPQ1h6bLqfxp+Lmn65a2MltoGlzKfOYHbhTkD3Y16lGnKhiZ1Kr0117mD96KSNL9ogmTXPBhbq0rk/99LWt+0c+PhnYAZ5uox/46ay/2jCU8R+DQoLfv3AAHX5krT/aOYj4Y2Hynm7j7dPlNKlOKVFrpcqx6J8P7KOy+G+hwRDAWzTOB1JGSa8ltLaPVP2sbn7WufssIkiBPQqoxj869k8Ebn8BaNuVlP2OPIIwRxXj/wAVNJ1nwV8U7T4gaRaPeWbhFuVjX7uBghvTPrWGFnzVakb6yTt945KyTse63UKTQPHJyrqVbPcEV4f8BbOKw+Ifji2t+Y4ZkRfpuereqftGeH5NDYabZ3ram8ZAgeI7UJHUnvWR+zbK8niTxFLclvOuY0lYsCMncf8AGrjQqUcNP2ml+go6zPoeil60mK+eSdzqFoxRS4rRAJRS0UwCiiigAooooAKKKKACkpaSgDD8Y/8AIr3P4fzrWsv+Qbbf9cl/kKyfGH/Ir3P4fzrWs/8AkHW3/XJf5CgCftXOfEP/AJJr4iz0/s2f/wBANdHXMfEqTyvhj4iYAk/2fKAAM/wkUAeZ/st2kMfga+uUH72a4w59QM4qH9qqNZPBejswG9dQwpx0yhqf9lmQv4Ev0IOEuRjj1zVf9qon/hC9J/6/+vp8hoAyvjHqdxF+z74Ys0GY7qGHzT/uAYrP+Hfjn4haD4GtLDQ/Af22wXLRXGSm/PfHf613mv8Agy58cfs46ZZ2cJ/tOGwimt424LMACV+pArivhl8c7PwZ4dXwv48s76C401mjilEe5gufuMpwRigDC+JD/En4jtp323wHdWctkSVkhiLZz79hXsPi+XwxpXwp0O5+LFvHcz2sUbJag7nlm2jKqO/v2rzTxN8W/E3xT8Qp4f8Ahxb39tYLIjNLD8sjIDyzkfdX2z2rY/af0HU5NF8P6lBFJcWGnho7hkGfLJ2/MfY4xmgCzafHXX9YtIYfBHw1vpIVTZA2GaMAdACqhQPxrhNP1bxLq/7SXh6/8Z2A069a5VRAI9oRQDge/wBa9I0H9obwJpngqxgjjvIbq1tkiFjFAcFwvQEcYJ7147N441XXfjlpXijWrWayRryMW8MithI87QBnr1oA9K/acgjvdW8H20mQJp3jYj0ZlBr3vR7VLDQLG0txhLe2jjQeyqAK8G/aVmx4o8HbQxEdxuyBwfnXpXv2mvv022Y5y0SkjHsKAPmP9niIap8ZNfv75RNPHDK4ZxkqxlAz+Wa+hPiBptvq3w7160vEDRtYTNz2KoSD+Yr531631X4EfGqXxFBZSTeH9QduYx8roxyyZ6BgeRmtz4jftHaPrHgy70vwhFeC9vYzC8k8QURoww2OTk4oAtfsm5/4R3xH6faocf8AfDV9BV4B+yew/wCEa8Qr6XcX4/Ia9/oAUUUUUAJS0UUAFJS0lABRS0UARXH/AB7Sf7prH8Hf8gE/9d3/AJ1szjNtJ/umsbwf/wAgE/8AXd/50AbtFFGaAPnX4Q/8nEeNA4wftEp+nztUfxH+HvjTwj8SpvHfgMG+ScmSSMLuaInqpX+JTUnwhYv+0R4zJ73ErZ/4G9Vta+InjD4U/GC9/wCEk+13fhu8nZoY2GUMZ/ijPqPSgCta/tC38ajS/iT4PjmtJflmJiKHHrsYYNe/eDtQ8P6r4ZtrzwgYTpkg+QRLt2nupHYj0rwj4sfGzwV4w8F3Gk6Np01/f3RVUkuLbYYeQcqeTn6V6P8AAHwrqfhT4YxwazF5M93cNdrCfvRoyqAG9DxmgD00UtFJQAtFFFABRRRQAUUUUAFFFFABRRRQAUUUUAFFFFABRRRQAlc/pX/I6ar/ANckroK5/Sv+R01X/rklAHQ0UUUAfMX7TRH/AAs7wuuP+XZT9f3xr1r45Mf+FOaxjPzIqnHpmvKv2p7G6t/Evh7XUhLW0cRh39t4cuB+VdJ4t+Ith8RP2fNV1DToJoJkdIJ4XXO1+pII6r70Aav7NFlDD8I4blEAluLqbzG/vYbArlv2n7cHUfDE4GH8/wAsH2zmuv8A2bCT8G7QEYxdz/8AoWa5D9qKVkuvDbAEhZ93TuDQBF+0zd3H/CDeEoC7ASs5kUHhiEXH9aqeFfiN8S9G8J6bZ2HgL7RYwW6LDKiMvmLjhuPWu5+NHgO98dfC3Tp9IjMuoaci3EduBzKGUb1Hv3/CuR+Hf7QumaD4ah0LxvaXlvd6aggSSOPdvCjADDggjpQBxfje2+I/xG8S6fqt54Lu7SW1CxI0ELdN2ck/1r62003P9m2321Qtx5S+YAejYGa+bJfiX43+LPxAj0zwLJd2GjpKpLRrt2xg8vIw9f7tfTiKVjVSdxAALetADqKKKACiiigAooooAKKKKACiiigAo70UUAFFFFABXPa5/wAjDpf+/XQ1z2uf8jDpf++aAOg7CkpewoPNAHin7TnhpdS8BW+tQRlrnTZwCw7RsDuP4ECuW+I3jZfEnwS8IabDcp9o1i4jiuI1PzKikqCR9cV774s0RPEfg/VNHkXP2y1eIexI4/Wvjf4V6PPrPxc0LSb1ZJEs7lvNQg/u1TJP05H60Adv4M0o/Cr9pSDR7y9AtbiFlMkhwpV0JXJ+orV8KKPiH+1JqGsTR77XSSfLdeV3REKmPrU/7VGhpC2ieIoImExL2s0ijtjK5/M1v/sw+H3s/Bd9rlwp8zVJ8IWGCETI/Ik5oA4zTLGDVv2wdQOofMLe6aWNG5GQgwP1r6gJ9vrXzR8WvDut/Dz4tQ/EjSLdr2wkkWWbg4jfG0o2P4SO9dLf/tSeGB4eabTrC9bVDH8ttNGAiv7sDyPpQByXwxjh0b9qfVrSzOIJBcLtU8ckNj86bpmnx337ZN4LgbxBdtMAR1IjGP5/pWt+z54Q1fUPGWpePdftntkuEb7MHXHmtIclhnsAMVV0LzF/bG1YhS/71txAzgGNeaAPVfjjdz2nwf1prYkNJEI2wcfKTg1z37M9hDb/AAmW7iQebdXUvmt3ba2APy/nXpPi7QI/FHhDUtHk2j7XbtGjMOFfHyn88V83/Df4k3vwVv77wj450y6FosxaOSNcmM92AP3lbg5FAHa/tTWMM3gHTbx0UTW95tRsc4ZSCK9I+FnHwp8Nf9g+L+VfNHxs+MEXxEW203RbWSHSbaUyiaZcPK2MdOwGTxX0t8KTn4T+G+CP9Aj4IxjigDraKKKACiiigAooooAKKKKACiiigArD8Xf8i1cfh/OtysPxd/yLdx+H86ANWy/5B9t/1yX+VT1BZ/8AIPtv+uS/yFT0AUtZ0yHW9CvtMuQDFeQPC2RnG4EZr51/Z81CTwf8R/EXg3Uf3ayFnUycHdESAfxU19L96+Xf2ktGn8N+ONP8U6UzwNqEZjlkjOMOuMfmP5UAWvDUC/E/9pq+1SRxcabpILqr8qVHyhf++jVf4krBr/7U2lWGoAm2h8iPYehwS36mu8/Zs8NPpngGfWrxB9p1i4aZWxz5Y4H5kE1zn7QXgfWLbxRYePvDsbzm0VftSouTF5Zyr4HUHoaAPoU4RQFAAAwAB0r5l8QWdvo/7XmlTaf8huZ0llRezFCDx711Fn+1F4Zbwws99Y3iawI8NapGCjP6h8/dP51ynwq0PxB8SPjEPiHrFo1pp8MhmR9pCyMF2qiZ6gZyTQBb8eorftbaKGzwkB/9Cr6Sk/1b/Q18z/H621bwv8XNJ8bWlq0tpHFEN4GVDITlW9Mg1veIP2m9EufC8sXhmyvm1m4iKokkQ2xMe+QfmxQBzv7MfHxJ8T46fZm/9HCvp6vlv9ldm/4TrXfOJ81rAFgwwd3mAmvqWgBKKWkoAKKSloAKKKKACiiigAooxRQAUUUUAFRzf8e8n+6akqOb/USf7poAw/BX/IvH/r4k/nW/WB4K/wCReb/r4k/nW/QAtFAooAKKKKAA1R1n/kC3f/XI/wAqvGqOs/8AIFu/+uTfyoAh8Nf8izZf9c/61qCsvw1/yLNl/wBc/wCtalABRRRQAUUUUAFFFFABRRRQAUUUUAFFFFABRRRQAUUUUAFFFFABRRRQAUUUUAFFFFABRRRQAUUUUAFFFFABRRRQAUUUUAFFFFABRRRQAUUUUAFFFFABRRRQAUUUUAc7pX/I56n/ANcl/nXRVzuk/wDI5an/ANcl/nXRUAFVNQ0yx1W2NvqdpDdQnkpMgYZ/GrdFAGTpfhfQ9ElaXSdLtbSRvvNDEATVsaZYDUBfiztxdhSonEYD4PbPWrVLQBUfS7CSd5nsrcyyffkMS7m+pxzWVF4E8LQ6sdUi0GxW9Y5MoiGc+uOldBRQAZqnqWk6frFt9n1Wyhu4s52zIGwfb0q5iigDD0zwZ4b0a5Fzpmi2dvMOkiRjI+hPStsdeaWjFAGTq/hjQ9eZW1jS7W8dejyxgsPx61Yt9E0u008WNtp9slqowIRENv5d6vUUARwQQ2sCw20SRRIMKiLgAewrMuPCugXeofbrnR7OW7B3ec0I3Z9c1r0UAIOAB2paKKACiiigAooooAKKKKACilpKAOe1z/kZNF/66muhNc9rn/IyaL/11NdCaAEqG5tLe8jVLqCKZVO4CRAwB9eampaE5J3QaMyb3w1o+oKq3um20wU5G6McVdtLG1sLVbaygjghX7qRqFA/KrFGKp1JyVmyeUqXWmWN9JDJe2kE7wHMTSxhih9RnpTrzT7PUYPJv7aG5iyGCSoGAI+tWcUYqeaQWERFjQJGoVVGABwAKZPbxXMLw3EayxuNrK4yCKlpMU7taodjGsvCWgafI0llpNpCzdSsQrRhsrW3laWC3ijkYYLIgBIqwBS4xRKpVl8TEopABSYopai/QoKKKKoAooooAKKKKACiiigAooooAKSlpKAMPxh/yLFz+H861rL/AJB1t/1yX+QrJ8Yf8ixc/h/Otay/5B1t/wBcl/kKAJ/pTZYo5omjmRXRwVZWGQR6UtLQBU07S7DSLX7NpdpDaQA58uFAoz+FJqGk6fqsKxalZw3UatvVJkDAN681cooAbHGkSKkahUUYVVGABWNrPg7w54glWXWtGtLuRTkPJHz+Y61tUUAUNL0LStDgaLR7CCzRvvCJAN31q5PDFcwPDcRJLE4w6OuVYe4qSkoAwbfwN4WtL0XdtoNhHcDpIIRkVoXuiaXqSot/YW9wImDR+ZGDsI7j0q/RQBTu9K0+/khe+s4Lh4G3RNIgYofUZ6VbpaKAK95Y2uo2rW2oW8VzC3VJUDA/gaztP8IeHtJZm0/RrOAt1Kwg/wA62aM0AVrTTrLT/M+wWkFsJDucQxhdx9TirAopaACiiigAooooASiiigBaKKKAI5/+PeTH901jeD/+QEf+uz/zrZn/AOPaT/dNY3hD/kBH/rs/86ANyjr1opKAKlro+m2WoXF9aWUEN1c/66ZEAaT6nvTtR0rT9XtvI1Szhu4s5CzIGA/wq1RQBhaf4I8MaVP5+n6JZQSA5DLEMg/jW9miigAooooAKKKKACiiigAooooAKKKKACiiigAooooAKKKKACiiigBK57Sv+R01X/rkldDXP6V/yOmq/wDXJKAOh70lLRQBWvtPs9UtDa6laxXUDHJjmQMpPrg1VtPDejWFlLaWWmWsNtN/rIVjG1vwrSFL0oAr2Nhaabapa6fbRW0CfdjiUKo/AVFqOj6dq/lf2nZQXfktvj85A21vUZq7RQAgXaAF4AGABWFq/gbwvr1wJ9Y0Ozupc53vHgk+px1rezRQBT03SNO0a0+zaTZQ2cP9yFAufr61coooAKKKKACiiigAooooAKKKKACiiigAooooAKKKKACue1v/AJGLS/8AfNdDXPa5/wAjDpf++aAOg9KKMUUAKDVK10bTLK8mvLSxt4bmY5klSMBn+pq7RQBU1HTLHV7U22p2sV1BnJjmUMpP0qeCCK2hWK3jWKJFwqIMAD2FPozQA2aKK4haKeNJY3GGR1BDD0INc/F8PvCUU4mj8P2IcHOTFnn6GujooAaERFVUUKqgAKBgAVTi0XTINUl1OGxgS+mAElwqAOwHYmr2aKADFZGt+FdC8R+X/bul298Y/uGZMlfxrXooAzYPDmi21qlvBpVkkSDaqeQuAPyq/FDHBGsUCLHGgwqIMAD6U/NJQA6koooAKKKKACiiigAooooAKKKKAErE8Xf8i3cfh/OtusTxcf8Aim7j8P50Aatn/wAg+2/65L/Kp6gsv+Qfbf8AXJf5Cp6AMzxFrtr4a8P3mr36u1vZxGSQIMnAr5b8fePJ/jn4s0Tw/wCHNPngtVmA/eHJJJwXOPugCvrK7tLe/s5bW8hSeCZSkkbjIYHsax/D/gvw54VaRvD2j2lg0v32hjwx9s9cUAaGj6XBoui2mm2ihYrWJYlA9h1q4VV1KuoYEYII60UtAHMy/DnwfPdtdS+HrFpmbcW8vv8ATpXRQwRW0CQ20aRRIMIiKFVR6ACpKKAILqztr+3kt76CO4hkGHjlUMpH0NZmmeDfDujSNJpejWds7HJZIhn9a2aAaAK8GnWVrcPPbWkEMzjDyJEFZvqRVmijNAAaSlooASloooAKWkooAWkoooAKKKSgBaKSigBajm/1En+6akqOb/USf7poAw/BP/IvH/r4k/nXQVz/AIJ/5F4/9fEn8636AFooooAKKKKACqOs/wDIFu/+uR/lV6qGtcaJeH/pk38qAIvDX/Is2P8A1y/rWnXM6F4g0620K1gnuFSSOPBBzWgPE2lH/l8j+lAGvRWT/wAJLpf/AD9x/nS/8JLpf/P2n50AatFZP/CS6X/z9x/nR/wkul/8/afnQBrUVk/8JLpf/P3H+dH/AAkul/8AP3H+dAGtRWT/AMJLpf8Az9p+dH/CS6X/AM/Uf50Aa2aKyv8AhJdL/wCfqP8AOk/4SXS/+fpPzoA1qKyf+El0v/n6T86P+El0v/n7T86ANaisr/hJdL/5+0/Oj/hJdL/5+k/OgDVorK/4SXS/+fpPzpP+El0v/n6T86ANaisn/hJdL/5+0/Oj/hJdL/5+4/zoA1qKyf8AhJdL/wCfpPzpf+El0v8A5+0/OgDVorK/4SXS/wDn6T86P+El0v8A5+k/OgDVorK/4SXS/wDn6T86P+El0v8A5+0/OgDVorK/4SXS/wDn6T86P+El0v8A5+k/OgDVorJ/4SXS/wDn6T86X/hJdL/5+k/OgDVorJ/4SXS/+fpPzpf+El0v/n6T86ANWisr/hJdL/5+0/Oj/hJdL/5+0/OgDVorK/4SXS/+fpPzpP8AhJdL/wCfpPzoA1qKyv8AhJdL/wCftPzo/wCEl0v/AJ+k/OgDVorK/wCEl0v/AJ+k/Oj/AISXS/8An7T86ANWisr/AISXS/8An6T86P8AhJdL/wCfpPzoA1aKyv8AhJdL/wCfpPzpP+El0v8A5+0/OgDWorJ/4SXS/wDn7T86P+El0vvdp+dAGtRWSfE2kDrfxD8aT/hJ9I/hvo2PoM0AVNK/5HLU/wDrkv8AOuirjNP13T4fE1/dS3AWKVAqsR3Fbn/CUaOP+X6L9aANeisj/hJ9KPS7Q/jR/wAJNpf/AD9J+dAGvRWR/wAJNpf/AD9J+dH/AAk2l/8AP0n50Aa9FZH/AAk2l/8AP0n50f8ACTaX/wA/SfnQBr5orI/4SbS/+fpPzo/4SbS/+fpPzoA16KyP+Em0v/n6T86P+Em0v/n6T86ANeisj/hJtL/5+k/Oj/hJtL/5+k/OgDXorI/4SbS/+fpPzo/4SbS/+fpPzoA16M1kf8JNpf8Az9J+dH/CTaX/AM/SfnQBr0Vkf8JNpf8Az9J+dH/CTaX/AM/SfnQBrUtZH/CTaX/z9J+dH/CTaX/z9J+dAGvRWT/wk+l/8/afnR/wk+k972P86ANaisj/AISjRx1v4h+NIfFejD/l/jP0zQBV1z/kZNF/66muiNcbq+uWE+vaVNHOCkLlnbHAFbjeJtIXrfR/rQBqmisv/hJNJIyt9EfxpP8AhJdM7XSH8akRrUVk/wDCTaX3ukH40f8ACTaR3vo/zqhmtRWT/wAJNpH/AD/RfnR/wk2kf8/0X50Aa1FZP/CT6R/z/R/nR/wk2kf8/wBH+dIDWorJ/wCEn0j/AJ/o/wA6P+En0j/n+j/OmBrUVk/8JPpH/P8AR/nR/wAJPpH/AD/R/nQBrUVk/wDCT6P/AM/0X50f8JPpPa9jP40Aa2aKyf8AhJdL7XafnR/wkul97uP86ANakrJ/4SfSO99EPxpf+En0bvqEX5mgDWorJ/4SjRv+ghF+Zo/4SjRv+ghF+ZoA1qKyf+Eo0b/oIRfmaP8AhKNG/wCghF+ZoA1qQ1lf8JRov/QQh/M0n/CUaL/0EYf1oAh8Yj/il7n8P51rWXGn23/XJf5Cua8Sa7p17oE0VvdK7MQBt+taNp4m0gWUQa+jBRApBB4OKANsUtY3/CV6J/0EI/yP+FH/AAluh/8AQRi/I/4UAa9FZH/CVaIemoxfkf8ACj/hKtE/6CMX5H/CgDXorI/4SrRP+gjF+R/wo/4SnRP+gjF+R/woA16KyP8AhKdD/wCgjF+R/wAKP+Ep0T/oIxfkf8KANeisj/hKdE/6CMX5H/Cj/hKtE/6CMX5H/CgDXorI/wCEp0T/AKCMX5H/AAo/4SnRP+gjF+R/woA16Wsf/hKtE/6CMX5H/Cl/4SnRP+gjF+v+FAGvRWR/wlOif9BGH9f8KP8AhKdF/wCgjF+v+FAGvRWR/wAJRov/AEEYf1/wo/4SjRf+gjF+v+FAGvSVk/8ACUaL/wBBGL9f8KP+Eo0X/oIw/r/hQBrUVkHxRo3/AEEIv1o/4SjRT/zEIv1oA16Wsj/hKNF/6CMX6/4Uh8VaGP8AmJQ/r/hQBqT/APHvJ/umsXwef+JD/wBtn/nTpfFWjPDII71HO08AH/Cs7wtrem2uimO4uljYSscMD0JoA6yiskeKdE/6CMP6/wCFH/CVaGOupQ/r/hQBr0lZH/CV6Ef+YnD+Z/wo/wCEr0Lp/aUP60AbFGax/wDhK9D/AOglD+tH/CV6H/0Eof1/woA2KKx/+Er0P/oIw/rR/wAJXoX/AEEof1/woA2KKx/+Er0L/oJQ/r/hR/wleh/9BKH9f8KANiisf/hK9D/6CUP60f8ACV6H/wBBKH9aANiisf8A4SvQ/wDoJQ/rR/wleh/9BKH9aANiisf/AISvQ/8AoJQ/rR/wleh/9BKH9aANiisf/hK9D/6CUP60f8JXof8A0Eof1oA2KKx/+Er0P/oJQ/rR/wAJXof/AEEof1oA2KKx/wDhK9D/AOglD+tH/CV6H/0Eof1oA2M0Vj/8JXof/QSh/Wj/AISzQv8AoJQ/r/hQBr1z+lD/AIrPVj6RoKsjxXobMFXUYiSeAM/4Vi6fr+lW/irVJ5rxUSRVClgecUAdlQax/wDhLNDH/MRh/I/4Uf8ACV6J/wBBCL8j/hQBr0tY/wDwlWif9BGL8j/hS/8ACVaJ/wBBGL8j/hQBr0Vkf8JVon/QRi/I/wCFJ/wlWif9BGL8j/hQBsUVkf8ACVaJ/wBBGL8j/hR/wlWif9BCL8j/AIUAa9FZH/CVaJ/0EYvyP+FH/CVaJ/0EIvyP+FAGvRWR/wAJVon/AEEIvyP+FJ/wlWif9BGL8j/hQBsUVkf8JVon/QRi/I/4Uf8ACVaJ/wBBGL8j/hQBr0Vj/wDCVaJ/0EYvyP8AhS/8JVon/QRi/I/4UAa9FZH/AAlWif8AQRi/I/4Un/CVaJ/0EYvyP+FAGxRWR/wlWif9BGL8j/hR/wAJVon/AEEYvyP+FAGvRWP/AMJVon/QRi/I/wCFL/wlWif9BCL8j/hQBr0Vkf8ACVaJ/wBBGL8j/hSf8JVon/QRi/I/4UAbFc9ro/4qDSfeQ1ZPi3Qh/wAxGL8j/hWLq+v6dNr2lSJOGjjcszAHAFAHZUmayT4n0f8A5/4s/jR/wk+kd76IfUmgDWorJ/4SnRB11GH9aT/hKtC/6CUP60Aa9FZH/CVaH/0Eof1o/wCEr0L/AKCUP6/4UAa9FZH/AAlehf8AQSh/X/Cj/hKtC/6CUP60Aa9FZH/CV6F/0Eof1o/4SvQv+glB+tAGvRWR/wAJVoX/AEEof1o/4SrQv+glD+tAGvSVk/8ACVaH/wBBKH9f8KP+Eq0P/oJQ/r/hQBr0VkjxTof/AEEYf1o/4SrQ/wDoIw/r/hQBrUtZH/CVaH/0EYf1/wAKX/hKtD/6CMP6/wCFAGtmjNZH/CVaH/0EYf1/wpf+Eq0P/oIw/r/hQBrZpKyf+Eq0P/oIw/r/AIUf8JVon/QRh/X/AAoA1qKyf+Ep0T/oIw/r/hR/wlOif9BGH9f8KANYmsLxl/yK9z+H86m/4SnRP+gjD+v+FZHibxDpd3oM0NvdLKXIACA+tAHT2XGnW3/XJP5CrArEtvEekJYwB72NSsagg59KePFOjHpfx/rQBs0Vj/8ACU6MP+X+L9aB4p0Y/wDL/F+tAGuKKyf+Eo0X/oIw/rR/wlGi/wDQQh/WgDVorK/4SjRf+gjD+v8AhSf8JRov/QRh/WgDWorK/wCEo0X/AKCMP60f8JRov/QRh/WgDVorK/4SjRP+gjD+tH/CUaJ/0EYf1/woA1qKyf8AhKNF/wCghD+v+FJ/wlOi/wDQQi/X/CgDXorI/wCEq0X/AKCEX6/4Uf8ACU6L/wBBCL9f8KANeisj/hKdE/6CMX6/4Uf8JTov/QRi/X/CgDXorI/4SnRf+ghF+v8AhR/wlOi/9BGL9f8ACgDXorI/4SrRf+ghF+v+FH/CU6N/z/xfrQBr0Vkf8JTo56X0f60f8JRpP/P4h/OgDXqOb/USf7prLPijSP8An8T9aZL4n0xoJPLuA5CngA80AReCf+Reb/r4k/nXQCuf8Ff8i7n+9M5/WugoAKKKKACiiigAqhrf/ICvP+uTfyq9VHXP+QFef9cm/lQBn+HNLsm8O2jtAjs8YLMwyTWkdH089bOI/VRVfwzx4XsP+uQrVoAo/wBjad/z5w/98ij+xtO/584f++avGkoApf2Pp3/PlD/3yKP7H07/AJ8of++Ku4ooApf2Pp3/AD5Q/wDfIo/sfTv+fKH/AL5q7RQBS/sbTv8Anzh/75o/sbTv+fOH/vmropaAKP8AY+nf8+cP/fNH9jad/wA+cP8A3zV6igCj/Y2nf8+cP/fNH9jad/z5w/8AfNXqKAKP9jad/wA+cP8A3zR/Y2nf8+cX/fNXqKAKP9jad/z5w/8AfNH9jad/z5xf981eooAo/wBjad/z5Q/980f2Np3/AD5w/wDfNXqKAKP9jad/z5w/980f2Np3/PlD/wB81eooAo/2Np3/AD5w/wDfNH9jad/z5Q/98ir1JQBS/sfTv+fKH/vmj+xtO/584f8AvmrtLQBR/sbTv+fOH/vmj+xtO/584f8Avmr1FAFH+xtO/wCfOH/vmk/sfTv+fKH/AL5q/RikBR/sbTv+fOH/AL5o/sbTv+fOH/vmr1FHQCj/AGNp3/PnD/3zR/Y2nf8APlD/AN81eooWwFH+xtO/58of++aP7G07/nzh/wC+avUUwKP9jad/z5Q/98Uf2Np3/PlD/wB81eooAo/2Np3/AD5w/wDfNH9jad/z5Q/981eooAo/2Np3/PnD/wB80f2Np3/PlD/3zV6igCj/AGPp3/PlD/3yKP7G07/nzh/75q7RigCl/Y2nf8+cX/fNH9jad/z5Q/8AfAq9RQBSGkacP+XKH/vgUv8AZVh2tIR9EFXKTFAHJ6Xp1mfGOpQtArIkasqsMgZroW0jT25azhP/AAAVj6UP+K51U+sKfzrpKAKH9i6b/wA+UP8A3zSf2Jpv/PnF/wB81oUlAFH+xdN/58ov++aP7E03/nyi/wC+avUUAUf7E03/AJ8ov++aP7E03/nzi/75q9RQBQ/sTTf+fOL/AL5pf7E03/nzi/75q/RQBQ/sTTf+fOL/AL5o/sTTf+fOL/vmr9FAFD+xNN/584v++aP7E03/AJ84v++av0UAUP7E03/nzi/75o/sTTf+fOL/AL5q/RQBQ/sTTf8Anzi/75o/sTTf+fOL/vmr9FAFD+xNN/584v8Avmj+xNN/584v++av0UAUP7E03/nzi/75pP7E03/nzi/75rQooAof2Jpv/PlD/wB80v8AY2mj/lyh/wC+BV6igCj/AGNpv/PjD/3wKcNJ08fds4R9EFXMUUActrGnWieItKUQLtdyGGODW6+lWD/etIj/AMAFZWuf8jHov/XU10JoAo/2Pp3/AD5Qj/gIpp0XTv8Anzi/75q/Ril0EUBounD/AJc4v++ad/Y+nd7KH/vgVdxR3pDKX9j6b/z5Q/8AfAo/sjTf+fKH/vgVdpOtUxFP+x9O/wCfKH/vgUf2Pp3/AD5Q/wDfAq7S0hlH+x9O/wCfKH/vgUv9j6d/z5Q/98CrtFMCl/Y+nf8APlD/AN8Ck/sfTv8Anyh/74FXqKAKX9j6b/z5Q/8AfAo/sfTf+fGH/vgVdooAo/2Npv8Az5Q/98Cj+xtN/wCfKH/vgVeooAo/2Npv/PlD/wB8Cj+xtN/58of++BV6igCj/Y+m/wDPlD/3wKP7H03/AJ8of++BV6igCj/Y+m/8+UP/AHwKP7H03/nxg/74FXqKAKP9j6b/AM+MH/fAo/sjTu1lB/3wKu0UAc34q06zh8OTvFborKRjaMY5rUstMslsIB9miOY1Jyo54qn4w/5Fi5+q/wA61rTmwt/+uS/yoAj/ALNsT/y6Q/8AfApP7Lsf+fSH/vgVbxRQBW/s2y/59Yf++BR/Ztl/z6w/98CrVFAFX+zbL/n0h/74FH9m2X/PpD/3wKtUUAVf7Nsv+fSH/vgUf2bZf8+kP/fAq1RQBV/s2y/59If++BR/Ztl/z6Q/98CrVFAFX+zbL/n0h/74FH9m2X/PpD/3wKtUUAVP7Lsf+fOH/vgUf2XYHrZw/wDfAq3RQBT/ALK0/wD58oP++BQdJ08/8uUH/fAq5RQBS/sjTv8Anyg/74FH9kad/wA+UH/fAq7RQBS/sjTv+fKD/vgUf2Rp3/PlB/3wKu0UAUf7H07/AJ8of++BQNH04f8ALlB/3wKu0UAU/wCydO/58of++BSjSdPH/LlB/wB8CrlFAFCfSrE28gW1jX5T0UVj+E7C0l0QvJbozec4JZc9DXSTf6h/901h+Df+QCf+u8n86ANMaVYf8+cP/fAoOkacetlAf+2Yq4KKAKP9jaYP+XG3/wC/Ypf7G0z/AJ8YP+/Yq7RQBROjab/z4wf98Cj+xtN/58YP++BV6igCj/Y2mf8APjB/3wKP7G03/nxg/wC+BV6igCj/AGNpn/PjB/3wKP7G03/nxg/74FXqKAKP9jaZ/wA+MH/fAo/sbTP+fGD/AL4FXqKAKP8AY2mf8+MH/fAo/sbTP+fGD/vgVeooAo/2Npn/AD4wf98Cj+xtM/58YP8AvgVeooAo/wBjaZ/z4wf98Cj+xtM/58YP++BV6igCj/Y2mf8APjB/3wKP7G0z/nxg/wC+BV6igCj/AGNpn/PjB/3wKP7G0z/nxg/74FXqKAKP9jaZ/wA+MH/fAo/sbTP+fGD/AL9ir1FAFJdJ09WytnCp9kFYOlafaN4y1dGt42VUTaGXOK6qud0njxvq49Y0NAGwdKsCebOH/vgU3+ybEdLSL/vgVdooApjS7If8ukP/AHwKX+zLL/n0h/74FW6KAKf9mWP/AD6Q/wDfAo/suy/59Iv++BVyigCn/Zdl/wA+kX/fApf7Lsv+fSH/AL4FW6KAKf8AZll/z6Rf98Cj+zLL/n0i/wC+BVyigCn/AGZZf8+kX/fAo/suy/59Iv8AvgVcooAp/wBmWX/PpF/3wKP7Msv+fSL/AL4FXKKAKf8AZdl/z6Rf98Cj+zLL/n0i/wC+BVyigCn/AGZZf8+kX/fAo/suy/59Iv8AvgVcooAp/wBmWX/PpF/3wKP7Msv+fSL/AL4FXKKAKf8AZdl/z6Rf98Cj+zLL/n0i/wC+BVyigCn/AGXZf8+kP/fAo/syx/59If8AvgVcooApnS7E/wDLnD/3wKwta0y0XXtJHkrteQhhjg11Nc9rh/4qLRh/01P8qANM6Pp3/PnD/wB8Cj+x9OP/AC5Q/wDfAq6RzQBQBT/sjTh/y5Qf98Cj+ydP/wCfKD/v2Ku0UAUv7J0//nyg/wC/Yo/snT/+fKD/AL9irtFAFL+ydP8A+fKD/v2KP7J0/wD58oP+/Yq7RQBS/snT/wDnyg/79ij+ydP/AOfKD/v2Ku0UAUv7J0//AJ8oP+/Yo/snT/8Anyg/79irtFAFL+ydP/58oP8Av2KP7I07/nxg/wC+BV2igCn/AGVp4/5c4P8AvgUHSrD/AJ84f++BVyigCl/ZVgP+XOD/AL4FL/Zdh/z5wf8AfAq3iigCp/Zdh/z5wf8AfAo/suw/584P++BVuloAp/2VYf8APnB/3wKP7KsP+fOD/vgVcooAp/2Vp/8Az5wf98Cj+ytP/wCfOD/vgVcooAp/2VYDpZw/98CsbxXplpH4emkigRGUjG1cd66WsTxcceG5/qP50AWbTSbH7BButY2/drklR6VMuk6eOBZw/wDfAqa15soMf881/lUtAFM6Ppx/5cof++BQNI04dLKH/vgVdooApnSdP/584P8AvgUf2Tp//PlB/wB8CrlFAFP+ydP/AOfKD/vgUf2Tp/8Az5Qf98CrlFAFP+ydP/58oP8AvgUf2Tp//PlB/wB8CrlFAFP+ydP/AOfKD/vgUf2Tp/8Az5Qf98CrlFAFP+ydP/58oP8AvgUf2Tp//PlD/wB8CrlFAFP+ydP/AOfOD/vgUf2Vp/8Az5Qf98CrlFAFP+ydP/58oP8AvgUf2Tp//PlB/wB8CrlFAFP+ydP/AOfOH/vgUf2Tp/8Az5Qf98CrlFAFP+ydP/58of8AvgUn9j6d/wA+UP8A3wKu0UAUv7I08f8ALnD/AN8Cj+yLD/n0i/75FXaKAKX9k2I/5dYv++RTJtLszbyAQIvynotaFRzjNvJ/umgDE8GY/wCEfIHQTyAfnW9XP+Cv+RdP/XeT+ddDQAUUUUAFFFFABVDW/wDkB3n/AFyb+VXzVDXP+QFef9cm/lQBD4Z/5Few/wCuQrUrL8M/8ivYf9chWoKAFpKWmu6xxtI5CooJYnsBQAtLXKaB8TPCPifWH0rRdZhub1c/uhkFgOpGetdUDQAtJXPeIPHfh3wvq1npuuajHaXV6MwowPzc4/nXRD2NABRSUtABRRSUALRRRQAUUlRC7tzcGBZ4zMBuMYcbgPXHWgCalpKKAFpM1Cl3by3D28U8bzIMvGrgsv1HasPU/HfhzR/E1roGo6ikOpXQBhgIOWzwOenNAHRUUnHaloAKKKKACikzS0gDNGawdf8AGmheGLi1h1y/S1kum2wqwPzGttXWRQyNlWAINU4SSuxXQ/IozSCsLVPGWhaNrdppOo6jFDe3ZxDCTyxojGUthm9mkzR2pOnNQ9AHUZptMlmSCF5ZTtRFLMT2AojeTsgJc0CsXw74r0bxVbyT6FepdRxOUcrn5SK2quUXF2Yk7hRRR0pDCkzUIuoHuDBHNG8q8tGrgsv1HasPXfHfhzw1rNppWtaklteXgBhiYE7snA/WgDo6KKSgBaKKKACikpaACkpaSgDntJ/5HLUz/wBMl/nXRVzmk/8AI5an/wBcl/nXRmgApKU0dqAENFYviTxjoHhKKJ9f1KGzM7bYkdvmkPsK14ZY7i3jmhbckih1PqCMigB9FFLQAUUUUAFFFFABRRRQAUUUUAFFFFABRRRQAUUUUAFFFFABRRRQBz2uf8jJov8A11NdCa57XP8AkZNF/wCuproTQAUZpuajmnSCJpJXVEUFmZjgAVKTlsS5WJc0Zrlv+FieFCxH9vWPBx/rhU1l468NahqEdlZ6xaz3Ep2oiSA7j7VtLDVY6tP7ifaJnR9aKQUtY9dSwpaKKoYUUUUAFFFFABRRRQAUUUUAFFFFABRQaKACiiigBKKWkoAxPGH/ACK91+H861bL/kHW3/XJf5Csnxh/yK9z+H861rL/AJBtt/1yX+QoAmoopaAEoqhqWu6bpIH2+7SI/wB3OTRp+tafqqg2NykuewPP5UAX6WkpaACiiigAooooAKKKKACiiigAooooAKKKKACiiigBKKDRQAtFFAoAZN/qH/3TWH4M/wCQC3/XeT+dbk3+of8A3TWH4M/5ALf9fEn86AN+iiigAoqC7vrWxi33c8cK+rsBVK18RaTeSCO2v4JHJwFDjJoA1KKTqOKKAFooooAKKKKACiiigAooooAKKKKACiiigAooooAKKKKACiiigBO9c9pn/I7aqf8ApkldDXOaUf8AittX/wCuSUAdFS0gpRQAUVDe3tpp1o9zf3MNrBGMvLM4VV+pNcfD8YPAc18bZPEtlv3EZMmF/PpQB29FQ2t1Be26XFpMk8Mg3JJGwZWHqCKmoAKKKKACiiigAooooAKKKKACiiigAooooAKKKKACiiigAooooAK53Xf+Rl0X/rqf5V0Nc9rv/Iy6L/11P8qAOh70opO9LQAUUmcdegrLufEuj2k3lT6hAr+m4UAatFQWt5b3sfmWsySr/eRgamoAWiiigAooooAKKKKACiiigAooooAKKKKACiiigAooooAKKKKAA1ieLv8AkWrj8P51t1h+MP8AkWrj8P50Aa1n/wAg+3/65L/IVLUNn/yD7b/rkv8AIVNQAUtJiqGo67puk4+33SRE/wAOcmgDQoqjp+tafqi5sbqOXjOA3I/Cr1ABRRRQAUUUUAFFFFABRRRQAUUUUAFFFFABRRRQAUUUUAFFFFABUc3+ok/3TUlMm/1En+6aAMLwV/yLx/67yfzroK5/wX/yL7f9fEn866CgAFFAooAKKKKAA1Q1v/kBXn/XJv5VeNUdc/5AV5/1yb+VAEPhn/kV7D/rkK1BWX4a/wCRXsP+uQrUFACnpXnvxq8Y/wDCIfDS+lhcpeXi/Zrcgd26n8s16Efavl39oDWn8WfFbSvB1rOqwWxRJd7bVErnJOf93FAHnumaPrvw4bwr45k2ra3cvmw7DltgwGDD3BIr7Y0jUoNZ0Wz1O0O6C7hWaM+zDP8AWvMvi34W0nVfg7PpemvbxHSYRLaZmXKhOq/iBVH9mnxb/bfgGTRp2ZrrSZNuWPWNslcfTGKAOI/aawvxM8MPK4SP7MuWPRQJjk17JffGTwHpV4lpc+IrVpGIyYjvVMjuR0rxT9qhWufHXh+3iGWayKr7kykV6Xov7Ovgq38KxWOqWJutQaHEt6JGDBz1KjOBigD03TNWsNb0+K+0i8hvLSX7k0LBlNLqmrWGiafJfateQ2dtGPmlncKo/OvnH4Vf2h8MPjvf+Bbm9afT7oYVT0ZiA0b47HBwaq/EFtW+LHx5fwdDceRpmnyiMgElVCgb3x3POBQB7LH8cPh9JffZR4itwxOPMIOz/vqu6t7qC8to7i0mSeGRQySRsGVh6g15lqv7PfgW+8PvYWenfYrkx4jvI2JdWA6nPX6VwX7PXiDVND8d6v8AD7Up2ntrYStBnpGyNhsexBzigD3W18YeH77xBLoVpq9tLqkIJe1VvnXHXitS7uoLCzluryZIYIVLySOcBVHUmvnPwFDGP2s9e2LhQsjr7ZVf8a9y8eor/DzxAH6f2dP/AOgGgB1j438Nanotzq9hrNrcWFqpaa4R8qgHr6V85fDj4jaTH8fNZ1jWNVMNhfo8cNxOdq4BG0H0HHFdb+zTpFnqvw31q11KBLi2u5vKlicZDLg8GuE+F3w98P638bNa0XVrc3On2CyPFCzEAkMAAfUDNAH1rBPFcwRzQOJIpFDI6nIIPSsnxb4jsPCvhm81TU7pLaKKM7WY8lyPlAHc5rTs7ODT7OK1s4hFBCgSNB0UDoKx/GvhXS/F3hW703WYBNEY2dG7xuBww9xQB88fs7eMrCz8Xay2vamI575MwvdS/wCsO7OMk9fapvixLDF+0zoVxeSpDBFDbSPI7YVVDMck1Q/Z38C6D4j1/VpddslvvsPECyE7VYMPmwOppn7QlhNrPxw07SbVVWa5tbeBSfVnYZP0oA921D41/D/TrlIJPEVtKzNgmA7wn1I6V2Gl6vYa5psWoaRdw3lpMMpNCwZT+Nebxfs8+B18NDT5dNDXnk7GvVkbfvx94ZPr2rgP2ZL+703xR4k8NzTb7S3QzhfR1faSPqKAPoDXfEejeGLEXmv6jb2EBOA87hdx9B61ytj8bvAF/eC2TxBBEzHCtN8qsfrXg+sX1v8AFf8AaAms/Emo/ZtCsZHjiTdgbE7D3Yjk13vi/wCF3ws1DwlejQJbTT7+CIyRTxTlssB0YEnIPTigD3VHSWNZImV0YZVlOQR6g0p6V4J+zD4zu9T0u/8AC+oytMdOUS2zMeVjJwVz6ZPFe9noanqhPY+f/wBoeMvr3hrAzln69uRXozfFLwbo1rbQXuvWok2IpVH3YOB19K84/aOdzqHh+KMZY+YB75wK6vwl8DPCdv4YgGtaZFfXs8YaaZieCR0X0xX0klhvqdN1m7+RyR5+d2PSNL1jT9bsUvdKu4ru3f7skTZBrhPF3hfwXqPxB0fU9e1OO11iNx9lti+DMw6cd6878GxXHwo+OsnheOdpdI1MZRG525+4R79jVv4qhT8ePCTKBvW5VSfxFcscG4VLRejV0zX2iaPbtU8QaXojxLq19b2Rm+558gUN+dYrfFLwbHq8emNr1q11K4RVVsjJ7Zrzf9pfa+k6PhAz/ayBn3GK0/CfwK8NQaTYahqls1xfbVmdixADdeBTjhcNHDxq1JO8uhPPLmaR6jrXiHS/D9mLrV76G0hJ4aV8Z+nrXLH4m+Etc0+7t9P1m3aXyXXY7bT0PrXks9rN8XfjdPpd/KV0nSSQsXYBTggfWu38afBHw5L4ZuG8O2UWnX1uhkikXPz4GSrVtTwmFozjCvJ8z7bL1IlUk1dGX+zYpj0nWI/7t0efXk17n3rwz9mZmfQ9X343C5AP4cV7nivOzGyxDUdjendxDvVHWta0/QdKm1HVrhLe1hXc7ucAVezWX4i8Pab4n0W40vWLdbi1uFwyN69j9Qea4TQ+avgj4306P4ua5d6xqZi/tNn+zvO+Ff5yVXnvjGK0Pj/Jbn4y+FLi4lWO3+zIzSE8ACVjnP5VhfBHwFoOu/EzW7XWbc3cGlu628TsQpIcgE464xV39pizWX4ieHtOtlCI1gkaAc4zIV/kBQM9y1H4xeA9LuhBceI7RnJ5ETbwv1xXTaN4g0rxDYre6JfwX1sxwJIX3DPp9a88079nfwNbeGV069sDdXhi2vfmRhJuP8QGcCvN/wBnwXXh34xeIvC0V00llHHKpDDG5o3AV8djg0AfR2s63pnh/TXvtavoLK2TrLO4UfT61xtt8cvh/cX32Ya/ChzgSOMIfxrxL4kanN8Rfj4nhTUtSWy0S2uFgDFsKgC5Z+eNx6c16DqPwx+EF14euLWxms7e4WE7LtLgl1YDhjzz9KAPaILmG7t457WVJoZFDJIjZVh6gipK+b/2afGV1HrGoeDLu4a5tI1eayf+6FbDAexyDivpDrQAtJS0lAHO6T/yOWp/9cl/nXR1zuk/8jlqf/XJf510VABXF/E74i2fw28MpqFxbSXU9xJ5NtAvAd8Z5PYYrtKzNW8P6Xrj2raxZQ3n2STzYBMuQj+uKAPivxrrnifxV4us9d8W2c1rHcyoLWJ4yqLGGHyrn+fevtzStraLZFOFNvHj6bRXgH7ToKat4QiTAjErbVxwDuWvfNFG3QNPH/TtH/6CKALuKWkpaACiiigAooooAKKKKACiiigAooooAKKKKACiiigANFBooAKKKKAOe1z/AJGTRf8Arqa6E1z2uf8AIyaL/wBdTXQHrQAhNcP8W9X/ALG+GurTq22SSIwofduK7nFeW/HnSNW1nwLFZ6Lp0185u0eRYRkqADz+ZrrwHIq8Ofa5hVTscb8OPgp4X8Q+DLDVvEImnubyPzCqSFBGM4xx34rvdD+BvgnQNctNX0y0uFurWTzIy85Zc/SvP9C+CnjTUvDUA1PxNLpYVP3NirNiP/eI/lUfhDxj4o+GPxBi8HeNbg3+nXUgSK4bJKZ+6yk9QT1FetjIuvObo1Oby8jOGm59F0Ugpa+caOq+gCloopjQUUUUwYUUUUAFFFFABRRRQAUUUUAFFFFABRRRQAUUUUAYXjD/AJFe5+g/nWtY/wDINtv+uSfyFZXjH/kV7r6D+dalj/yDbX/rkn8hQBYqrqV4LDTLi5b/AJZxlgPU44qzWB42yPDE+32oA5LwhoK+J2n1XWS0yO/yI3f1/KneJdGXwjeW2qaQxiiL4aMdAf8ACuk8AIIvCFuoH8TfzqP4iKjeEptw5DfL7UAdDp94t/p0N0gwJUDAVZrC8GOX8KWWeyYrdoAWiiigAooooAKKKKACiiigAooooAKKKKACiiigBDRQaKAFoFFAoAZN/qH/AN01h+DP+QC3/XeT+dbk3+of/dNYfgz/AJALf9fEn86AN+kJwMnpRUd0dtnMfRD/ACoA83+z/wDCZ+ObiO7d2srZiNg6YHStLxF4H0qw0yS/0i3FtcQYbKHqO9VvhsfM1LUpv7xGfzruNWVW0e6V+QYzmgDM8Hau+raGpnOZoTsc+tb9cP8ADT/jyvx/03ruKACiiigAooooAKKKKACiiigAooooAKKKKACiiigAooooAKKKKAErnNK/5HbVv+uSV0dc7pX/ACO+rf8AXJKAOhpaKKAPnb40WviX4gfFTS/BenR3dvpIRXlkMZ8otklnJ74GAB6128n7O/gA6GLA6fIsqpgXgmbzN2PvdcHnt0r0/aDIGIyQMA45rzb4vfF2w+H2kPZ2jpca9cRH7PAOfJyPvv6Y7DvQB5r+zz4i1HSPiJq3geW5kutOj84w7zny2jbGR6ZHavpb3rwX9nXwBqFpNeeN/ESFbrUlItVcYYqxy7kdsnGK97oAKKSloAKKKKACiiigAooooAKKKKACiiigAooooAKDRQaACiiigBK57Xf+Rl0X/rqf5V0Nc9rv/Iy6L/11P8qAOhoooFAHMePNWk07QClu+yW4cJkdQO9Z2geAtKn0WOXVbfz7iZdzF+2ag+JbbprGLsct+ort7Ef6BB/1zH8qAPPrAf8ACIeOV0+JmFhMcKvYZ6V6TXnvj5FXxFpci8NvXJ/GvQE5jU+qg0APooooAKKKKACiiigAooooAKKKKACiiigAooooABRQKKACiiigArD8Yf8AIs3P4fzrcNYfi/8A5Fm5/D+dAGrZ/wDIPtv+uS/yFTVDZ/8AHhb/APXJf5VNQBV1O8FhpdxcnrHGzL9ccV594T8Pw+K4ptW1xnnEjnahPB9a63xm23wvdH/Zqt8PkEfg21A9WP60Ac14j0KPwfd2uqaMTDHvAZB2P+GK9FsbtL6xhuY/uyoGFcz8RlD+FyCOd4x7VpeDyT4Vst3ZMUAbdLSUtABRRRQAUUUUAFFFFABRRRQAUUUUAFFFFABRRRQAUUUUAFRzf6iT/dNSUyb/AFEn+6aAMLwX/wAi+3/XxJ/Ougrn/Bf/ACL7f9fEn866CgAooooAKKKKAA1Q1z/kBXn/AFyb+VXzVDW/+QFef9cm/lQBD4a/5Fiw/wCuQrVrK8M/8ivYf9chWp24pAUtc1a30HQb3Vb1gsFnC0rknsBXyX4B8BXnxu8Z63r2sXUlrbeZvkljXLNIfuoPTCivo/4p+EdS8b+BZ9E0m+SzlmlRmd84ZB1U/Xj8qZ8Kfh+vw58GrpUkyXF3LKZrmaMHDseBj6AAUAefn9lvQ33btb1BsggbyDz615x4M+0fBj9oEaNqE4e0mYWsspO1WjkwUkx7HH619emvH/i/8E5viFr1jrOjX1vYXcKCKdpFJ8wA5U8dxQBwX7S8y2XxM8L3rEGNbYMT2wJST/OvpPTr621DS4L60nSW2mjEiSqflKkZzmvJfHfwNvvHa6QdR8SBZdPtFti32fO/HVq5O7+A3xBsbaPSNC8ZO+ksuxkeV4wg9Ao7e1AFO0vofGn7Xf2/RG862tGQmRejCJVVj9M1U0jUofA37VupJq7eXDeXLRiaQ4AEgBVs+navZPhZ8I9N+GtrPKJ/t+qXKhZbpkxtX+6o9Kr/ABU+Dem/Ejyr2Kf+z9YgXal0q5EijorD+R6igD0O6uILO2kubqVYoYkLvIxwqKBkk18z/Ba4bxH+0breuWg32gjuG8wDghmAU/jitCT4HfEvULddL1HxmX01hsZWlZvl9CO/0r174b/DbSvhxoZs9PJnupsG5u3GGlPb6AelMDx3wbdx6d+1xrdvO2x7hnijB7nYpx+QNez/ABQ1ez0T4Y67cX8gjSSzkhQE8s7KQAPfJrhvih8Dp/FHiZfFHhTU/wCzNW+XzBkgMw4DhhyDjiudj/Z88W+ILMx+MPGtw6q2Vhy0q/Xk4zSuBq/srkHwLqWDnF2AR6cGue+D7wx/tH+J0Z1V2SURqxwWO4ZAr1T4S/Dab4aaTqGnyX6XyXM4lR1XaQMYwRXn/jn9nvWNS8c3fiPwlrcdi1zL52wlkaJuM7WXt3pgfQFQXpxp9xxn9038qqaBa32n+HrCz1a6+2XkECpNcYx5jActWiVDoVbkMMEVN9QPm/8AZekjOueI0DAOCW257bhzVT4qtj9qbw+3T5LU/wDjzVpT/s8eJtD8atq3gjxHFZQNIXBcsropOSpxww9q7DxZ8IL7xL8VtH8XHUoo0tUiWeEqc5Tn5fqSarYD1on5Tg18y/s+gy/F7xbjGWtpFH/f0V9M446/pXlPw2+D914G8fatr8+pR3MN5GyRxIpBG592T+VJaoDw3w54P0LWPjpqvhrxlJcW5kupUh8mQIWkySBk+vavXr79nH4daVYzX99c6pBa26F5Ga6XCgd87a0vir8DrXx5qSa5o97/AGXrMagO4X5Z8fdJxyGHqK4d/gb8Std22HiPxkX04HDAzO+R/u9/xpgdT8CrPwAuoa1ceBG1GSWMiGSW9/iTOQVx717NjrXMeAPAemfD7wzHpWl5kfJae4ZQGmb1P+FdQPfip6oD5+/aHk+z654emkAIiDvjHXBFe3aJqFvqegWd5ZSrNBNArI6HIPFcd8Tvhi3xAvNNkF6LRLQOGO3cW3Y/wripfgv410q2Fl4d8ZzpZE8xsSgGeuAOle/bD4jDwjKfLJHG+eMmzN1q5g8U/tNadDpbiZbEeXKy9AycsM1a+KJB+PPhEd2uVbH4iu/+GvwqsfAVvPcTTm/1S6bdNdSDkew/xqv4u+GFz4i+JuheKLa9jjg091aWBwctjptNDxkOdJbRVg5Gcn+0hxpuh5/6CAr2uxJOl2+3GfLX+Qrh/ip8Obnx/a6ZHaXaWzWlyJXLqSGX0HvXe20HkWkcWc7EC/kK4a1aMqEILobRi1c+d/hvcr4X/aE1zS9X2273jSeW0hxlmOVH4ivcfFeo2ukeHb69v5RFBDC25m9SMAfnXJ/En4RW/ji6g1OwvDpuq24wJ0XPmAdAfQjsa41fgn4z1OA2mveMJJbbjEbMXU46ZrvlOhiZxrTnytWujG0oq1iz+zQP+JNrUg/iuunp3r2w3tqLr7MbmETn/ll5g3fl1riPhf8ADqT4fQajDLfLd/a5FcFU2hcDFeXa9pU1v+2Bpr2V5JJ9oeK4mRWz5S7eVPt/jXlY2pGpWco7HTT0ifR2PWhuBxRmjG7rXKiz5p/Z/aFfi54r3SqJTLNsQnkjzGyaj/aF2j4z+FW7G3jz/wB/mra1n9nvX7Xx9L4i8FeIo9PM1w0wLqd8JY5I44Yc9DW/44+C2p+Mdb0TV7rXI5LvTkjSYtFt87a24kY6UwPYmr5l+EDZ/ac8SDPUXX/oYr6a6gZryjwZ8H7nwv8AFvVfF0+pRzRXfm+XAiEEeYwJyfbFIDw7VfDOkXn7SV7oXiyaS3srm72mRG2csoK8noD0zXsNx+zV8PrSF7i4m1SKGJS7sboAKoGSc7fStv4qfBjTfiOYr+C4/s7WIQFFyqbhKg6Kwz27HtXnrfA74mX1qNK1LxqzaWRsZWmdvl9CO49s0wNn4MWfw6HxA1QeBF1KWWytthubpwUcFuSuPp1Ne6AVxXwy+GGl/DTRZbayka6vbkg3V264MmM4AHYDPSu2oAKSlpKAOd0n/kctT/65L/OujrnNJ/5HLU/+uS/zro6ACiigUAfPH7TnOveDuf8Als3f/aWve9IGNFsh/wBO8f8A6CK87+LHwou/iHq+jXdrqUdqmnlt6OhJbJByPyr0mwtzZ6bbWzNvMMSxlvXAAz+lAE1LRRQAUUUUAFFFFABRRRQAUUUUAFFFFABRRRQAUUUUABooNFABRRRQBz2uf8jHov8A11NdCetc9rn/ACMmi/8AXU10PegBPWuB+JfxJPw6h0+4m0x723u5TG7K+Nn+Nd9WF4u8Jab4y0GTS9Xi3Rt80bgfNE/Zh71th3BTXtNiJJtaFrSNWtdb0e21KwlWS3uIxIjA54NeBfGG9j1v4xeH9L04Ce4t5oxIYyDtO7kfUDmtWL4OePNBgaw8N+MGSwycK+QQD6DtXWfDj4O23g7UZNY1W9bVdWkJKyyDiInqR6k+tetF0MI3UhPmurJHO03oemRKUjVSc4AGT3p9AFLXiNnTFaBRRRSKCiiigAooooAKKKKACiiigAooooAKKKKACiiigAoooNAGH4x/5Fe6+g/nWpY/8gy1/wCuSfyFZfjH/kV7r6D+dath/wAg21/65J/IUATVk+Kbc3Phq8RQWKpuAHtWvSEBlIYZBGCD3oA474c3qSaGbJmHmQtnBPUGo/iLdoLGCyVtzyNllB5xTNS8EXcF+934euxb+Yf9X02//Wp+j+B7gXy3uvXn2qRTxH1B/GgDovDtq1loFnCwwVjGRWnQPbgUooAKKKKACiiigAooooAKKKKACiiigAooooAKKKKAENFBooAWgUUCgBk3+of/AHTWH4M/5ALf9d5P51uTf6h/901h+DP+QC3/AF3k/nQBvUkiCSJkPRgRS0tAHm/guZNL8Y6hpkx2s7lUz7V2Him7Sz8OXbswDFNq89SazPEvg3+1r5dR02cWt6o+Zh0f/wCvWVH4G1nUJ1GuasXgQ52Kc5oAvfDe1ePQ5rlgQLiXcufSuyqC0tIbK1jt7ZAkcYwoFT0AFFFFABRRRQAUUUUAFFFFABRRRQAUUUUAFFFFABRRRQAUUUUAJXO6V/yO+rf9ckro65zSv+R41b/rklAHRUUtGMigDyf40/GGP4fWS6Vo+ybXrqPcgPK26Hje3v6CuS+FHwRuNRuo/GPxIaW8vJn86CzmffuzyJJDnn2WrHj79nrVfGPji/13+3YkS7cFY3jJMQAwB9OKzZP2ePGYj2ReNLkhRhVM8gAH50AfRikKoRNoAGAB2FOrxr4afCHxR4Q8VLqms+J5ry3SMr9n81mDE+uTXsuT3oAWiiigAooooAKKKKACiiigAooooAKKKKACiiigAoNFBoAKKKKAErntd/5GXRf+up/lXQ1z2u/8jLov/XU/yoA6GijvSigDiPiTZs9jaXig/u5NjH2P/wCqul8P30Wo6JbzRMDhQrAdiKtX9jBqNjJa3Sbo5Bg+1cPJ4J13T2dND1YJbyHlW4IoAg8Qyrq/ju2tIRvEUirx6jrXoyjCgegrm/DPhJNDka5upvtN24++R931rpaACiiigAooooAKKKKACiiigAooooAKKKKACiiigAFFFFABS0lFABWH4v8A+RZufw/nW5WH4v8A+RZufw/nQBqWf/Hjb/8AXJf5VPUFn/x42/8A1yX+VT0AZPiiza98N3kScsIywA745rD+G18k3h0Whb97Axyvsa7LGeDyDwQa4bUfAd7Dqkl74c1D7J5hJaM9iaAJviJeRrY29oDueR8lR6dK6Lw/avZ6FaQyDDLGCR6Vzml+Brk36Xuv35u3Q52dj/8AWrtBx04oAKWiigAooooAKKKKACiiigAooooAKKKKACiiigAooooAKKKKACo5v9RJ/umpKjm/1En+6aAMPwV/yL7f9fEn866Cuf8ABX/Ivt/18SfzroKACiiigAooooADVDXP+QFe/wDXJv5VfNUNb/5AV5/1yb+VAEPhr/kWLD/rkK1Ky/DX/Ir2H/XIVqCp1AOtHSkd1jUs5woGST2FZ+leINK1syjSr6C6MJ2uI3ztNVyStzAaNFJTJ54raFpZ3CIgyzE8AVMeaTsK5JS1n6Prena7aNc6TdxXUKuULxNkAjqK0PpTlFp2YxKTntTqTpSAOaXtWZqXiPStIubeDUr6G3luW2xI7YLn2rSByAQcgjNW4yirsApaKKmwCGlrM1PxHpGjXFtBqd/DbS3T7IUkbBc+grSByARTcZJXYXAjNFGazZPEOkwaxHpU+o20d9Ljy7dpAHb6ChRvqgNOjFBOKTNSwCgGj6VHNMkELSzuscaDLMx4Apxbk7ICTNHWqGk63puu2hudIvIruEMUMkTZAI6ir9OSknYVworM1TxHpOizQxapfwWkkxxGsr4LH2rSyGAKnIocHFXaAWlpucVm3XiLSrHVIdPvdQt4Lu4/1UEkgDv9BRGLewro0yB3oFBoxWbbKClpKbJMkMbSSsERAWZieAPWnG7C46is/Ste0vXI5JNHv4LxYm2uYX3bT6VoDircXF2YtwxxWFZ+C9BsPFNz4jtrBRq1yuyS5ZiWx6DPSrmq+INL0QQnVr2G089tkfmvjcfatBGWRA8bBlYZBB6iiUWlewC4oPSlrKv/ABFpOmX9vZ39/b29xcHEUUjgM59hSjBy2GamaTJo69KUVGt7MApaTFNZwikucAck+lVa7AfRWZpPiLSdcaVdJv4LswkrIInztPStKrcXHRgLSUtJSAWkpaSgDntJ/wCRy1P/AK5L/OuirndJ/wCRx1P/AK5L/OuhoAWiiigBKUUUUAFFFFABRRRQAUUUUAFFFFABRRRQAUUUUAFFFFABRRRQAGig0UAFFFFAHPa5/wAjJov/AF1NdD3rntc/5GTRf+uproTQAUhpaKW4CGgCilouKwUlLRQMSloopgFFFFABRRRQAUUUUAFFFFABRRRQAUUUUAFFFFABRRRQBh+Mf+RXuvoP51qWH/INtf8Arin8hWX4x/5Fe6+g/nWpYf8AIMtf+uKfyFAFiiiigBKXFFFABRRRQAUUUUAFFFFABRRRQAUUUUAFFFFABRRRQAUUUUAIaKKKAFoFFAoAZN/qJP8AdNYfgz/kAt/13k/nW5N/qH/3TWH4M/5ALf8AXxJ/OgDepaKKACkpaKACiiigAooooAKKKKACiiigAooooAKKKKACiiigAooooAKKDRQAUUUUAFc5pX/I8at/1ySujrnNK/5HjVv+uSUAdHRRRQAUZoxRQAUUUUAFFFFABRRRQAUUUUAFFFFABRRRQAUUUUAFFFFABQaKDQAUUUUAJXPa7/yMmi/9dTXQ1z2u/wDIy6L/ANdT/KgDoaUUnelFABRRRQAlFLRQAUUUUAFFFFABRRRQAUUUUAFFFFABRRRQAUUUUAFFFFABRRRQAGsPxf8A8izc/h/Otw1h+L/+RZuPw/nQBq2f/Hhb/wDXJf5VPUFp/wAeNv8A9cl/lU1AC0UUUAFFFFABRRRQAUUUUAFFFFABRRRQAUUUUAFFFFABRRRQAUUUUAFFFFABUc3+ok/3TUlRzf6iT/dNAGH4K/5F9v8Ar4k/nXQVz/gr/kX2/wCviT+ddBQAUUUUAFFFFAAaoa5/yArz/rk38qvmqGuf8gK8/wCuTfyoAh8Nf8ivYf8AXIVqAVl+Gv8AkV7D/rkK1BStcCnqwLaZcquQWhYDj2NeD/AK/tNLHiC4v7qK3ijmYbpHCjAbJNe+X5xaSk/882/ka+Ufhd4AT4g+JdQGpTyw6ZazM0scRI85t33a93AKjLDVVVdloctTm51Y+ltG8ceHPEF01rpGsWt3Ov8ABHJyfp61d1y1tr7RL22v5hDbywMkkhONqkcmvE/ij8HdO0Hw6fEHgvzNNvNOxIViYjcB3z6iuo0nxTN4t/Z8utUvG3XY06WKZu7MuRu/HFYywtP3alBtpu3mmPna3Og+GPhjRvCHhWSz0DU/7RtXnaQz5GAfTitq48Z+H7Sye7m1e0SFCQzmUcGvM/2e3x8NbncSQtw/U/7Iry/4efD6L4ieMtYtNQuZYLCzkaSQQtyzMxwBW8cFRlOo60rctifaPSx9S6J4l0nxHam40W+ivIlO0tEc4NUdU8f+GNGuza6lrVrDMDgoZASPr6V5j4u0uw+Cnwx1AeF5LgXOqTJAHdslSQfmHoQKh+HnwN0m78MJqPi1De396PNIZj+6B9+571lDC4VRdWcny7LuU6ktkUPjRewal4y8H3en3Mc8El0iq0bZHLDmvoKJdkSr/dAFfJ3jjwd/wgfxC0PT7W4ln02S+hlgEpJKHcMivrQEEZHQ1eZxpwhSVJ3VtwoNu9xaQ/dNLTT9014S3R0S2PAPjzH5nj7wcu7AMj55xj5hzXq9x8QvC2k+XBqOvWUEm1Rh5RnoPSvHf2j0nm8ReGYLYZmmEiR49Syius0f9n/wz/wj0UeqRPcX8kY865LEtuI6gHpivo5xwssLT9rJp+RyRc7ux6tbXtvfWcdzZzJNBKu5JEbIYfWvP9Y8EeHtQ+LWleI77VI49Rt8GGx4zIy9DXA/DK61P4f/ABdu/Ad1dtc6XOztB5pPyEDKkemeh7VJ4xyP2rPDuGOF8vIz6qc1yxwjjOUU9LX+RfOme63mr2NjcRQ3l3DBJL9xZHC7vpWWfHvhhNYXSpNcs1vnfYsHmfMzeleM/tIhjqWgeQSJdxCEE5BLAV0Phr4BaLYSWurapPcXV+rrOxd8BWGDVrB4aNCNWpNpy6Euck9D1fVdd03RLP7Xql7BaQZxvmcKCfxrmtX8Y+H9f8NajBpOs2Vy7W7j5JgcHFeOxWd/8aPi7eWmrTeXo2jysBAh4IBxj6nHWuk+IXwU0fTvDNzqfhaE2d3aJvKIxxKvcH3rajg8NSqxhWm1Ly2FKpJwui9+zYGXwDdI38N9JzXsh6147+zUd3gC9bAA+3uB+Qr2Lua8vG2+sysbw+E8A/aMjLa94eK/xSKP/H69YufiB4X0lo7fUdds4Zdi/I0oz0ryT9pN3F9ogiH7w5C/UnAro/D/AMAfDv8AwjsbeIo3vdUuEDzTlzlCR0H0r16lPCvB0pVZNPXY57z5nynqtlqFnqdml3p9xHcwSfdkiYMDXA+K/Bfh3W/ibo+r6lqyQajaJiKyOMzgHINeceCjf/Cv42N4ON69zpOoMqor9MsMqw9COhrT+KQK/tFeEWVsN5A5H+81ciwjp1VGL0aumWqjtc9xutTs7Fo1u7mGBpPuCRwu76ZrJk8f+F4NQFlca7Ypcu4RYjMMlj0AryH9pY4tvDbxg+Z58iKQSCDgY/nWj4T+A2jQxabrmo3lzeXhjjuDHJ9xGwD9T+NEMLhlRVSrNpvoHtJX0PYtS1nT9HsHvNSu4bW3TrJK4UVzN3438Oa/oGqQ6PrNndyfZJV2pKM52kD9a8dv4r34xfGa40O5uTFoum/OYlJHyrx+JJ4rqPHPwR0Sy8NXOp+F4TZX1jC0qhHIEoAywPvitKWFwtKUY1pPmf3L1CUpNXRB+zLBJBo3iFZVw32uPr/umvcu1eIfszymbRteY/xXER56/cNe4dK4Mw0xckv60NaXwanhP7SEZZvCj5x/pjp9Mgc16TD438N6BpWn22q63Z28n2aMBWlGT8oGa81/aVb/AEPw6iDLtdShfY7VxWh4N+A/h6TwzDc+I1bUL+7hV2d2OIcjIC/SvS5MK8HTdZtPXb1MYynzOx69YalZ6rZrd6dcx3MDjKvEwINcF448F+Hde8daHqmr6wlnd2bgw25IzPzkD86808Nx3fwh+OcXhxL2SbRNUBxHKSdoIO1seoIxV74zoH+NHhFedokhBwe++saeDarWi9GrplOo7Hu17qtlppiF9dQ2/nNtj8xwu4/jWXN498MWt+LO51uzjnYgLGZOTmvLP2lpNvhnRpBgMl2SDnkcDpTPB/wD0q40vT9V1y7upb2RVmeNW+UHOQPX0ohhMMsMq1WbTfQj2kk7I9svdUtNOsnvL65it7dRkyyttUVg23jzwxrST2+ma5ZzyiNsqsgyOK8U8TfbPip8af8AhE1uZLfSNMcxuOcHYOTgdz0rsPFnwI0CPQXuvDKPp+o2kZeJ0Y4kI7NVwweGg4xrTacu3T1Bym1dGT+zZGyzeIyei3TKPzr3sV4F+zLKxj8QJL97zwW9z0Ne+iuXM0liZJbHRSd46hRS0V5poFJS0lAHO6T/AMjjqf8A1yX+ddFXPaT/AMjjqf8A1yX+ddDQAtFFFABRRRQAUUUUAFFFFABRRRQAUUUUAFFFFABRRRQAUUUUAFFFFABRRRQAUUUUAc9rn/IyaL/12NdCa53XP+Rk0X/rqa6I0AAooFFABRRRQAUUUUAFFFFABRRRQAUUUUAFFFFABRRRQAUUUUAFFFFABRRRQAUUUlAGH4xP/FL3X0H861bD/kGWv/XFP5Csrxj/AMivdfh/OtWx/wCQbbf9cU/kKALFHakpaACijpRQAUUUUAFFFFABRRRQAUUUUAFFFFABRRRQAUUUUAFFFFACUUGigBaBRQKAGTf6h/8AdNYfg3/kAt/13k/nW5N/qJP901h+Df8AkAt/13k/nQBvUvakpaACiiigAooooAKKKKACiiigAooooAKKKKACiiigAooooAKKKKAA0UGigAooooAK5zSv+R31b/rkldFXO6V/yO+rf9ckoA6OikpaACiiigAooooAKKKKACiiigAxRiiigAxRiiigAxRiiigAxRiiigAxRRRQAUUUUAFFFFACVz2u/wDIy6L/ANdT/Kuhrntd/wCRl0X/AK6n+VAHQ96Wk70tABRRRQAUUUUAFFFFABRRRQAUUUUAFFFFABRRRQAUUUUAFFFFABRRRQAUUlLQAhrE8X/8izcfh/OtusTxf/yLNx9R/OgDUtP+PG3/AOuS/wAqnqC0/wCPG3/65L/Kpx0oAWiiigAooooAKKKKACiiigAooooAKKKKACiiigAooooAKKKKACiiigAooooAKjm/1En+6akqOb/USf7poAw/BX/Ivt/18SfzroK5/wAFf8i+3/XxJ/OugoAKKKKACiiigANUNc/5AV5/1yb+VXzVDXP+QFef9cm/lQBD4a/5Few/65CtQVl+Gv8AkV7D/rkK1BQBV1IE2M4H/PJv5GvCf2ddRgTUNd01iFnad5lB4LLuxXvd3C09rLGhAZ0ZQT2yMV4Jb/AfxHpV6dR0jX44L1GZkaNSM5OcE+levgnSlRnTqSte1jCpF810ejfFrV4NG+G+qy3DKDNEYUUnlieOBXn/AMO7OWD9mrVZJBtE1rOUz6Amo/8AhTnjfxfq8L/ELXYTZQHAjt2Lbh3wOgJr13UvC0EvgO48N6UqWsTWZtoRjhARjmr9tToU1RjK+qbZHK27nm37Pwz8Mbv189//AEEVkfs4jdrXitup89Rn15Nd98KvAN/4J8G3Gl6ncRSzzTMwMWdoBGO/0qr8KPhlf+Ab7WZdQvIp1vZQYxED0yTznvzU1sRCXtLPew402rGN+0lZyS/Dy1uI1YiG+TfjsCDzXf8AgHV7XXPA+nX1k6vG0IU4PQjgj9K1td0Sy8RaHdaTqcQltrmMo4PUe49xXiMfwg+IPhK4ltPBPiKL+zJGziZtpX3x6ilSlSr4f2M5crTFJOMrpEfxx1C0uPiH4TsI3V57e8jeYA52hnGM17+HWKMGRgoHGScYrwSL4Aa7Jq9rq2qeIo7u7juUnkLISX2kHr+FegfGvT3v/hPqxivJLOW2j+0K8b7SxXnaT6Gs8fOlyQhSd+VFUk1ds75XWRQyMGUjgg5zQfumvNf2f2um+EGnPePI5d3KNISSRu9T2r0uvJW5u9j59+P10tl468HXcwzHA7SNnsA617za3MdzYxTwOJEkjDKynIIIrzn4q/C26+IGq6TPBeR20NpG6SBlJJ3EHj8q5E/DD4naRbtp2g+KF/s4jA81ipUdOMdK9/koV6EFzqMkcvvRZnXMq+IP2oLb+zG81bUlJWB4UoMtzVrxlx+1Vofqxhxz/smvQfhj8LLbwFaz3F1cfb9WuzunuWH3c9h/jVHXvhfqOp/GvTPGcN5b/YrUJ5kDZ35UEcdu9V9dgqllsotfkTyNnG/tA4HinwruPBmUH/v4K96dPMs2QcblIz9a81+KXww1Hxzr2hXlhdwQRWLgzLJnJAYNxXqCptTHSuLEVoypU0nsbKJ89fBO9i0j4t+JNHvP3c88r7N/G7a3T6mvZ/G2o22meE9Rur1wkKQMCT3J4A/WuJ+I3whn1/WB4h8KXSafrAI8wnIWXHQ5HQ1zEnwi+IXiO2e38V+JkEPBWNGLqxHrXoN4fE1Y4iU1Ha666GTUox5bG3+zV8vw9vAeD9vk4/AV7Ea4b4V+BLvwF4fubC+uo7l5rgygxAgAYx3rucV4+KnGddyjsbxTUT5//aNcW+q6DPJ9xXBP0D5Ne76beQ6ho9rd2rrJFPEsiMpyCCK88+KvwvvvH91p8lrfQ20dspVldSc5Oc1yU3wy+KGmWC6RoPieE6Zs2/OSjRj0X2r1JewxGFpxc0pRMlzRk9NzN8TXS69+0vpcemOswsp4vMdDkAqPm/KtD4n4b9ozwmCcfuh1Pua7H4YfCODwRJLqmp3P2/WJxgykfLEO4HqT603xn8MdQ8SfFLQ/E9re28Vvp8YWSJwdxIJPH50SxlP2sVHaMbfkKNNpanJftEL++8Ibun29gef92vatOT/iUWgHTyE5/wCAiuG+K3w51Hx1LoT6bc28A0+6Msqy5+YHHT8q9BtIDb2cMJIJjjVCR3wMV59WqpU4RXS5fLY+d/hNOmg/H7XNM1V/JubiOSKIPxubdux+Ve6eLr2Gw8I6vPcyLHGlnLkscD7hA/WuK+I/wh/4SnVI/EPhy8Gm67ABtlAwsmOmfQ+9cpJ8KviT4mt3tPFniaCK2xt2QkuGHuMCvQfsMTNV5TS7oVmlyosfsx7n0jX5W/juITj0+Q17oRxXn3wo+Hl38PrXU4Lu7iuhdyo6NGpG0KCOfzr0HrXmY2pGpiHOOxrCPLGx4V+0cwg/4Ra4f7sV7IT9AAa9f8P3Ud34a0+4t3V45LeNlZTn+EVyHxW+HN94/i0yKzvIbaO0d2k8xSSdwA4/KuK/4Vd8TdAsF0zwv4khNiwKsJGKmPPXbXoRVGthoQc0mr/mZcsk3Yz/AIiXEXiH9ozw/ZaawlltoxFKVOcMNxwam+Mp2/GnwvnH+tgx/wB9mu1+Gfwhi8G3raxrF0NR1mRCPNIyIs9cHuT60z4gfC/U/Fnj/RNdsry3igsXQyJJncQrZ4rWni6UKsYp+7FNX+7/ACJcJNanMftMA/8ACM6UuRzc8DP0r2jSF26RZDqPIQf+OiuH+L/w41H4h2GnQaZd29sbabc/mg8g46YrvtPtXs9NtrZ33tDEsZb1IGM151WtF0Ix7FqLT2Pn3wTcpoH7R2u2OqHyZL65l8hnOA2ckc+9e+6veRafpVzc3ThIoomZ2J4AxXA/FD4RJ42u4NZ0e7/s/WrUYWUDiUDoD6EetchL8Lvih4gtzY+I/E0Edmvy4iYsZB6txXoS+r4pwqSny2Vmv8hRjKKaE/ZrbzbnxDMv3WnJAz2JzXvorzb4VfDO8+Hs2otc38d5HdY27V27cV6SMmvPx9WFXESlDY0ppxVmLS0gpa4TQKSlpOlAzntJGPGWp/8AXJf510Nc9pJ/4rLU/wDrkv8AOuioAKKKKACiiigAooooAKKKKACiiigAooooAKKKKACiiigAooooAKKKKACiiigAopaSgDntd/5GTRf+uxroTXPa7/yMei/9djXQmgAooFFABRmiigAzRRRQAUUUUAFFFFABRRRQAUUUUAFFFFABRRRQAUUUUAFFFFABSUtFAGF4x/5Fe6+g/nWrY/8AINtf+uKfyFZfjH/kV7r6D+dalj/yDLX/AK5J/IUAT0tFFAC0lBooAKKKKACiiigAooooAKKKKACiiigAooooAKKKKACiiigBKKKKAFoFFAoAZN/qH/3TWH4N/wCQC3/XeT+dbk3+of8A3TWH4N/5ALf9d5P50Ab1LSCloAKKKKACiiigAooooAKKKKACiiigAooooAKKKKACiiigAoooxQAGiiigAooooASud0r/AJHjVv8ArkldFXO6V/yPGrf9ckoA6KlpKWgAooooAKKKKACiikoAWjNJmjNAC0UmaM0ALRSZozQAtFJmjNAC0UmaM0ALRmkzRmgBaKTNGaAFooooASue13/kZdF/66n+VdDXPa7/AMjLov8A11P8qAOh70tJ3paACiiigAooooAKKKKACiiigAooooAKKKKACiiigAooooAKKKKACiiigBKWk70tACVieLv+RZuPw/nW5WH4v/5Fm4+o/nQBqWn/AB42/wD1yX+VTjpUFp/x42//AFyX+VTigBaKPrRQAUUUUAFFFFABRRRQAUZoooAKKKKACiiigAooooAKKKKACiiigAooooAKjm/1En+6akpk3+ok/wB00AYXgr/kX2/6+JP510Fc/wCC/wDkX2/6+JP510FABRRRQAUUUUAFUNc/5AV5/wBcm/lV+qGuf8gK8/65N/KgCHw1/wAivYf9chWoKy/DP/Ir2H/XIVqUALTcU6kpN21AMUYzRRQLQKKKKLMYGlHvSGjNGlxXQYrH8T+HLPxVoU2kaiGNtPjzApxkCtmimMp6TpVnomkW2m6ZAsFraxiOKNeigVcpKKPUQGkx60tFK/YVriYox606ilyjshMUUtFMdhMUUtJRbsLQKWkpaXKNMSiiijVA7BRRS0xCUUtFOwaCUUtJilqMKKWihLuAE0ZpKWhCEoopaLD1EpaKKLWVg1EpaKKLWQaiUtJS0kgENJSmiqAKSlpMUAc7pP8AyOGp/wDXNf510dc5pP8AyOOpj/pkv866PFABRRiloAKSiloAKSlpKACilpKAFooooAKKM0UAFFFFABSUtFACUtFFACUtFFABRRRQAUUZooA57XT/AMVHo3/XU10Jrndc58SaL/11NdFQAUUUUAJRS0YoASilxRigBKKXFGKAEopcUYoASilxRigBKKXFGKAEopcUYoASilxRigBKKXFGKAEopaSgBaKBQaAMLxgf+KXuvoP51q2P/INtf+uSfyFZfjH/AJFe6z6D+dalh/yDLX/rin8hQBYooooAKKKKACiiigAoozRmgAooozQAUUZooAKKKKACiiigAooooAKKKKAENFFAoAWiiigBk3+of/dNYfg3/kAt/wBd5P51uTf6h/8AdNYfg3nQW/6+JP50AbwpaQCloAKKKKACiiigAooooAKKKKACiiigAooooAKKKKACiiigAooooAKKKKACiiigBK53Sv8AkeNW/wCuSV0dc5pX/I76t/1ySgDoqWkpaACiiigAooooAKQ0tJQAlLRRigApKXFGKAEopcUYoASilxRigBKKXFGKAEpaMUYoAKKMUAUAFLRRQAVzuu/8jLov/XU/yroq53Xf+Rl0X/rqf5UAdDS0UtACUUtJQAUUUUAFFFFABRRRQAUUUUAFFFFABRRRQAUUUUAFFFFABRRRmgBKWkpaACsPxf8A8i1cfUfzrcrE8Xf8i1cZ9v50Aadp/wAeUH/XNf5VOKhtP+PG3/65L/KpqAFNFFFABRRRQAUUUUAFFFFABRRRQAUUUUAFFGaKACiiigAooooAKKKKACkoooAWo5v9RJ/umpKZN/qJP900AYXgv/kX2/6+JP510Fc/4L/5F9v+viT+ddBQAUUUUAFFFFABVDWhnQ7wf9Mm/lV+qGuZ/sG9xwfJb+VAEHhgEeF7AHqIv61q1xuiWPiN9DtWtNRgjjKZVZEJwKv/AGDxZ31Wy/CI0AdJSVzn9m+K/wDoL2n/AH6NH9meKf8AoMW3/fo0gOjNFc2dM8U/9Bi2/wC/Ro/szxT/ANBi2/79GkI6Siub/szxT/0GLb/v0aP7M8U/9Bi2/wC/RqgOk5orm/7M8U/9Bi2/79Gj+zPFP/QYtv8Av0aBnSUVzf8AZnin/oMW3/fo0f2Z4p/6DFt/36NIDpcUlc3/AGZ4p/6DFt/36NH9meKf+gxbf9+jTA6Wkrm/7M8U/wDQYtv+/Ro/szxT/wBBi2/79GkB0tFc1/Znin/oMW3/AH6NH9meKf8AoMW3/fo0wOlormv7M8U/9Bi2/wC/Ro/szxT/ANBi2/79GgDpaSub/szxT/0GLb/v0aP7M8U/9Bi2/wC/RoA6Slrmv7M8U/8AQYtv+/Ro/szxT/0GLb/v0aQHSUfWub/szxT/ANBi2/79Gj+zPFP/AEGLb/v0aYHSUYrm/wCzPFP/AEGLb/v0aP7L8U/9Bi2/79GgR0lFc3/Znin/AKDFt/36NH9meKf+gxbf9+jSA6Wiua/szxT/ANBi2/79Gj+zPFP/AEGLb/v0aYzpaK5r+zPFP/QYtv8Av0aP7M8U/wDQYtv+/RoA6Wiua/szxT/0GLb/AL9Gj+zPFP8A0GLb/v0aQHS0lc3/AGZ4p/6DFt/36NH9meKf+gxbf9+jTA6Siub/ALM8U/8AQYtv+/Ro/szxT/0GLb/v0aAOlpK5v+zPFP8A0GLb/v0aP7M8U/8AQYtv+/RoA6Siub/szxT/ANBi2/79Gj+zPFP/AEGLb/v0aAOkNFc1/Znin/oM2/8A36NH9meKf+gzb/8Afo0AdLRiub/szxT/ANBm2/79Gnf2Z4mP39ZgA77YqADSww8aamf4fJX+ddHiuEtNO18eJryGLVYlk8oMzGPqM1qHSfFZbjXLcD/rjQB09Fcz/ZXiv/oOW/8A35o/snxT31yD/vzQB01Fc1/ZPij/AKDkP/fmj+yfFH/Qdh/780AdLSVzf9leKP8AoOQ/9+aP7J8T/wDQch/780AdJijFc3/ZPij/AKDkP/fmj+yfE/8A0HIf+/NAHSUVzf8AZPif/oOQ/wDfml/snxP/ANByH/vzQB0lFc3/AGT4n/6DkP8A35o/snxP/wBByH/vzQB0lJXOf2V4n/6DcP8A35pP7J8T/wDQch/780AdJiiub/snxP8A9ByH/vzR/ZPij/oOQ/8AfmgDpKMVzf8AZPif/oOQ/wDfmj+yfE//AEHIf+/NAHSYoxXN/wBk+J/+g5D/AN+aP7J8Uf8AQch/780AdJRXN/2T4n/6DkP/AH5pf7J8T/8AQch/780AdJRXN/2T4n/6DkP/AH5pRpfiXaQdbh+vlUAP1pc+JNGx1EpNbx61wmq6fri6/pgfU4zIzEI2zoe9bP8AZviYMf8Aib2+P+uRoA6Klrnf7N8TH/mLwD/tlR/Zfib/AKDMH/fqgDoqWucOl+J/+gzB/wB+qT+zPFH/AEGbf/v1QB0lGK5v+zPFH/QZt/8Av1R/Znij/oM2/wD36oA6Siub/svxR/0Gbf8A79Uf2X4o/wCgzb/9+qAOkxRXN/2Z4o/6DNv/AN+qP7L8Uf8AQZt/+/VAHSUYrm/7L8Uf9Bm3/wC/VH9meKP+gzb/APfqgDpKK5v+y/FH/QZt/wDv1R/Zfij/AKDNv/36oA6TFFc3/Znij/oM2/8A36o/svxR/wBBm3/79UAdJijFc3/Zfij/AKDNv/36o/szxR/0Gbf/AL9UAdJRXN/2Z4o/6DNv/wB+qP7M8Uf9Bm3/AO/VAHR0tc3/AGZ4o/6DNv8A9+qP7L8Uf9Bm3/79UAdIKK5z+zPFB/5jFv8AhEaQaZ4pz/yGbfH/AFyoAseMAD4ZuAe5UfrWtaDFjbgdBEv8q4zxLp+vR6DK15qcMiAjO1Md60LXTPEx0+HZrMC5RcZizgYoA6mjNc1/ZPijb/yHYSf+uNJ/ZPin/oOwf9+aAOmoxXNf2V4p/wCg5B/35o/srxR/0G4P+/NAHSUVzn9leJ/+g1B/36o/srxP/wBBmD/v1QB0dFc5/Zfib/oMwf8Afqj+y/E3/QZg/wC/VAHR0Vzn9l+Jv+gzB/36o/svxN/0GYP+/VAHR0Vzn9l+Jv8AoMwf9+qP7L8Tf9BmD/v1QB0lFc3/AGX4m/6DMH/fqj+yvE3/AEGof+/VAHSUVzf9leJv+g1D/wB+qP7K8Tf9BuH/AL9UAdJRXN/2V4n/AOg3D/36pP7K8Uf9BuD/AL80AdLRXNf2V4o/6DcH/fmj+yvFH/Qbg/780AdJQBXNnSvFHbW4P+/VA0nxR31uD/vzQB0tIa5v+yvFP/Qat/8Av0ad/ZnicdNXtz9YjQBvzj9w/wDumsbwgCNDYdP37n9arTaZ4j8l/M1aFvlPAjxWb4d03XZtNL2+rpEnmMAPLzQB3HWiub/snxMOmuRH6w0f2X4o/wCg3B/35oA6Siua/svxR/0G7f8A79Uf2V4p/wCg3b/9+qAOlormv7L8U/8AQat/+/VH9l+KP+g3B/35oA6Wiua/svxR/wBBuD/vzR/Zfij/AKDcH/fmgDpaK5r+y/FH/Qbt/wDv1R/Zfij/AKDdv/35oA6Wiua/svxR/wBBu3/780f2X4o/6Ddv/wB+aAOlormv7L8Uf9BuD/vzR/ZXij/oNwf9+aAOlormf7L8Uf8AQbt/+/VKNK8Uf9BuD/v1QB0tFc3/AGV4o/6DcH/fmj+yvFH/AEG4P+/NAHSUVzX9leKP+g3b/wDfmj+yfFH/AEHIP+/NAHS0VzX9k+J/+g5D/wB+aP7J8Uf9ByH/AL80AdLRXNf2T4o/6DkP/fmj+yfFH/Qch/780AdLXN6Xk+PNWx90QIPxo/srxLkFtbiODyPK61j6fYa63ibUli1OJJFVd7+XnPpQB3lFc3/ZXiUnjXI/+/NH9leJv+g1D/36oA6Siub/ALK8Tf8AQah/79Uf2V4m/wCg1D/36oA6Siub/srxN/0GoP8Av1R/ZXib/oNQ/wDfqgDpKDXN/wBleJv+g1B/36pP7K8Tf9BqD/v1QB0tFc1/ZXib/oMwf9+qP7K8Tf8AQag/79UAdLiiua/srxN/0GoP+/VH9leJv+gzB/36oA6XFGK5r+yvE3/Qag/79Uf2V4m/6DUH/fqgDpaMVzX9leJv+gzD/wB+qP7K8Tf9BqD/AL9UAdLiiua/srxN/wBBqD/v1R/ZXib/AKDMH/fqgDpcUVzX9leJv+g1B/36o/srxN/0GoP+/VAHS0VzX9leJv8AoNQ/9+qP7K8T/wDQag/79UAdLRXNf2V4n/6DUH/fqlGleJv+g1D/AN+qAOkrntcUt4k0XaOkpJ/Km/2V4k2ndrkY/wB2KsXVtL11dd0z/iboXZ9qts6UAd53p1c0dL8UBvk1qDH+1FS/2d4o/wCgvbf9+jQB0lJXOHTfFH/QXtv+/RpP7N8UdtWt/wDv0aAOjornP7N8Uf8AQWt/+/RpP7N8U/8AQXt/+/RoA6Siuc/s3xR/0F7f/v0aP7N8Uf8AQXt/+/RoA6Oiuc/s3xR/0F7f/v0aP7N8Uf8AQXt/+/RoA6Oiuc/s3xR/0F7f/v0aP7N8Uf8AQXt/+/RoA6Oiuc/s3xR/0F7f/v0aP7N8Uf8AQXt/+/RoA6Oiuc/s3xR/0F7f/v0aP7N8Uf8AQXt/+/RoA6Oiuc/s3xR/0F7f/v0aP7N8Uf8AQXt/+/RoA6Oiuc/s3xR/0F7f/v0aP7N8Uf8AQXt/+/RoA6Oiub/s3xR/0F7f/v0aP7M8Uf8AQXt/+/RoA6Siub/szxR/0F7f/v0aX+zfFH/QXtv+/RoA6T6Vh+L13eHJx0JI/nUH9m+KP+gvbf8Afo1k+ItO11NFka61OORQRnCYoA7K0GLG3/65L/KpwK5a2sPE/wBjh8rU7YL5a43Rk9qmGneJ9vOq2+faM0AdHRiuaOneKP8AoKwf9+6P7O8UH/mKw/8AfugDpaK5r+zfFH/QWg/79Uf2b4o/6C0H/fugDpaK5oab4o/6CsH/AH7pf7O8Uf8AQVg/790AdJikrnP7O8Uf9BWD/v3R/Z3ij/oK2/8A36oA6OjFc5/Z3ij/AKCtv/36o/s7xR/0Fbf/AL9UAdHRXOf2d4o/6Ctv/wB+qP7O8Uf9BW3/AO/VAHR0tc1/Z3ij/oLW/wD36pw0/wAUf9Ba3/79GgDo6K5z+z/FH/QWt/8Av1R/Z/ij/oLW/wD36NAHR0Vzn9n+KP8AoLW//fo0f2f4o/6Ctv8A9+qAOjpMVzv9n+KP+grb/wDfo0n9neKP+grB/wB+6AOjxRiubOneKP8AoKwf9+6F03xOeurwj/tlQB0lMlGYXz/dNc8NL8UBv+QzAR7xUSab4k8uTfqlu4KnAEZGKAJ/By7dBYelxJ/Ot0Vz3gcMPDeJH3sJ3BP410IoAWiiigAooooAKo63zod5/wBcm/lV6qOtf8gS7/65N/KgCHw0f+KZsf8ArkK1M1leG/8AkWbH/rl/WtQUALmikooAU0UUUgCikoNAC0UUUAFFFFABRRRTAMUUtJQAUUUlAC0UUUAFFFFABRRRQAUUUUAFFFFIAooooAKKKKYBRRRSAKKKOaACiiimAUUUUAFFFFABRRRQAUlLRQAUlLRQBzunnPjXUG/6Yqo/OuhrntO/5G2//wBwV0NAC0lLSUALRRRQAlLRRQAUn4UtFACUtFFABRRRQAUUUUAJRS0UAJRS0UAJR+FLRQAlLRRQAUlLSUAc/rQB8S6N7SGugJrA1r/kZNG/66Gt80gDNANJRii4Ds0ZptKKV9RC5ozRRiqGGaM0UUAGaM0UUAGaM0UUAGaM0UUAGaM0UUAGaM0UUAGaM0UYoAKM0UYoAM0hpaQ0AYfjD5vC9yMf3f51rWfOn2//AFyX+VZfi3/kWLr6D+dalj/yDbb/AK5J/IUATZpaKKACiiigAooooAKKKKACiiigAooooAKSlooASilooAKKKKACiiigBKKDRQAUtJSigBk3MEn+6axfCChNBIX/AJ7Pn862pv8AUP8A7prG8I/8gNv+u7/zoA26DS0UAJS0UUAIaSnGkoASinYoxQA2inYoxQA2inYoxQA2inYoxQAlFLRQAUUUUAFJS0UAFJS0UAJS0UUAJXPaUwPjPVwP7iE10Vc3pQ/4rjWP+uaUAdEKdSd6UUAFFFLQAlFFFABRRRQAUUUUAFFFFABRRRQAUUUUAFFFFABRRRQAUUUUAFFFFACGue1sA+JNG9RKf5V0Nc9rY/4qbR/+uh/lQB0JNLRRQAUUUUAFFFFABRRRQAUUUUAFFFFABRRRQAUUUUAFFFFABRRRQAUUUUAFFFFABWD4xYDwzcZ7lf51vVgeMxnwtc+2D+tAGzacWMGOnlr/ACqWobI50+2P/TJf5Cp6AEJoBpKXFABS0gpaACjNFFABmjNFFABRmiigAzRRRQAUUUUAGaKKKACiiigAooooAKM0lLQAUyb/AFEn+6afTJv9Q/8AumgDA8ELs8OsB3uJCfzroq5/wV/yL7f9fEn866AUAAooooAKKKKACqOtf8gW7/65N/Kr1UdZ/wCQLd/9cm/lQBB4b/5Fqx/65f1rUrL8Nf8AIs2X/XP+tanSgAoIrn/HVjrGo+DdQi8M3ctrqoiLW0kTbSXHQZ968h+B3xd1fVPEc3hDxzcM9+oItZpxtkZ1+9G3qcZI+lAHv1HvSEhFLOQqqMkscYFfNPiv4n+LfHPxYj8M/De7misoJwhe3bHmhT+8dm/uDmgD6XFFRwI0NrGkrl3VAGb1OOTUmQVzSYC9qO1AooAKKPrRTAKAeaBXhngHx34m1X4+eIdCv715tNt5pRHAwGIgpOAPyoA9zopokBJ5p1ACGgUpOBSA5FAC0UnNDNtFABS0gORQOaAFoxSd6M5oAXNJmk3YPzV4b4N8f+JNS/aP1zw5e3zSaXFNcJFbMBiMJnGPyoA9zpaSlpAJS0jNt60BqYBmlryH9obxdrfhDwhY3Hh2+kspri8ETyR4zt2k4/Su98C6ld6t4D0a/wBRffc3Fokkr4xuYjk0gOhopAc0uaACijdzRmmAUUfWloASg0hPpXlPib4qajp3xs0bwZpsVv8AZbjH2mVxlskE4Hp0/WgD1eimg5GadQAUUUUAFFFFABRRRQBzunf8jhqI/wCma10Nc/pv/I6al/1yX+ddDQAUUVDc3VvZWz3N5PHbwxjLySsFVR7k0ATUlfNHxP8Aj/d3fiGDSPh/feVbRuFnvkHMzE4wuf4ffvX0dpTySaNZPO2+VreMux7naMmgC1RRQaACiiigAooooAKKKKACiiigAooooAKKKKACiiigAooooAKQ0tIaAMDWv+Rk0f8A66Gt81ga1/yMmj/9dDW+etACClpKRutKIm7DsgdaOteQ/Fb4vW/h6zl0nw3dxzay/BkRgy2w9T7+1dd8LdW1DWvh7YX+rTtcXEwJMh6mu2pgqlKiqs1ZMiNRSdjsaKQGlrjNAooooAKKKKACiiigAooooAKKKKACiiigAooooAKKKKACkpaQ0AYvi3/kWbn6D+dalj/yDbb/AK5J/IVl+Lf+RZufoP51qWP/ACDbb/rkn8hQBPRQKQ0ALR7VxfxD+JmhfD7SJJtRuUlvmQ/Z7GNgZJG7ZHYe5rz/AOAPxC8R+O/Eeuya/e+bDHErxQKMLFlug/CgD3SijNFABRRRQAUUUUAFFFFABRRRQAUUUUAFFFFABRRRQAUlLRQAUUUUARz/AOof/dNY3hH/AJAZ/wCu7/zrYuP+PeT/AHTWP4Q/5AZ/67v/ADoA3aOtIKWgApa4jxH4tvv7cTQ/D8Qe5Jw8mentWfdah4x8MqLy/aO8tNw3gtkrQB6NRVTTNQh1bTYL22/1cy7h7VboAKKKKACiiigAooooAKKKKACiiigAooooAKKKKACiiigAooooAK5zSv8Akd9Y/wCuaV0YrnNJ/wCR31n/AK5x0AdEKWkFLQAUZqK5uYLO2kuLuaOCGMbnkkYKqj1JNfNnxR/aBnutcttK+H188dvHIBcXqj/XHONq5/h9+9AH0xRVXTJZJdHs5Zm3yPAjO3qSozVmgBaKKKACiiigAooooAKKKKACiiigAooooAKKKKACiiigAooooASuf1wf8VFo/wD11NdBXP65/wAjDo//AF1NAHQ0UGkoAXFH0qjrGqxaNpct5OMhRhVz949hXEwX3jDxDam609ktogflAbGfagD0SiuO8M+KL6XVG0fX41S7XhXX+LFdjigAooooAKKKKACiiigAooooAKKKKACiiigAooooAKKKKACiiigBDWF4y/5Fa5/D+dbprC8Zf8itc/h/OgDXsf8AkHW3/XJf5Cp6gsv+Qdbf9cl/kKnoASilNcZ8QviXoXw+0eWbUrlJb4ofs9jGwMkjdsjsPc0Adj3p3SvB/wBn74heJPHPifXW8QX7TwRwq8UOMLGS3QfhXu9AC0UUUAFFFFABRRRQAUUUUAFFFFABRRRQAUUUUAFFFFABSUtJQAtMm/1D/wC6adTZf9Q/+6aAMLwX/wAi+3/XxJ/OugrA8Gf8gBv+viT+db9ABRRRQAUUUUAJVLWf+QLd/wDXJv5VdNUtY/5At3/1yb+VAEPhr/kWbL/rn/WtSsvwz/yLNl/1z/rWpQAg4NfN/wC0N4AutH1qD4heGVaJ0kU3pizlJAfll47HgGvo8ioNQsoNR0y4sryNZIJ4mjdGGQQRQB86+Nfj7ba78J4bDRjNH4g1OJYLmNBnyjwHx/vdsetd78E/h3a/D3wc2q6sEj1O+hWa5lkGDBHjIT2x1PvXi/wa8JWM3x7ns7mNbi10qWZo0cZyVyEP4YzX0X8XbiS3+EviKS3JEi2bYI7DgGgDx9/id8Rfip4quNL+HEa6bpkBKtcuoPAP3mcg4J7AVX1bxV8WPg9qltceJbga3o0z4ZymUb23AZRvT1rsf2Xbe3i+G11LDjzpbxjKc85AwP0rr/jPbWN18JdbXVAPKSHfGT2kH3T+dADda8c/bvgpfeMfDFyFf+z3mhLKDsccEEeoOfyrP+A3jDWfGfgGS+8Qz/abqK5aITbQu5QB1A4rzvwNO7/sh+IY8HEMdxg+uW5rrv2ZMD4VsAOftb5oAb+0P461/wAE6Vor+G7z7I91PIJWCg5ChSBz9a9S8NXk+o+FdKvbsgz3FnDLKQMZZkBP6mvDP2sv+QL4bHc3M3/oK17d4S/5EvRP+wfB/wCi1pAbGM18dx+IfEukfH7xFH4Mto7jVb7UZYIxIuQPmPJHoP6V9ielfMfw1tY7j9qbxDOwBaG6umQkdCS1MC14pn+OfgrS38QahqtpdWsRBnS1RXEa+pG0fL71638M/H8fjjwBFr10qW0se+O7VeQjL1I9iOas/FQZ+FfiNW+6dPlz/wB814v8Ibme2/Z18UPbsVdZn2H0yoBoAkvPih49+KPjG40T4Z4sNLgYq12UGWQHG9mIO3PYCna14g+LPwimt9S17UI/EWhNKEkcqBz6HAyp44PeuM+DM/xGtNPvpvAWm21zbNIFne4xjd2HUGu08W2/xs8Z+Hp9B1PwtZC2nZS0kUiLtxz3egD2aDx/pV38Nz4zg8w2C2xnKY+cEcbceueK8S8O+Jfi58Xpr290LU4ND0iJyqt5YC5/ug4JY46muz+Gukf8K7+C+pL8RZIRZRSOZYNwkCocDbx1JJ6CuY0D4weMNahlsvhb8Pbb+ybU7I93Gz6ncFz+dAGbrPjf4q/CHxBZHxdex6vpUzDkICsi9wGwCrV698VPF2oeHPhTN4j8OyLFcYheMyIGAVyOo/Gvnf4yn4lXcFpc/EO2jtLVWP2aKBlMYY9RwTzXsvxekJ/ZxIQEq1tajn0wtAHm/h/xn8bfiDYve6BMptYpPKLxwpGu7g+nPWu88f8AxX1r4e+DtG0mSOO58ZX1uPOwN6RN03Y7k9hXS/ASwisPg9pPkJt+0Bp392bGT+leSfEAG5/a40qC6w0Sz2gVW5GNoNAGxp9l8e4NEfxCuqQzu6ecbC4VS5XGeF24z7ZrmPgVq974h/aBn1XVVAvbiCd58Lt+bGDx2r6xUfJgqB7Yr5l+HFtDYftZ69a2qCOJZrsKo7Dk0AfTVc38QPF0XgfwTfa7JEZ2tlHlwjjexIAB9ua6T61zHxB1zw3oHg67uvGEaT6ew2Nbsu4zN2UD1oA8X8K6l8Zfihaz6rZ65DomnFj5H7hQH9l4yR7moF+JfxH+GXj+z0b4gyxajY3BUB1QYZCcb0YAZI7g1p6L8WviH4kszH8PPAFqmkxHy7ZnONiDoOWVc/SvMfivJ47Pi/SZ/iPBHDKQGtlhIMYTeNwGCeemaAPXf2p0B8A6TKpBA1EY98xtXK+CH+MnjjwdB/YerW2m6TbJ5MDtGEaTb0AO0kjtmun/AGoiD8NNFK9DfqR/36avTfhhBDbfC3w9HbqBGLGMjH0zQB5V4A+LPifQfHS+CPifCzXUziKC82gEMfu5xgMp9a7T4x/FRPhvo9vFYIlzrN8T5ELdEXoXI7jPAHc15r+0mq2fxC8JXtsuy6ZSWZerYkXb/WqfxWWHVf2ifDttq2PsxtrdW3H1Bb+ZoA17HT/j14h0tddGrw2jOnmQ2jKsbEem3bgfjW78IfjFq+teIpfBvju28jW4d2ydlEZdl6oy9m9Mda9shGIlX0GK+YviNCLL9q/RriyQCWae2dgO7YAoA7L4g+P/ABHoXx40DQ9PvGj0y4jTzYNgKyFs59+1e1seOuOetfOXxUf/AIya8MgnhUjAP/fVfRjL0yM/SgDxD4TfELxN4q8eeKtG1G/WQWrym13Rj91tcqAB3HSvGvFemeMovjjLa3F2r+JJrlWguIxtU5+6V9Bj+Vd98Asj46eLB/13/wDR1SeLjI37Xui9/wB7EF/74NAHvHhG28QWnhu3h8XXVvd6mq/vZbdcKf0HPvW7SA5HNLQAUUUUAFFFFABRRSUAc9pn/I7an/1xX+ddFXO6Z/yO+p/9cV/nXRUAFef/ABa+H9/8RtK03TLLUvsFtHc+ZddT5iYxjHevQKKAPkb4w/DXRfhxN4Zh0UTPNcyHz5pGzvKkdB2619V6IS3h/Ti3U2sZP/fIrwH9qFm/t3wmDjbvfA99y179of8AyL2nf9esX/oAoAvUUUUAFFFFABRRRQAUUUUAFFFFABRRRQAUUUUAFFFFAAaKKKACkNLSGgDA1r/kZNH/AOuhrfPWsDWv+Rk0f/roa3zQAmKxfF+mX+seFb7TtIuzZ3VynlrcDqgPUitujFVCThJNCeqPnPxj8HdG8EfCvVNTmllvtWRFP2lzjDE4PH416f8ABdi3wp0fdxiLFVvjrj/hUGs/RP8A0IVa+DIx8LdJz/zz/oK9evXqV8GpVHd3OenG0zvKWkpa8XqdIUUUUwCiiigAooooAKKKKACiiigAooooAKKKKACiiigA70h60tIaAMXxb/yLNz9B/OtSx/5Btt/1yT+QrL8W/wDIs3P0H861LH/kG23/AFyT+QoAnoFFFAHhln+zxb6jruq67461GXUpbiaSSKGNyuFOSuWz29K5/wDZcRY/EniVIxtRV2qPQB+K+jroE2cwTr5bY/KvnL9l1CPEPiQnqMg/99igD6RFLSUtABRRRQAUUUUAFFFFABRRRQAUUUUAFFFFABRRRQAUUUUAFFFFAEVx/wAe8n+6axvCH/IDP/Xd/wCdbNx/x7yf7prG8If8gI/9d3/nQBu1HcOY7WWReqoSPyqWorobrOZR1KEfpQBwHgFReeIL6+mAaUjduI6E9a7PXbdbrQryJhkNGa4z4bsBqWowdGjxkH6122syiDRrqRzhVjOTQBy/wyuHfQ7m3ckrbzlE9hXaiuJ+GyY069kA+V5yQa7agBaKKKACiiigAooooAKKKKACiiigAooooAKKKKAA0UGigAooooABXOaT/wAjtrP+5HXRiuc0r/kd9Z/65x0AdFS0gpaAPPfi54B1X4iaTp2ladqYsLRLnzLvr+8TGMYHWvCPjL8M9E+HQ8Mw6MsrzXMjCeeRsmQqV7dutfXNfO/7USk6p4Q/umZx/wCPJQB7zopJ8P6aT1NrF/6AKvVS0YY0DTwO1tGP/HRV2gBaKKKACiiigAooooAKKKKACiiigAooooAKKKKACiiigAooooAQ1z+uf8jFo/8A11NdAa5/XP8AkYtH/wCupoA6E0UdqKAOE+Jdw629nag/I77j+FdhpUEdtpNtFEoVVjHArjfiWApsJWHyhiD+ldrYHdp8DKcgxgj8qAOC8ZD7D4z0+5jGGkkTJ/GvRAcgH2rzvx24m8T6bCvLrImR9TXoiDCAe1AC0UUUAFFFFABRRRQAUUUUAFFFFABRRRQAUUUUAFFFFAB3ooooASsLxl/yK11+H863TWF4y/5Fa6/D+dAGvZf8g62/65L/ACFT1BZf8g62/wCuS/yFT0AHQe9eGW/7PEGpa5qmu+ONTm1OaeaWSOFGK4Xkrlvb0r3Oorji1lx18tv5UAfNn7LUYj8WeJFjG1Fi2gegDjFfS4r5t/ZdX/ipfEjHrtIz/wADFfSVACiiiigAooooAKKKKACiiigAooooAKKKKACiiigAooooAKKKKAENNl/1D/7ppxpkv+of/dNAGJ4L/wCQA3/XxJ/Ot+sDwX/yAG/6+JP51v0AFFFFABRR3ooASqWsf8gW7/65H+VXTVHWP+QLd/8AXI/yoAi8M/8AIs2X/XP+talZfhn/AJFmy/65/wBa1KACmuD5Zx1wadRQB8y/Bewu4f2gfEJltplWOSfezKcDJOMn8a+itc0a18QaHeaVfAmC7haJ8HkAiraW0EUzyxQxpJIfndUALfU96koA+UvCmveJf2ffFGo6TrejXF9o1xJu8yFTtbssitjHTqKm8e/FHXvjGsPhTwXoF0ltPIGlLDLSY6ZPRVHfNfUdxbQXcfl3UEc6ZztkQMPyNMtrCysSTZWcFuW6mKJUz+QoA8/0b4ZyaP8AAe48GLIhvbmylWaTPy+c4JOPYHj8K8S+GvxO1P4Ntf8Ah3xXoN48Rl3xoq7XR+nGeCDX1pzVa402xvXV7yyt7h1GA0sSsR+JFAHx58WvE3in4kX1tq8nh3UrLRYAY7RGhZhk9WJx1OK+tvCgYeDNFEilHFhAGVhgg+WMitTyY/K8ry18sDATbxj6U4DAwOnpSAX0r5s+GNreR/tN+I3ktZ1j8+4ZmKnABJ28++a+k+lRJbQRzPLHCiyyffdVAZvqe9AHN/E23kuvhj4hjgRnkawlAVRkn5a8w/Zw0g6h8J9YsNSt3jgurpowXXG4FRyPoa93YB0KsAQRyD3pkMEVvGI7eJIkHO1FCj9KL3A+U9C1DxJ+z14zv7HVtJm1HQ7o7jLFna6D7sit0B9Qa0/GHxt1rx+IfDnw60u9hF0THLMhO+TIxgY+6PUmvpie2t7uHyruCKeP+5IgYfkahtdK06xkL2Nha2zkYLQwqhI/AUAeRan8Mtdf9mtfCysZdYhAuGiD7vMYNuKZ78Hj3FcJ8KfjFafDzwnJ4d8R+H9QE0U7yI8UfMhOPlIOOeK+os1Wk0+xlk8yWyt3fOdzRKT+eKYHyF8Vtb8Y/EiSHVn8MajY6HZgiBPJZsZ6s3v+letePp59V/ZZt5YoJGdrWEsu35lCnByPwr2vau3btG3GCuOMfSm+RCYPJMSGLGPLKjbj6UAcP8FYp4PhFoaXUMkLrAPldSpx9DXA/tA/D3V7vU7Hxx4UiaW8sAPtMcYy+FOVcDvjuK94VQihVG1QMAAcCl/UUAfPNr+0xeTeHRaR+E7+bXVh2Foxuj34xuxjPXnGK5T4D2+uS/HQ6jr1neR3FxBcSzy3EDJlmHXke9fVEWnWMMhkhsreNyclkiUEn64qwY13Bto34xuxzj60AOJryX9ofwbqnizwDC+ixPcT6fcee0CfekXaQcDuR1xXrOKU80AfNfw/+Oln4X8E2Gg6p4X1OS8sU8kfZ4+JeeuDzurz34n6p4w8YeIIdf1fw5qNjp0QxaRvbvtjTdnk46mvs4WFmJN62kAfOdwiAOfXNSyQpNGUlQSIequMg/hQB4Z+0Tbza18JtAn022muM3Ub7YkLEAxHsPyrm/h78br3wD4Rg0Txp4e1IJapts5vJMe5eyHcB+dfS/lJsChF2r90beB9KiubG0vFC3lrDcKOQJYw+PzoA+YvDWi+Jvjd8VE8V6xayWOiWUqugkU7dikYjTPUnqTXX/tDfDXVNbFh4p8LwvPd6bGI5reIZcoDuV19SPT0r3KKGKCIRwRpFGvREUKB+Ap9AHztpH7Ts1poS22u+GrubWo12fuvkSQ+uCMj3FVPhX4P8Q+P/ig3xE8Y28lrbxSia3RwVLuowgUH+FcfjX0Q+kaZJKZZNOtHkJyWaBST+OKthQqgKAoHQAdKAPnb9ovw5rVl4t0fxto1rJcQWyLHMYwWMbqxIJA7EcZqW/8A2jNT8Q6DNp3hLwpqC63NFtEg/eLET1YADP0zX0IyrJGUkVXVuCpGQagg02xtZDJa2VvA56tHEqn9BQB80/s06dq1l8RNZk1ixu7eWS0JZrmJkJcvk9R160744Lq3g/406X4ytNPkuLeONHRyCULrkFSR04NfTm0Bt2BuIxnHNRXFrb3cfl3cEc6f3ZUDD8jQBg+AvGEfjrwjBrcVhPYCRmQwz9QR1IPcV0lMihjgjEUEaxRr0RFAA/AU+gAooooAKKKKADvRRRQBzml/8jxqf/XFP510dc7pn/I8an/1xX+ddEaACiikoA+ef2mba5n1zwk0VvLIglYZRSedy8V73o6smh2KsCrC2jBB7HaKnmtoLjZ58Mcuw5XegO0+2akAxxQAuaKKKACiiigAooooAKKKKACiiigAooooAKKKKACiiigAooooAKSlpDQBga1/yMmj/wDXQ1vnrXP60ceJNH/66mugNABS0gpaTA86+OcU03wk1iO3ieViEO1Bk43Crfwdimi+F+krcRvG4j+64wcYFdvIiSRlZEV1PUMMg0qIqKFRQqjgADAFdPtr0fZ+dyFGzuKaWiiubqWFFFFMAooooAKKKKACiiigAooooAKKKKACiiigAooooAKQ0tJQBi+Lf+RZufoP51qWP/INtv8Arkn8hWX4t/5Fm5+g/nWpY/8AINtv+uSfyFAE9FFFAEV1uFpNsBJ8tsAeuK+ev2YrO6g1jxK1xbyxgOUJdSMNuHH1r6LqGG2gtt32eGOLedzbFA3H1OOtAEtFFFABRRRQAUUUUAFFFFABRRRQAUUUUAFFFFABRRRQAUUUUAFFFFAEVx/x7yf7prG8If8AICP/AF3f+dbNx/x7yf7prG8If8gI/wDXd/50AbtLRRigDzbVLe+8FeLZNXsrKa8sbskyLEMlaNZ8a/8ACTWZ0vRbK6DykCQsmOPSvSSMjB5HvUawRRtuSJFY91UA0AZfhjR/7E0GC1b/AFoGXI9a2KKKACiiigAooooAKKKKACiiigAooooAKKKKACiiigANFBooAKKKKAAVzmk/8jvrP/XNK6MVzmk/8jvrP+4lAHRUtJS0AFfPv7TFrdXWr+DxBBLKouXUlFJ5LJgfXg19BVHLBDOV86JJNhyu9Qdp9RQBBpcbRaPZRyKVZLdFIPUEKKt0lLQAUUUUAFFFFABRRRQAUUUUAFFFFABRRRQAUUUUAFBooNABRRRQAhrn9c/5GLR/+uproDXP65/yMWj/APXU0AdDRQaKAMLxboba5ojQxczxN5kee5HauU0fx42g2X9n67YXSSw/KhCfe9q9IqOSCGUgyxI57FlBoA4DRdMvPEnika3fQvFbodyCQYz6AV6GKaAFXCjAHYdqdQAUUUUAFFFFABRRRQAUUUUAFFFFABRRRQAUUUUAFFFFAB3oo70UAJWF4z/5Fa6/D+dbtYXjP/kVrr8P50Aa9l/yDrb/AK5L/IVPUFl/yDrb/rkv8hU9ABUVzn7LLjk7G4HfipaKAPnX9mKzuYNa8SvPBJHhzGxZSMNuHH1r6KqKC1gtt32eGOLedzbFA3H1OOtSUALRRRQAUUUUAFFFFABRRRQAUUUUAFFFFABRRRQAUUUUAFFFFACGmy/6h/8AdNOpsv8AqH/3TQBh+C/+QA3/AF8SfzrfrA8F/wDIAb/r4k/nW/QACigUUAJRRS0AIapax/yBbv8A65H+VXjVHWP+QLd/9cj/ACoAh8M/8izY/wDXP+talZfhn/kWbL/rn/WtSgApM0HmvP8Awj8WtN8ZePtQ8N6XZy7LCEu12zDEhDAEAdutAHoNFePfFL4sa34M+IWhaFpVtayW168fnNKpLHc4XAweOtevqxb2oAWloooASlpKKAFzR3pteffF3xzqfgbwvbX+jxwSTSXSRMJgSAp69K0pUpVZKMdxN2PQjSisvQNUfVtBs72eNY5J4g7KOgJrSzUSjKMuVhdC9KK8y+KHjrxJ4V1bQ7fw5pqXEV9N5c8rxlgvI446cHrXpKSFo0LjaxAJHocVUqThFPuFyQUtNyKWslewXCkqOaYxxuy4JVSea8z+FXxG1vxtrniG11WG1ii06cJCIVIOMkck9elbxoylByWyFc9RoFIDTqwRQUYooqgEpaKKACiiigAooooAKKKKACiiigBKWiigAooooAKKM0UAFFFFABRRRQAUUUUAJS0lLQBzumf8jvqf/XFf510Vc7pn/I76n/1xX+ddFQAUUUUAFFFFABRRRQAUUUUAFFFFABRRRQAUUUUAFFFFABRRRQAUUUUAFFFFABSUtIaAOf1v/kZNH/66mug71z2t/wDIzaP/ANdTXQ0AApaBRQAlLRRQAUUUUAFFFFABRRRQAUUUUAFFFFABRRRQAUUUUAFFFFABRRRQAUlLR3oAxPFv/Is3P0H861LH/kG23/XJP5Csvxb/AMizc/QfzrUsf+Qbbf8AXJP5CgCeiijvQAUUUUAFFFFABRRRQAUUUUAFFFFABRRRQAUUUUAFFFFABRRRQAUUUUAFFFFAEVx/x7yf7prG8If8gI/9d3/nWzcf8e8n+6axvCH/ACAj/wBd3/nQBvUUUGgAooooAKKKKACiiigAooooAKKKKACiiigAooooAKKKKACiiigANFBooAKKKKAAVzelf8jvrP8A1zjrpBXOaV/yO+s/7kdAHRUtIKWgApKU0negApaQUtABRRRQAUUUUAFFFFABRRRQAUUUUAFFFFABRRRQAUGig0AFFFFACGuf1z/kYdH/AOuproDXP65/yMOj/wDXU0AdCaWkpaAEopaSgAxRRRQAUUUUAFFFFABRRRQAUUUUAFFFFABRRRQAUUUUAFFFFABRR3ooAQ1heMv+RWuvw/nW7WF4z/5Fa6/D+dAGvZf8g62/65L/ACFT1BZf8g62/wCuS/yFT0ABopDSigAooooAKKKKACiiigAooooAKKKKACiiigAooooAKKKKACiiigAooooASmS/6h/900+my/6h/wDdNAGH4L/5ADf9fEn86365/wAF/wDIAb/r4k/nXQUAFFAooASlpKWgBDVLWP8AkC3f/XI/yq8aoax/yBbv/rk38qAIvDP/ACLNl/1z/rWpWX4Z/wCRZsv+uf8AWtSgDnvHWrarovg3UL3w/ZteX8cLGKMDODjrjvivkb4ReIfFOlfE5brw/pkmqXdyGW8tlXG5C2WJP8ODz+FfbWARg818ufs5SPL8ZdfYnrbTbsf9dhQAv7R1zNpXxG8Oaq8YZ4Y0nWIn7xRwSM/UYrXuPi/8WtbsYdT8O+CXtrDbvLiEy+YvryM4+lZv7RcKX3xc8NWtwu+GTyo2X1VpACK+l7W1hsbKG1tkCQwIERB2AGAKAPMfg/8AGMfEcXen6lYiy1azXeyxklJEyBnnoc9qm+K/xktfh8YNM060/tHXboAx22cLGpOAWxzz2HevOfhhBFpn7TniO0soxFF+8AVRwASCf1rhPFmv3MH7SV9qc1k2qNZaoVjtcFiyocKoH4ZoA7uT4qfGnSozq+qeFmOmQ/PMslnsXb/vDkfWvYfhv8SNN+I/h831gpguYTsurZjkxN/UHsa84f4++I2eWO7+HN8beQEKoRnJUj+IYx9a5T9njSte0/4mXtzPpF1ZWV1byB/MjKovzZUc+lAH1Ia8b/aOTd4CszkDN8g/TNeydq8Y/aUOfh7aL0/09Dn8DXdlkrYiLMauxzmj/FLxzrXh+O28EeFpJEsgI5LkrvDY7AHvXXfDj4yt4i10+GvFdg2la0CVjUjCykdR7Gu78GaVbaL4P0+zskVYlgVuB94kZJNeOfGO1i0z4veEtXtFCTy3MayFRgthxyfwNeovY4ytKko23szH4Umdr8VfiXeeAr/RrS30yC8TUZCGaYkbACBx781pfE/x7ceBfDVlqljYx3TXFwkRSRyoAKk9vpXnf7QzCXXPBpfJDTu3/jy1p/tIH/i3GnY6fa0x/wB8GsKGHpuVLmWjvcqUnYw5PjZ491u6hm8M+GWNoG/eCOLzQ/tu7V23j74wDwhY6baRae11r99Cj/ZFPywkjo3vntXTfDrTItM+G2iwwoqH7KjOQPvMRkk15LodpF4h/ak1F9TQTfY4fMiVhwCuAv8AOrUaFSU3yWUPxDmasif/AIWh8SNCtpNQ8Y+FJX0uRTh4otjRZ6Zx/Wnfs53C3XiLxbcR/cmljkA+uTXt+o28d3YzQTorpJGysGGQQRXiP7Odotl4k8Y2qHKw3Cov03NQ69OrhZ8sFF6bBZqR78KWkor59HSLRRRVDCiiigAooooAKKKKACiiigAooooAKKKKACiiigAooooAKKKKACiiigAooooASlpKWgDndM/5HfU/+uK/zroq53TP+R31P/riv866KgAooooAKKKKACiiigAooooAKKKKACiiigAooooAKKKKACiiigAooooAKKKKACkNLSUAc9rf/IzaP/11NdDXPa5/yM2j/wDXU10NAC0UUUAFFFFABRRRQAUUUUAFFFFABRRRQAUUUUAFFFFABRRRQAUUUUAFFFFABRRRQBieLf8AkWbn6D+dalj/AMg22/65J/IVl+Lf+RZufoP51qWP/INtv+uSfyFAE9FFFAC0lLSUAFFFFABRRRQAUUUUAFFFFABRRRQAUUUUAFFFFABRRRQAUUUUAFFFFAEdx/x7yf7prF8If8gM/wDXd/51s3H/AB7yf7prG8If8gI/9d3/AJ0Ab1FFFABRRRQAUUUUAFFFFABRRRQAUUUUAFFFFABRRRQAUUUUAFFFFAAaKDRQAUUUUAArm9K/5HfWf+ucddIK5zSv+R31n/rmlAHRUtJS0AFJS0lAAKWkFLQAUUUUAFFFFABRRRQAUUUUAFFFFABRRRQAUUUUAFBooNABRRRQAhrn9c/5GHR/+uproDXP65/yMOj/APXU0AdDS0lFABRRRQAUUUUAFFFFABRRRQAUUUUAFFFFABRRRQAUUUUAFFFFABRRRQAd6KKKAErC8Z/8itdfh/Ot01heM/8AkVrr8P50Aa9l/wAg62/65L/IVPUFl/yDrb/rkv8AIVPQAGig0UAFFFFABRRRQAUUUUAFFFFABRRRQAUUUUAFFFFABRRRQAUUUUAFFFFACGmy/wCof/dNONMl/wBQ/wDumgDE8F/8gBv+viT+db9YHgv/AJADf9fEn8636ACiiigBKWkpaAA1R1j/AJAt3/1yP8qumqWsf8gW7/65H+VAEPhn/kWbL/rn/WtSsvwz/wAizZf9c/61qUABOBXx98NfFVt8LvjZqyeKIZLaGZ5bWVyvMOX3KxHp0/A19g1zet/D3wp4j1D7frOh2l1dYAMrp8zY6Z9aAPCPjzcQz/F7wjcwuJIna3dWU5DKZFII/Cvpv7y+xrEufBfhy8ms5bvRrWaSxAFszx5MQHTFbeMD6UAfNXw5cP8AtT6/u3Dd5pH4AVnfEuw1T4T/AByi8cW1n9q0y8uDOCR8u5hh0z/Cecivo618K6HY69PrVnpsEWpXC7ZblV+Zh71e1DTbHVrJ7PVLSG7tn+9FOgdT+BoA8qu/2kvAqaG97Zz3Ml55RKWbQMrF8fdJ6Yz3qt8EPFfjnx1q2p694jYJobx+XaxqgVfMDfw9zgdTXcR/CfwPHd/aR4dsi4OQDGMflXVW1rb2NrHbWUEdvBGMJFEgVVHoAOlAEv0rxj9pL5vAtjD0L3qnP0Br2ccVVv8ATLHU41TULSG5VTlVlQMAfxrfB1lRqqbV7GdSLkjxnwB8cPDtt4QtrPxJefY720Ty2DAt5gHQjHtXK297d/GX402d/pkDpomkyqfNboFU5DH3b0r3TUfh74V1RAt5odkwXoViCkfiK1tL0LTNDsxbaRYwWcPdYUC5PqfU16MsbShN1aMbSZiqb2Z4Z+0Uypr/AIPGOFmkx9MrWr+0eM/DXTcZ5vI8f98mvWtV8OaRrsls+r6fDdvavuhaRclD7VLqmhaXrdqlvq9jDdwxsGWOVcgEdDXPTxai4Nr4bmrhcz/BeH8B6Pxj/RI/5V4n8R/7T+GHxng8bWtq0+m3yhJdvQcAOpPYnqK+iLe3itbdIIIxHGgwqqOAKjvLG01G1a2v7aK5hb70cqBlP4Goo4pUqkm1dPdBKndHkutfHzwo/h2aTR7hri/kjxHbOpXDEdzjt7Vzf7NMjtrPiUynLzeXKxPcknNev2Xw68J2MzyQaFZ5c8hogwH51r6foel6VI76Zp1raNIMOYYgu4e+K6J4qgqLpUotX6slQad2aFJRS15KNwooopgFFFFABRRRQAUUUUAFFFFABRRRQAUUUUAFFFFABRRRQAUUUUAFFFFABRRRQAlLSUtAHO6Z/wAjvqf/AFxX+ddEa53TP+R31P8A64r/ADroqACiiigAooooAKKKKACiiigAooooAKKKKACiiigAooooAKKKKACiiigAooooAKQ0tIaAOe1v/kZtH/66muhrntc/5GbR/wDrqa6E0ALRQKKACiiigAooooAKKKKACiiigAooooAKKKKACiigUAFFFFABRRRQAUUUUAFJS0hoAxfFv/Is3P0H861LH/kG23/XJf5Csvxb/wAizc/QfzrUsf8AkG23/XJP5CgCeiiigAooooAKKKKACikzRmgBc0UmaM0ALRSZpaACiiigAooooAKKKKACiiigAooooAKKKKAIrj/j3k/3TWN4Q/5AR/67v/Otm4/495P901jeEP8AkBn/AK7v/OgDeooooAKKKKACiiigAooooAKKKKACiiigAooooAKKKKACiiigAooooADRRRQAUUUUAArm9K/5HfWf9yOukFc5pX/I76z/ALkdAHRUtJS0AFJS0lAAKWkFLQAUUUUAFFFFABRRRQAUUUUAFFFFABRRRQAUUUUAFFFFABRRRQAhrn9c/wCRh0f/AK6mugNc/rn/ACMWj/8AXU0AdDRQaKACiiigAooooAKKKKACiiigAooooAKKKKACiiigAooooAKKKKACiiigAooooAQ1heM/+RWuvw/nW6awvGX/ACK11+H86ANey/5B1t/1yX+QqeoLL/kHW3/XJf5Cp6AA0UGigAooooAKKKKACiiigAooooAKKKKACiiigAooooAKKKKACiiigApKWigBDTZf9Q/+6acabL/qH/3TQBheC/8AkAN/18SfzroK5/wX/wAgBv8Ar4k/nW+KAFooooASlpKWgBDVLWP+QLd/9cj/ACq6ao6wcaLd/wDXJv5UAReGf+RZsv8Arn/WtSsvwzx4Zsf+uX9a1M0AFLRmkoAKOtFGaAEpelFGaACijNFIAxSEUuaKACiiigA70UUZoAKKM0E0ugCDNGKXNGaa2ASlo4o4oAKKOKOKYBRRxRxQAUUcUcUAFFHFHFABRRxRxQAUUcUcUAFFHFHFABRRxRxQAUUcUcUAFFHFHFABRRxRQAUUUUAJS0UUAc7pn/I76n/1xX+ddFXO6Z/yPGp/9cF/nXRUABpKWigAooooAKKOKOKACijiigAooooAKKKKACiiigAooooAKKKKACiiigAooo4oAKSlooA53W/+Rm0f/rqa6Gue1sf8VNo3/XU10PegAFLRRQAUUUUAFFFFABRiiloASjFLRQAlFFFACUtFFABmkzS0lAC5ozSUUALmjNJRQAuaKSloAKQ0tJQBi+Lf+RZufoP51qWP/INtv+uSfyFZfi7/AJFi6+g/nWnY/wDINtv+uSfyFAFiiiigAoozRQAUnWlzRQAmKMUtFACYoxS0UAJS0UZoAKKM0ZoAKKKKACijiigAooooAKKKKACijNFAEVx/x7yf7prG8If8gI/9dn/nW1cc28n+6axfB/8AyAT/ANdn/nQBvUUCg0AFFFFABRRxRxQAUUcUcUAFFHFHFABRRxRxQAUUcUcUAFFHFHFABRRxRxQAUUcUcUAFFHFHFABRRxRQACuc0n/kd9Z/65pXRiub0n/kd9Z/65x0AdHS0gpc0AFJSnpSUAFLSUtABRRxRQAUUUUAFFFFABRRRQAUUUUAFFFFABRRRQAUUUUAFFJRQAVz+uf8jDo//XU10Fc/rn/IxaP/ANdTQB0NFFGaACiikoAWiiigAopM0uaACikzRmgBaKTNLQAUUUUAFFFFABRRmkoAWikooAWiikzQAtFJS0AIawvGX/Ir3X4fzrdrB8aZ/wCEVuce386ANiy/5B1t/wBcl/kKnqvZf8g+2/65L/IVYzQAGikooAWikpaACiiigAopKWgAooooAKKKKACiiigAooooAKKKKACiiigAopKKAA0yX/UP/umpDTJR+5f/AHTQBheDP+QA3/XxJ/Ot8Vg+DP8AkAP/ANfEn863qAFooooATNGabmjNADiaoa3/AMgG9x18lv5VdJrP10n/AIR++29fJb+VAGHoPi7SrbQ7S3leXzI4wGAiJrR/4TPSP783/fo1L4cjhbw3YssafNCMnaOa0vKi/wCeaf8AfIoAyf8AhMtJ/vzf9+jR/wAJlpH9+b/v0a1vKi/55J/3yKPKi/55J/3zQBk/8JlpP9+b/v0aP+Ey0n+/N/36Na3lRf8APJP++aPKi/55J/3zQBk/8JlpH9+b/v0aP+Ey0n+/N/36Na3lRf8APJP++aPKi/55J/3zQBk/8JlpP9+b/v0aP+Ey0j+/N/36Na3lRf8APJP++aPKi/55J/3zQBk/8JlpP9+b/v0aP+Ey0n+/N/36Na3lRf8APJP++aPKi/55J/3zQBk/8JlpH9+b/v0aT/hMtI/vzf8Afo1r+VF/zyT/AL5o8qL/AJ5J/wB80AZP/CZaT/fm/wC/Ro/4TLSf783/AH6Na3lRf880/wC+aPKi/wCeSf8AfNAGT/wmWk/35v8Av0aP+Ey0j+/N/wB+jWt5UX/PNP8Avmjyov8Ankn/AHzQBkf8JlpH9+b/AL9Gj/hM9I/vzf8Afo1r+VF/zyT/AL5FHkxf880/75FAGR/wmekf35v+/Ro/4TPSP783/fo1r+TD/wA8k/75o8mL/nkn/fNAGR/wmekf35v+/Ro/4TPSP783/fo1r+TF/wA8k/75o8mH/nkn/fIoAyP+Ez0j+/N/35NH/CZ6R/fm/wC/JrX8mH/nkn/fIo8qH/nkn/fIoAyP+Ez0j+/N/wB+TR/wmekf35v+/JrX8mL/AJ5J/wB80eVF/wA8k/75oAyP+Ez0j+/N/wB+TR/wmekf35v+/JrX8mL/AJ5J/wB80eTF/wA8k/75oAyP+Ez0j+/N/wB+TR/wmekf35v+/JrX8mL/AJ5J/wB80eTF/wA8k/75oAyP+Ez0j+/N/wB+TR/wmekf35v+/JrX8mL/AJ5J/wB80eTF/wA8k/75oAyP+Ez0j+/N/wB+TR/wmekf35v+/RrX8mL/AJ5J/wB80eTF/wA8k/75oAyP+Ez0j+/N/wB+jR/wmekf35v+/RrX8qL/AJ5J/wB80eTD/wA8k/75FAGR/wAJnpH9+b/v0aP+Ez0j+/N/36Na/kw/88k/75FHkw/88k/75oAyP+Ez0j+/N/36NH/CZ6R/fm/79GtfyYf+eSf98ijyYf8Ankn/AHyKAMj/AITPSP783/fo0f8ACZ6R/fm/79GtfyYf+eSf98ijyYf+eSf98igDI/4TPSP783/fo0jeM9IHV5v+/RrY8mL/AJ5J/wB80eTF/wA8k/75FAGR/wAJlpHXfN/36NKvjDS3cLGZixOB+6Na3kw/88k/75FIYIT1iT/vmgDkbPxDaQeLb6eUSBJI1UELnp7VtN4w0lerzf8Afo1S0uCBvGmpjyl+SNccdK6Pyov+eSf98igDH/4TLSf783/fo0f8JjpP9+b/AL9GtbyYf+eSf98ilEMP/PJP++aAMn/hMdJ/vzf9+jSf8JlpP9+b/v0a1/Ji/wCeSf8AfNHkxf8APJP++aAMj/hMtJ/vzf8Afo0f8JlpP96b/vya1/Ji/wCeSf8AfNL5MX/PNP8AvmgDH/4TLSf703/fk0f8JlpP96b/AL8mtjyYv+eSf980eTF/zyT/AL5oAx/+Ey0n+9N/35NH/CZaT/em/wC/JrX8mL/nkn/fNHkxf88k/wC+aAMj/hMtJ/vTf9+TR/wmWk/3pv8Avya1/Ji/55J/3zR5MX/PJP8AvmgDI/4TLSf703/fk0f8JlpP96b/AL8mtfyYv+eSf980eTF/zyT/AL5oAyP+Ey0n+9N/35NH/CZaT/em/wC/JrY8mL/nkn/fNHkxf88k/wC+aAMf/hMtJ/vTf9+TR/wmWk/3pv8Avya2PJi/55p/3zR5MX/PJP8AvmgDH/4TLSf703/fk0f8JlpP96f/AL8mtjyYv+eaf980eTF/zzT/AL5oAx/+Ey0n+9N/35NH/CZaT/em/wC/JrY8mL/nkn/fNHkxf880/wC+aAMc+M9IHV5v+/Rpv/CaaR/en/78mtryYv8Ankn/AHyKDHH/AM80/wC+RQBx+sa/Z3GvaVPH5ojhcsxKYyD7Vsv4v0qP7zTf9+jVPXIY18S6LtRQGlIYY68V0RhiPWNP++aAMn/hMdJxnfMf+2RpP+Ex0k/xTf8Afo1reRCP+WSf980oii/55J/3zQBkf8JjpP8Afm/79Gj/AITHSf783/fo1seVF/zzT/vkUeVEf+WSf980AY//AAmOk/35v+/Ro/4THSf783/fo1r+TD/zyT/vkUeTD/zyT/vmgDI/4THSf783/fo0f8JlpP8Aem/79GtfyIf+eSf980eRD/zyT/vmgDI/4TLSf70//fo0f8JlpP8Aen/79GtbyIf+eSf980eRD/zyT/vmgDJ/4TLSf70//fo0n/CZaT/en/79GtfyIf8Ankn/AHzS+RD/AM8k/wC+aAMf/hMtJ/vT/wDfo0f8JlpP9+b/AL9GtjyIf+eSf980eRD/AM8k/wC+aAMf/hMtJ/vzf9+jR/wmWk/35v8Av0a2PIh/55J/3yKPIh/55J/3yKAMf/hMtI/vzf8Afo0f8JlpP9+b/v0a2PIh/wCeSf8AfIo8iH/nkn/fIoAx/wDhMtJ/vzf9+jR/wmWk/wB+b/v0a2PIh/55J/3zR5EP/PFP++aAMf8A4TLSf703/fo0o8Y6T/en/wC/RrX8iH/nkn/fNHkw/wDPJP8AvmgDI/4THSv70/8A35NH/CZaT6z/APfk1seVF/zzT/vmkMUX/PNP++aAOW8R+JLS50CVYElYOQPmTb3q9a+LdMS1hR/PUrGo/wBUcdKXxXFCnhu4cxL8uD0961LKKH7BblY1AMSnp7UAZ3/CZ6ODzLKP+2TUn/CbaNn/AFsv/fpq2RFH/wA81/75FHkxf88k/wC+RQBjf8Jro/8Az0m/79Gl/wCE00j+/N/36NbHkw/88k/75FJ5MP8AzyT/AL5FAGR/wmekf35v+/Ro/wCEy0j+/N/35Na/kxf88k/75FHkw/8APJP++aAMj/hMtI/vTf8Afk0f8JlpP96b/vya1/Ii/wCeSf8AfNHkQ/8APJP++aAMj/hMtJ/vTf8Afk0f8JlpP96b/vya1/Ih/wCeSf8AfNHkw/8APJP++aAMj/hM9I/vTf8Afk0f8JlpH9+b/vya1/Ji/wCeSf8AfIpfJi/55p/3yKAMf/hMtI/vzf8Afk0p8Y6SuMvMP+2RrX8mL/nmn/fNHkxf880/75oAxn8aaOnWSX8IjSf8Jto5/jm/78mtryIv+eSf98ijyIf+eSf98igDF/4TbR/78/8A35NH/CbaP/fm/wC/Jra8iH/nkn/fIo8iH/nkn/fIoAxf+E20f+/N/wB+TR/wm2j/AN+b/vya2vIh/wCeSf8AfIo8mH/nkn/fIoAxT420Yfxzf9+TQPG2jn+Ob/vya2vIh/55J/3yKPJh/wCeSf8AfIoAxD430Yfxzf8Afk0o8a6OTgPMf+2Jra8mH/nkn/fIo8mEf8sk/wC+RQBjP4v0xonCeex29PKIrM8O+JNOsdMMM5lVvNZuEJxmunuraCS3k3xIflPasfwjBF/YpYxqWMz5JHvQBMvjLSD/AMtJR9YjSDxlpDfxzf8Afo1seTD/AM8k/wC+RTfs8Of9Un/fNAGV/wAJjpP9+X/v0aP+Ex0n/npL/wB+jWr9mg/55J/3zR9mg/54x/8AfNAGV/wmOk/35f8Av0aP+Ex0n+/L/wB+jWr9mg/54x/980fZ4P8AnjH/AN80AZX/AAmOk/35f+/Ro/4THSf78v8A36Nav2eD/njH/wB80fZoP+eMf/fNAGV/wmOk/wB+X/v0aP8AhMdJ/vy/9+jWr9ng/wCeMf8A3zR9ng/54x/980AZX/CY6T/fl/79Gj/hMdJ/vy/9+jWr9mg/54x/980fZ4P+eMf/AHzQBlf8JjpP9+X/AL9Gj/hMdJ/vy/8Afo1q/Z4P+eMf/fNH2aD/AJ4x/wDfNAGV/wAJjpP9+X/v0aP+Ex0n+/L/AN+jWr9ng/54x/8AfNH2eD/njH/3zQBlf8JjpP8Afl/79Gj/AITHSf78v/fo1q/ZoP8AnjH/AN80fZ4P+eMf/fNAGV/wmOk/35f+/Ro/4THSf78v/fo1q/Z4P+eMf/fNH2aD/njH/wB80AZX/CY6T/fl/wC/Ro/4THSf78v/AH6Nav2eD/njH/3zR9mg/wCeMf8A3zQBlf8ACY6T/fl/79Gj/hMdI/56S/8Afo1q/ZoP+eMf/fNKLeEdIk/75oAyl8YaSzBVeUk9P3RrCsvEen2/izUruYyJHLGqr8hJOO+K7L7PCf8Alkn/AHzXO6VDCPG+qp5SbViQgbelAFk+NtFHHmy/9+mpf+E10btJN/35NbHlRf8APJP++RR5UX/PNP8AvkUAY/8Awmuj/wDPSb/v0aP+Ez0f/npL/wB+jWx5UX/PJP8AvkUeTF/zyT/vkUAZH/CZ6P8A89Zf+/Ro/wCEz0f/AJ6Tf9+jWv5UX/PJP++RS+XF/wA80/75FAGN/wAJpo//AD0m/wC/Ro/4TPR/+ek3/fo1s+VF/wA8k/75FHlRf880/wC+RQBjf8JnpH/PSb/v0aX/AITPSP8AnpN/36Na/lRf88k/75FHkxf88k/75FAGP/wmej/89Jv+/Ro/4TPR/wDnpN/36NbHkxf88k/75FHkxf8APNP++RQBj/8ACZ6R/wA9Jv8Av0aP+Ez0j/npN/36NbHlRf8APJP++RR5UX/PJP8AvkUAY/8Awmej/wDPSb/v0aP+Ez0j/npN/wB+jWx5MX/PJP8AvkUeVF/zyT/vkUAY/wDwmekf89Jv+/Ro/wCEz0f/AJ6Tf9+jWx5MX/PJP++RR5MX/PJP++RQBj/8JnpH/PSb/v0aP+Ez0j/npN/36NbHkxf88k/75FHlRf8APJP++RQBj/8ACZ6P/wA9Jv8Av0aP+Ez0j/npN/36NbHlRf8APNP++RS+VF/zyT/vkUAY3/CZ6R/z0m/79Gj/AITPR/8AnpN/36NbHlRf88k/75FHkxf88k/75FAGOfGmjgZ3zH6QmsjVdfs7vWtNuIvMEcLbmJXB/Kuw8qL/AJ5p/wB8iud123iHiHR8RoFaUhhjrQBaPjHSU+88w/7ZGj/hMtI/56S/9+jWv5MXTyk/75o8qL/nkn/fIoAyP+Ez0f8A56S/9+jR/wAJlo//AD0l/wC/RrY8mL/nkn/fIo8mH/nkn/fIoAx/+Ey0f/npL/36NJ/wmWj/APPSX/v0a2fIh/55J/3yKTyIf+eUf/fIoAyP+Ey0f/npL/36NH/CZaR/z0l/79GtfyIf+eSf98ijyIf+eKf98igDI/4TLR/+ekv/AH6NH/CZaP8A89Jf+/RrX8iH/nkn/fIo8iH/AJ5R/wDfIoAyP+Ey0cf8tJf+/Ro/4TPR/wDnpL/36Na/kQ/88U/75FL5EP8AzyT/AL5FAGP/AMJno/8Az0l/79Gj/hMtH/56S/8Afo1seTD/AM8k/wC+RR5MP/PJP++RQBj/APCZ6P8A89Jf+/Ro/wCEy0f/AJ6S/wDfo1r+RD/zyT/vkUeRD/zyT/vkUAZH/CZaP/z0l/79Gj/hMtH/AOekv/fo1r+RD/zxT/vkUeRD/wA8U/75FAGR/wAJlo//AD0l/wC/Ro/4TLR/+ekv/fo1r+RD/wA8U/75FHkQ/wDPFP8AvkUAZH/CZaR/z0l/79Gj/hMtH/56S/8Afo1r+RD/AM8k/wC+RR5EP/PJP++RQBj/APCZaP8A89Jf+/Rpf+Ey0f8A56S/9+jWv5EP/PJP++RS+RD/AM8k/wC+RQBjjxlo56SS/wDfo1l+JfEdhf6BLFCJWDsBkoR3rrPJh/55J/3yKwvF0ESeH5HWNQQ68gdOaAC38ZaMlrGplkGxAD+6PpTv+E40X/nrN/35ata3gh+yxbYo8bBj5R6VIIov+eSf98igDG/4TbRv+ek3/flqP+E20X/nrN/35atryov+eSf98ijyov8Ankn/AHyKAMX/AITfRf8AnrN/35NH/Ca6Mekk3/fo1teVF/zyX/vkUeVD/wA8k/75FAGMPGWkHo83/fo0v/CYaUejTH/tka1zBD/zyT/vkUn2eH/nkn/fNAGT/wAJfpfrN/36NL/wl+lf3pv+/RrV8iH/AJ5J/wB80vkw/wDPJP8AvmgDJ/4S/Sv703/fo0f8JfpX96b/AL9GtbyYv+eSf980eTF/zyT/AL5oAyf+Ev0r+9N/36NH/CX6V/em/wC/RrW8mL/nmn/fNHkxf880/wC+aAMn/hL9K/vTf9+jR/wl+lf3pv8Av0a1vJi/55p/3zR5MX/PNP8AvmgDJ/4S/Sv703/fo0f8JfpX96b/AL9GtbyYv+eaf980eTF/zzT/AL5oAyf+Ev0r+9N/36NH/CX6V/em/wC/RrW8mL/nmn/fNHkxf880/wC+aAMn/hL9K/vTf9+jR/wl+lf3pv8Av0a1vJi/55p/3zR5MX/PJP8AvmgDJ/4S/Sv703/fo0DxfpR/jm/79GtbyYf+eSf980CCH/nkn/fNAGS3jDSVPLzf9+jUUnjLTGhkEXns208GIitvyIf+eSf981HPbW7wOHiTG0/w0AZPgo58O7v787t9MmugzXPeDP8AkAMOwuJAPpmt/NADs0UmaKAGZozTc0ZoAdmqGtf8gK8/65N/KrpNUdZ/5At3/wBcm/lQBH4X/wCRWsB/0yH861c1keGD/wAUvYf9cv61q0ALmlpuaMigB1GabmjNADqM03NGaAHZopuaM0gHZozTM0uaOgDs0UylzQA6kzSZozTAdmkzTc0ZpXAdmjNNopXYh+aM03NGaoB2aM03NJmkMfmjNMzRmmA/NGabmjNADs0ZpuaM0AOzRmm5ooAdmjNJmkzQA7NGaTNGaAFzRTc0UAOzRmm5ozQA7NGabmjNADs0ZpuaM0AOozTc0ZoAdmjNMzRmgDntIDDxvrBPQxpiukrnNMP/ABWmqf8AXJf510GaAHZozTc0ZoAfRTc0maAH5ozTc0ZoAdmjNNooAdmjNNzRmgB2aM03NGaAHZozTc0ZoAdmjNNooAdmjNNzRmgB2aM03NGaAHZozTc0UAOzSZpM000AYOuD/io9FP8A01NdDmud1s/8VDo//XU1v7qAHg0GmUuaTdhDqKbmjNC1GOzS5puaM0wFzS5puaM0ALmlptFADqM03NGaAHUZpuaM0ALmlzTc0UAOzRmm5ozQA7NGabRmgB2aM02igBc0ZptIaAMXxiT/AMIvc49v51rWX/IOtv8Arkv8hWT4u/5Fq5/D+datkf8AiXW3/XJf5CgCxmjNJmkzQA7NLmmUZoAdmjNJmjNAC0UmaM0ALS03NGaAHUU2jNADs0ZpuaKAHZozTaKAHZozTM0uaAHZozTaSgB2aXNMzRQA/NGabmkzQAlwf9Gk/wB01j+ET/xIz7TP/OtW4P8Ao0n+6ax/CJ/4kh/67P8AzoA3s0tMzSk0AOzRTc0maAH0c0zNLmgB1FNzRmgB1FNooAdRTc0UAOopuaM0AOoptFADqKbmigB1FNozQA6im5ozQA7mjJpuaM0AOzXO6UP+K21dv+maCugz0rntKP8AxWer/wC4lAHRZpc0zPNLmgB1FNzS0ALSZpM0ZoAdmjNNzRmgBc0uabmjNADs0ZpuaM0AOzRmm5ozQA7NGabmjNADs0ZpuaM0AOzRmm5ozQAuaXNNzRmgB2aKbmjNADq5/XD/AMVBpGe0pNb2a57XT/xUGlf75oA6LNLmmA8ClzQA7NGabmjNADqM03PNJnNAD80ZplGaAH5ozTaSgB2aXNNozQA7NGabmigB2aM0zNGaAH0ZptFADs0ZptFADs0ZptJQA/NANNzRmgBxNYXjDnwzcfVf51tZrD8Yf8i3P+H86ANm0bNjAfWNf5VLVezP/Evt/wDrkv8AKps0APopuaWgBaM03NGaAHZopuaM0AOozTc0ZoAXNLTc0ZoAdRTc0UAOopuaM0AOoptGaAHUlJmigB1GabmjNADs0lNzRmgB2aZMf9Hk/wB00pNMlP8Ao8n+6aAMXwWf+KeP/XeT+db+a57wWf8Ainz/ANd5P51v5oAfmim5ooAbmjNNzRmgBSapayf+JLd/9cm/lVwmqGsn/iS3f/XNv5UAM8MH/imLH/rl/WtXNZHhk/8AFMWP/XL+tamaAKGu69p3hzSZdS1m4W2tIeXkIJx+VcaPjr8PP+hjj/78Sf8AxNdnrWjWXiDR59M1SETWtwu10PcVwGpfBPwLb6JeCLRYw4hdlkyNykA9DigC7/wvX4dn/mZI/wDvxJ/8TVzR/i74J1/VodO0vXY5bqY4jQxsu4+mSK8A+APgvQ/Fuva7Dr9kt3FaxJ5SvjglmBP5CvoPQPhb4R8M6supaRpEUV0qlVYgHbn04oAv6d470LVPF154asrsyalZrumj2EAfj3ro6+Y/BOr2Oj/tGeJdR12+isoIlk3STNgZ4wK9Pt/2gPh9NqC2v9rSIWOBK9uwjH1agD03NGagtbqC7t0uLWVZYZFDJIjZVh6g1z3i74ieGfBSoPEGqR28rjKwL88hHrtHOKAOopM15/4f+NngbxHqSWFjq3lzyHaguYzEGPYAt3rv8etIA3cZrAuvG+iWXii38P3F4E1K4TfHEV6jtzW6x+U18/8AjeeC1/aO0y7vZlgt4LVJHkc4AAJr0cDhViZSj2VzKc+RXPoPdjrQWwOtedy/G/wNb3wtZNZVmZtu5ELKPqRxXc219bahaR3NjPHcQSrujkjbcrD1Brklh6lN++rFKomZUPjrw/N4tPhmO/U6sAT5G09hk89K6DOK8303SvBsfxfur+1u3l8SmJmeFm+VARgkD1rp77xnoGnaq2n6hq1ta3Sp5hilkwcetXUw7bSpp7Bzo6LNIWriNH+LPhHXPEi6Hp2p+bevnYBGdrY64PSr3inx94d8IJF/bupR28koykY+ZyPXA5qfq9XmUbag5Kxs61rll4f0qbUdVm8q2hGWbGaXQ9bsfEWjW2qaVL5trcrujfGMivKvH3jzwx4v+GepwaVrMDyGPckZO1mIB4wea6T4KDy/hFoY6/umP/jxrpq4V0qHtJqzvYiM7ux6Dmua1T4geHNF8SWmhalqIh1C7cJFF5ZIJPQZ6DNdDnPSvMfE2leBrj4qaRc69ezDX1dfslurfIzD7uRivPNj1LNJWXr3iTSfDWkPqWuXsVpapgF3PU9gB3NcHH+0N8PpLlYRqk4LNgO1q4QfUkUwPUM0uaqafqVnqtjHe6bcxXVtKNyTRMGVh9RVnNAEd3e29jbvcXs8cEKDLSSMFUfiabJewRWBvXlX7MI/M8wHI24zn8q8B/aa8XWTafZ+GrW5Zrzd508aHhU4xn646V1/hDxjpHin4LvZabdBrqx0pYLqI/K0bBMf060Adv4U8caF40t7ibw/efaUt5PLkyhUhvxroc180/ADxZ4d8I+GfEEviDU4bOQXgKpI3zMoXHA7816noHxu8C+IdRSwstX8qeQ7UFzE0Qc+gJoA9CzQDUe76fXNcP4n+MXgvwnqP2HVdV3XKj547eMylPY46GgDvM4ozXI+Evif4U8bSvDoOpK9woyYJVMchHqFPWusz6UAOzRmm5ozQA7NGabmjNADs0ZpuaM0AOzRmm5ozQA7NGabmjNADs0mc0maM0AYGmH/AIrbU/TyV/nXQVzumn/ittT/AOuK/wA66EmgB2aZNPFbwtLM6xooyWY8ClzXn/jK6n1XxLZ6JbuVjP3gD1b3/CgDoz420ETeWb5c5xnacVtxTJPCssLh0cZVh3Fc3J4I006cYEVvMCnEhPOcVm+BNRmgurnRrtmYxMTHk9MdaAO5zS5puaM0AOzRmm5ozQA7NGabmjNADs0ZpuaM0AOzRmm5ozQA7NGabmjNADs0ZpuaM0AOzRmm5ozQA7NGabmjNADs0lJmjNAGBrR/4qPSB/00NdBmud1n/kZNJ/66Gt/PNAD80mcUm6s3xBrdv4d0G71a9BMFrGXYL1PsKcY88kkTJ2RNq+tWWhaXPqOqXCW9pAu6SRuwpuia3ZeINJh1HTJfNt5hlGxjNfMPjbxZ4v8AiJotzqktjJYeHLX5hGvR/Qsf4v5V7n8Hdo+Fej7Dn91z9a9TFYD6tQjOTu3+BnGd2d3mlzTAaXNeUbDs0ZpuaM0AOzRmm5ozQA7NGabmjNADs0ZpuaM0AOzRmm5ozQA7NGabRmgB2aM03NGaAHZozTc0uaAFzRTc0ZoAxvFvPhu4/D+dalkf+Jfbf9cl/kKyvFp/4pu4/D+dadmf9At/+uS/yoAs5ozTAaq6pejT9MnuT1jQlc+uOKAIdS8R6XpL7L68SJ/7vJI/Kl0zX9N1fI0+7jmb0HWuM8I6LH4gWbVNV3Sh3+UE9T3pnivR18N3VtqWk5hTdhgG6GgD0jNGap6bejUNNgugMeagbFWs0AOzRmm5ozQA7NGabmjNADs0ZpuaM0AOzRmm5ozQA7NGabmjNADs0ZpuaM0AOzRmm5ozQA7NGabmjNADs0ZpuaM0AMuD/o8n+6ayPCR/4krf9dn/AJ1rXB/0eT/dNY/hI/8AElb/AK7P/OgDdBpc0wGlzQAuawJfHGgReL4/DDagn9rOu77Oqk7R7noK8/8Ai58XNR8MasvhfwlprXmtTQiQy4LCEHphR1P14ryD4Ww6xZftAWX/AAlcdxHqUrM8ouPvksODQB9fZpc0wnmlzQA7NGabmjNADs0ZpuaM0AOzRmm5ozQA7NGabmjNADs0ZpuaM0AOzRmm5ozQA7NGabmjNADs0ZpuaM0AOzRmm5pc0ALmue0s/wDFZ6v/ALiVv56Vz+l/8jlq/wDuJQB0INLmmUooAr6lqtlo2nyX2qXUVrbRDLyytgCuJHxz+Hnn+X/wkkPX73lPt/PFeZfGPTPFPxB+LFl4XsLe7j0iFEJkKkQ5JJaQnpnHAr0W4+BfgKbw8umLpCRMse0Xif68n+8W7mgD0Cy1C01OzjurC4juIJVDJJG2Qw+tWK+Zv2f9X1DQvidq/g0XDXGnKJiodvutG2Nw9MjrX0vmgB2aM03NGaAHZozTc0ZoAdmjNNzRmgB2aM03NGaAHZozTc0ZoAdmjNNzRmgB2aM03NGaAHZozTc0ZoAdmjNNzRmgB2a5/XP+Rg0r/roa3s1ga2f+J/pX/XQ0AdCDxRmm54ozQAuap6trFhoWlz6lq1yltaQLuklfooqDxBrcHhzw7fazeqWgsoWlcKeSB2r5P+Injrxp8TNLlvU0i4svDdoRIUiUlPZnbjd/IUAfWHh/xFpvijR49U0W4+0WkhIV9pXJHsa1M15f+z2yn4P2IH8M0gP5ivTs0AOozTc0ZoAdmjNNzRmgB2aKbmjNADs0ZpuaM0AOzRmm5ozQA7NGabmjNADs0ZpuaM0AOzRmm5ozQA7NGabmjNAC5rD8Xn/im5/qP51t5rD8Xn/im5/qP50Aa9mf+Jfb/wDXJf5VPmq1mf8AiX2//XJf5VPmgBwNZupeI9L0k7b67SJv7vU0/Vr8abpVxdd40JUe/auI8H6GniATavrO6UyOdik8e9AHZ6Z4i0zWWK6fdpKw6r0Naea838YaMPDUttrejloRG4EiA8Y9a72xvFvtPguY/uzIHH40AW80ZpuaM0AOzRmm5ozQA7NGabmjNADs0ZpuaM0AOzRmm5ozQA7NGabmjNADs0ZpuaM0AOzRmm5ozQA7NGabmjNADs0yX/UP/umlzTJT+4f/AHTQBi+Cz/xT7f8AXxJ/Ot7Nc/4MP/Egb/r4k/nW/mgB2aKbmigBuaM03NGaAHE1R1g/8SW7/wCubfyq4TVHWD/xJbv/AK5t/KgCPwyf+KYsf+uX9a1M1leGT/xTNj/1y/rWpQAufeqOsnGi3v8A17yf+gmrmeao622NDvSf+feT/wBBNAHzz+y1/wAjJ4j/AOveI/8Aj7V9LE/LxXzP+y0f+Kl8Q/8AXrF/6Ga+l+1AHyPF4OTx5+0Xqul3Tslp9qea429WRccfjXq/xH+C3hQ/D2+n0jT0sLzTrdp4ZIj12jJDeuQK5L4ZOG/aa8QNwcpLj/x2vcPHJx8P9f8AT+zp/wD0WaAPM/gV4ifT/gld3d2zSppZmkUMc4Xk7fpwa82+Gtr4a8ceKdU8SfEzXbdpElzFbXk+zzc8gnn7g6Yrs/gvp8mq/AnXrG2G6W5jljC+p+bArj/gd4T8HeKZNU0vxVbCbUoZA0KtMY8p0IHqc9qAOl+Lmh/De+8Iy6j4Z1LTLbV7PBiSynB84Z5G0Hr716B8BfFdz4n+GcA1Gdp7uxkNu8j8llH3cnucVgeLvhT8KvB2hz6rrNnNHHGuViS6O+Q9goJ5rp/gv/wjkvgJb3wnpU2mW1zO+9J33uzKcZJ70AehH7pr5v8Aivo7+IPjnp2k5O26t4lfHUKCc/pX0e3Cmvn7xzqcelftIaNdXDBUWGJGY9BuJGa9rKHJVZuG/K/0Oeuk0rnoh+DngxdHaxGkxqjLguD8+fXPrXC/BHUL3QPGms+Cru4Z7OHMluj/AMDbug9ARXttzdxR2jTvIqwgZMhOFx65rwj4Vyr4j+N+t65aA/ZEQkORweduP60YecqtCr7XX/Mm3vJIdoD4/at1Qjp5cyn8FFZXxV0qDW/jppGnSKNt35MUmBztOe9amhlf+GqtTUYztnJ/75o8Uuh/af0NH6L5JH1wa61P2c+aP8n6kdTvdN+GPhPwNHJrGk2O26tYndJ5nLkHB55rzb4T+FY/iTruo+KfF7NftHMY445Pug59PQele7+ILQ3/AIevbZM5lgZRjucV47+znqsVtb61olwVhuorgyFHOCecEY9sVyUq1R0JzT979DVpXJfjF8MdHsPDza9oVpHZz27fv440wsiYPPsRXc/Bh/M+E2jOeNyOcenzms343azBYfDq5t5GXzbthDGmeTkHJq/8Fsr8JdEUjkRvn/vs0q9SpPAxc9dQilz6Heqea+cviMd37Unh5T0E1vj9K+jB1r5x+ImH/ak8PgdRNbE/pXio6CP9qF9QXxJoX2hZjo3kkgKDsMm75h6btuPwrpJtP+DnjnwvBplne6dp128S+S0TBJonx3HQ89a6X4i+N/CVrr1r4P8AG1gZbW/QTefLjyo+SAT3HOea5bxR+zr4au9Pnv8AQL19KeOIyRh33RHjIJYnge9MDtPhR4Dvvh/p95Yya2NV0+dxJahVwIvXuev9K9B6189fs5eLdauNQ1LwxqM5u7SzTdFIxLeWQcEBv7pr6CJNAHz1+1D4f023tdK1uCFY7+aRoZJF/wCWigAjP0ya9C8G+GdD8O/B6O40uwhilu9KE1xLjLSs0eSSe/Jri/2qAT4Z0JuwupP/AEEV6BoskF18EbNYZkkT+xo0Yo2QCIxkcUAeDfAv4a6X431PUdQ8QxtPaWb7FhDEBnPPOOox2rpv2gPhxoOgeG7XXtCgFjcwzLE6xcK4PQ+xHrWt+y+APD3iHB5/tBR/45Wt+0mwX4XkHq11Hj86AH6743utF/Z1tNaimb7dPaR2qSnrvZSN314NeffB/Q/h++kNrvjjW9PudUuZGxb3lwFMSg4yQTySea3vGelT3/7LGmG0XzFtvKuX2/3QCCf1qj8Gvh14F8a+BFnv7X7RqkUrR3I80hl5yuBnpigDnPitY+EvDmrad4k+GOt2qXqTkzQWdxu2MMYcc8Z5BHvX0v4N1tvEPgzS9UkIMtzbI8mBgb8fN+teJ+P/AAd8Ifh/bbNUtLq6vZVzHZ21wQ+PUn+EfWvbPB/2H/hC9JbSLRrOye1R4YG+8ikZAPvQBt0ZptLmgB2aM03NGaAHZpM0maM0ALmlzTc0ZoAdmkzSZozQAuaAabmgGgDA00/8VrqX/XFf510Oa53TT/xWmpf9cl/nXQk0ALmvPfvfFAFx91+D/wABr0DNed6+50b4g297OMQSANnse1AHowavPdG4+KFyE6bWNdy93AtkboyKIQm7fnjFcN4PVr7xdfago+RcgE9wTxQB6FmjNNzS5oAXNGaSjNADs0ZpuaM0AOzRmm5ozQA7NGabmjNADs0ZpuaM0AOzRmm5ozQA7NGabmjNADs0ZpuaM0ALmgmkzRmgDA1k/wDFSaT/ANdK381z2sn/AIqTSf8ArpW+TzQA/NQ3VrBe27QXUSTRN95HXIP4U/PNKDSjo9Aaujzr4zW8Fn8HdXitokhjVECoi4AG4dqt/BsFfhbpQP8Ac/oKr/HAr/wqPWd3omPruFWfhAVPww0nYePKGfrgV6Mm3hFfuZWtI7oGlzTQTS5rzzUdmjNNzRmgB2aM03NGaAHZozTc0ZoAdmjNNzRmgB2aM03NGaAHZozTc0ZoAXNGaQmjNAC5pc03NGaAHZozTc0ZoAxvFh/4pu4/D+dadmf9At/+uS/yrL8WH/inLj8P51pWZ/0C3/65L/KgCxmsDxsSPC9xtzk4H61u5rL8TWhvvDt3EnLBCwH05oAo+AwE8J26qMfM2cfWo/iCqv4Umz1U5FVvh5fK+jG0dgJI2zgnnmofiJfL9hhsYmDSSNlkXsKANzwe5bwtZ57JitzNZmgWzWWh2sDjDJGMitHNADs0uaZmlzQA7NGabmjNADs0ZpuaM0AOzRmm5ozQA7NGabmjNADs0ZpuaM0ALmjNNzS5oAXNGaTNJmgB2aM0maTNADbg/wCjyf7prH8JH/iTN/12f+da1wf9Hk/3TWP4TP8AxJm/67P/ADoA3c0ucUwGlzQBVGk6eNUbUfscBvWXYbjyxv2+m7rivn27kkk/bA/eMzbHjUZ7DYuBX0YG5r5vuWx+182SP9ZGP/HFoA+kqM0lBPNAC5ozTc0uaAHZozTc0ZoAdmjNNzRmgB2aM03NGaAHZozTc0ZoAdmjNNzRmgB2aM03NGaAFJpc00mjNADs0ZpuaM0ALnpXP6Wf+Kx1b/cSt/PSuf0s/wDFZat/uJQB0GaXNNzQTQAoJJPpXl3xf+Ltn4J0mXTNKlE+vXUbJEsZz9myMb29/QVT+NHxgHga2/sbQmSTXLhNzORkWyHv/vHsPxrnfhT8IrHzIfF3ji+gv9QuGFzDbvMGVCeQ7+rd8dBQBofs/wDw3v8ARRceLvEiOl9qCYt4pR86oxyzt6FuOK9xzVeK6guCRbzxSkddjg/yqagBaXNNzRmgB2aM03NGaAHZozTc0ZoAdmjNNzRmgB2aM03NGaAHZozTc0ZoAdmkzSZozQA7NGabmjNADs0maTNJmgB2awNb/wCQ/pX/AF0NbuawdbP/ABPtK/66GgDoM0ZpoPFGaAIb20g1C0ktbyJZoJBh43GVYehFeffGq3i034JaxBp0SWsKxxoI4VCrt3gYwO1ej5rz347MB8Gdbz3EY/8AIi0AVP2ext+EdrnvPIen0r0/NeY/s/H/AItLZ4/56v8AyFemk0AOzRmm5ozQA7NGabmjNADs0ZpuaM0AOzRmm5ozQA7NGabmjNADs0ZpuaM0AOzRmm5ozQA7NGabmjNADs0maTNJmgB2aw/F5/4pyf8AD+dbWaw/F3/IuT/UfzoA2LM/8S+3/wCuS/yqbNV7M/8AEvt/+uS/yqbNAGH4z/5Fe5x6D+dVvABH/CIwY7sx4+taHiW3a68OXkaDc3lkgfSsL4cXsb+HRaFh50LHcO/NAFn4jkHwTejvjitPwqc+FNNz/wA+6/yrA+JF7H/Yw09GBmnYAqOoHrXS6FbvaaFZQSDDRwqCPwoA0s0ZpuaWgB2aM02jNAC5ozSZpM0APzSZpM0ZoAXNLmm5ozQA7NGabmjNADs0ZpuaM0AOzRmm5ooAXNGaTNGaAFzTZT+5f/dNLmmSn9y/+6aAMTwYf+JC/wD18SfzrfzXP+DD/wASF/8Ar4k/nW9mgB2aKbmigBuaM0lFACk1R1g/8SW7/wCuZ/lVwmqWsH/iTXf/AFzP8qAI/DP/ACLNj/1y/rWpmsrwz/yLNj/1y/rWmaAHE1Be2/2ywnts7fNjZN3pkYzUtGaAPMfhP8JJfhveahd3OprfS3iCMCOPaFUHI69TXp4NIc0UAeaeFfhPN4d+KWqeKzqSSQXgYRW6oQy7sZyenau88QaX/bnhzUdL80wfbLZ4fMAzt3KRn9av5o7UAcR8Kvh9L8PPDUmnXF8t5LLJ5jPGhVR1xgH61ynjv4A23iDxEdd8L6l/Yt7I++VQp2F/7y4wVNexZNFAHgh/Z41zW9St5fGPjGTULePgoiNux6AscD8q9u0bR7Lw/otrpelQ+TaWsYjjQe3c+pq7migBScivMPHfwfh8beLBrE+oyWq/Z1h8uNRnIzzn8a9OzxQea2o150Jc0HZkyipKzPDrr4I+KZrf+z08e3Z0wnb5EqsxC+n3sV6d4L8EaV4H0NdN0lXYE7pZ3+/K3qf8K6LFL0q6uKqVFaTJjDlPPNO+GDad8XLzxmNRDx3SuPsxj5UsMHmk1j4XHU/ivY+Ml1Ly0tRHm2MedxXpz+NeiUVHt59+lh8iuIBxXlvjT4MR63rv9ueGdVbQ9Qc7pjGvyu397A716lRRSrzpS5oOwOKZ4lN8BdR1eIv4j8YXV9dIMQts+RPwJr1DwV4ebwn4SstFe4+0m2BBl27d2Tnp+NbtFVXxVSsrSYowSd0O+teZeJfhLJrvxW07xjDqywLaNGz27RZLbOmDnjNemUlcyNDiPiX8LNL+I+nwi5ma0v7UHyLpF3YB/hYdxXnzfArxs2kLpEnxDlOnqu37Nsk2bfT71e8UuaYHI/Dv4c6V8O9Ge104tPcz4NxcuPmkI/kPauvzzSZooA5H4l+AofiH4VbS3uPsk6OJIJyu4Iw9R6GuR8BfB7W/CWnalp134oM9pexGMQRRkIh/vYJ6/SvW6XOaAOA+Ffw1f4cWeowzakL5r2fzQyx7doAxg+9Xvih4Ff4g+EW0mC7S0mEqyRyyKWUYPIwK7GjNAGD4X8LxaD4Js/Dty63kUEHkyF1+WQHrx6V5Tqf7Pd/puvSah4B8TS6PHIc+Sd2U9gQRkfWvc80uaAPEPD37O+7Xhq/jrW5NZlVg/lKCBIR03EnJHsK9ujRIokjiUIiKFVVGAoHQUuaKAHUZpuaKAHZozTaKAHZozTaKAHZozTaKAHZozTaKAFzQDSUCgDA00/8AFaal/wBcl/nXQ5rndN/5HPUv+uS/zroM0ALWVr2hW3iCx+z3OUZTlJF6qa1M0UAcEfAesyBbabX3+wg/6lV7V12j6RbaLZC3tQT3Z26sav0UALmlzTc0UAOzRmm0UAOzRmm0UAOzRmm0UAOzRmm0UAOzRmm0UAOzRmm0UAOzRmm0UAOzRmm5ooAdmkzSZozQBgayf+Kj0r/rpW9msDWT/wAVFpP/AF0Nb9AC0uabSUrAc54+8Kt4z8HXujR3P2V7gDbIy7gCDnkVP4K8ON4S8J2mjvcfaXgXDSYxuNb1FaOpJw5OhNhc0uabRUFDs0ZptFADs0ZptFADs0ZptFADs0ZptFADs0ZptFADs0ZptFADiaM000UAOzRmm0UAOzRmkpKAMfxYf+KcuPw/nWlZn/QLf/rkv8qy/Fh/4py4/D+dadmf9At/+uS/yoAsCjqMdj1poNLmgDjNR8CSG/ku9Dv2smkO4r2B9qk0bwOba8W81m9e9nU5UEcZ966/NFACg0A0maKAHZozTaKAHZozTaKAHZozTaKAHZozTaKAHZozTaKAHZozTaKAFzS5ptFADs0maSigB2aKbRQAy4P+jyf7prI8Jn/iTN/11f8AnWtcH/R5P901j+Ez/wASZv8Arq/86AN0Gg00UtAB2rzVvhTJJ8aZPGsmor5BCstuE+YOAB16Y4r0ml70AYGu+NNI8N6zYadrVx9lbUG2QTOfk3ehPbNbw46nOe9eLftEeFdU8R6JY3OjWr3T2cpaZE+8FI610vwNk1CT4XWv9q3r3k6TyIGdtxRRjCZ74oA9GzRmkzRmgB2aM02igB2aM02igB2aM02igB2aM02igB2aM02igB2aM02igBxNGaaaKAHZozTaKAHZ6Vz+ln/isdW/3Ere9K5/S/8AkcNW/wBxKAOhoHTFNpc4oA8L8b/s+X/i3xnfa5/wkUcAvJN3ltbl9gAAAB3Djisn/hmXWTHs/wCEwG3sPJfH5bq+iutAoA8g+GvwU1LwH4oGqz+IzdRCIoYI0Kh8+uTXsOaaSaM0AOzRmm0UAOzRmm0UAOzRmm0UAOzRmm0UAOzRmm0UAOzRmm0UAOzRmm0UAOzRmm0ZoAdmkzSZooAUmsLWj/xPtL/66GtusLWv+Q9pf++aAN/PFLmm54ozQA6ua+IHhVvGvgi/0KK6Fo90F2ysu4KQwPI9OK6OigDmfh74SPgfwfb6K90Lp42LNIq7QScdB6cV1GabRQA7NGabRQA7NGabRQA7NGabRQA7NGabRQA7NGabRQA7NGabRQA7NGabRQA7NGabRQA7NJmkooAXNYfi4/8AFOT/AIfzrbrD8Xf8i5P+H86ANezP/Evt/wDrkv8AKpqgs/8Ajwt/+ua/yqbNAC8FSCOD1rjNS8BzNqT3ug6k+nPIcsoGQD7V2WaM0AcfovgaS31AXuuag+oTKcruXjPvXY0lFADqM03NFADs0ZpuaM0AOzRTaOaAHZpM0maWgBc0ZptGaAHZozTaKAHZozTaKAHZozTaKAHZozTaKAHZpsp/cv8A7popsp/cv/umgDE8GH/iQv8A9fEn863s1z/g3/kBP/18SfzreoAdmikzRQA3NGabmjNACk1S1g/8Sa6/65t/KrhNUtXP/Emuv+ubfyoAj8NH/imbH/rl/WtPNZXhr/kWbH/rl/WtTNAC5orO1rXdP8Paa1/q9yttbKwBkc8AmptP1K01WyivdNuI7q1mXdHLE2VcexoAt5ozWFceMtAtvEkegT6nAmqSLlLcnk+319q1bm8gsbSS5vJVhhjUu7ucBQO5oAsZoNZeh6/pfiSxN9ol7FeWwcp5kTZGRWJrvxT8HeHLgwanrluJlJDRxHzGU+hC9KAOvzRmsPw94w0LxVa+foOpQXYAyyI3zp9V6ireqa5peiQxy6xf29lHI/lo08gQM3pzQBo5ozmuPvvil4MsL6O0l8QWbyyEAeVIHAz6kcCug1HW9M0fTf7Q1O/t7W0wD50sgVSD0x60AX3dUQs5woGSfSsXQvGWgeJby7ttD1KK8lsztnVAfl/OsC1+Kvg3XVuLLT9dtzK0LkeYdmeD0z1ry79myIR+MPFYR96rHHhvUF2OaAPovNGabnmjNADs0tNzxRmgB2aTNJmkzQA4GjNNBpc0ALRSZozQAuaKTNGaAFozSZozQAuaKTNGaAFzRmkzRmgBc0ZpM0ZoAWjNJmjNAC5ozSZozQAuaM0maM0ALmjNJmjNAC5ozSZozQAuaM0maM0ALmgGm5oBoAwdN/5HPUv+uS/zroK57Tj/AMVnqX/XJf51v5oAdmim5pc0ALRmkzRmgBc0ZpM0maAHZozSZozQAuaM0maM0ALmjNJmjNAC5ozSZozQAuaM0maM0ALmjNJmjNAC5ozSZozQAuaM0maM0ALmjNNzRmgDB1n/AJGLSv8Aroa6Cue1k/8AFRaV/wBdK380AOzRSZozQAtISf4eKTNJkhvagB+aM03NLmgBc0ZpM0ZoAXNGaTNGaAFzRmkzSZoAdmjNJmjNAC5ozSZozQAuaM0maM0AKTRmmk0uaAFzRmkzRmgB2aTNJmjNAGP4rP8AxTtx+H860rM/6Bb/APXJf5Vl+Kz/AMU7cfh/OtKzP+gW/wD1yX+VAFkGjNMzTs0ALmjNNzRmgB1GaTNGaAFzRmkzRmgBc0ZpM0ZoAXNGaTNGaAFzRmkzRmgBc0ZpM0ZoAXNGaTNGaAFzRmm5pc0ALmjNJmkzQA7NGabmjNADZz/o8n+7WR4T/wCQKf8Ars/861bg/wCjyf7prI8Jn/iSn/rs/wDOgDdzRmm5ozQA6im5pc0ARyQpIrK67lYYYetZvh7QbPw3YyWGmp5du0zSqn90tya1aM0AOBozTQaXNAC5ozSZozQAuaM0maM0ALmjNJmjNAC5ozSZozQAuaM0maM0ALmjNJmjNACk0ZppNLmgBc0uabmjNAC5rA0s/wDFYat/uJW7msDSz/xWGrf7iUAdBmlpuaM0AOzS5pmaAaAH5pKTNGaAFzRmkzRmgBc0ZpM0ZoAXNGaTNGaAFzRmkzRmgBc0ZpM0ZoAXNGaTNGaAFzRmkzRmgBc0ZpM0ZoAXNGaTNJmgB2awtaP/ABPtL/66GtsmsLWj/wAT3S/+uhoA3+1FNzxS5oAXNGaTNGaAFzQDTc0uaAFzRmkzRmgBc0ZpM0ZoAXNGaTNGaAFzRmkzRmgBc0ZpM0ZoAXNGaTNGaAFzRmkzRmgBc0ZpM0ZoAXNGaTNJmgBxNYfi0/8AFOz/AIfzrazWJ4tP/FOz/h/OgDXsz/oFv/1zX+VTZqvZn/QLf/rmv8qmzQA7NGaTNGaADNLTaM0APpM0lJmgB2aKbn3pc0ALmlzTc0ZoAXNGaTNGaAFzRmkzRmgBc0ZpM0ZoAXNGaTNGaAFzRmkz70ZoAXNGabmlzQA7NMlP7l/900uaZKf3L/7poAxfBv8AyAn/AOviT+db2a5/waf+JE//AF8SfzrezQA7NFNzRQA3NGabmjNADiapauf+JPdf9cz/ACq2TVLWD/xJ7r/rmf5UAM8NH/imrH/rl/WtPNZXho/8U1Zf9c/61p5oA5X4naC/iX4d6rYQJun8kyQjGcsBxXB/s4695ngO+027fB0y4YgE9EI3H9Sa9lz1Hb0r5Qvddm+E3xB8X6VbRGSC9haOJG6YcA7v1NAHK6/4hluviZP4rXzBE2qGaJwDjCODgH6V9BfHLxUkXwdje0kXdrPlKqg9Y2Xcf6VwsXg1p/2VfP8As6tdLMb6N9vzeWWGefp/KuOj8Q33xM1fwj4Zu4UjhsilqpjzmReBub6AUAd9qGo3/wAK/wBnfTYLAG31PWZSHmU4MWQSSPfaBz71qfC74JaFc+FbfXPE8bahe6jGJgkh+WIN/M+9O/aVsHXwHpDQRsYbS7CsQOFXYQM16D8L9Ytdb+G+jz2cquUt1ilUHJjcDBU+9AHhfxF8KS/BnxjpniHwfczJZzyE+Sx4Qg8xk/xKRnr0rq/2k7qO/wDAHhy9QY8653gegMecVU/aY1uCS30nQbd0muTIZnRDlk7AEdic0fHyF7X4VeFbe4yJVmG4HqP3ZoAm+HfwE8Pat4M07V/EL3E11eIJ9kblFRTyFI78VheM7eb4jfGS18E6dO1po2lIsKKvzBEUDe2CeT2Ga968EsreA9FKfdNnHj8q8K0a4i8GftS3cerFY0vXaJHJwv70AqcntQB3Pib4CeFrnwvJFokRsL+3i3Q3K5YuQP4h3zXHfsvxvFr/AIljkBDJDCrD3DPXvms39rpOiXV9fTpDbwwszSO2AOK8J/ZtvBe+LvFdwqlROkcgHpl3/wAaAPojNGab0ozQA7NGabmjNADs8UmaTNGaAFBpc03NGaAHUZpuaM0AOzRmm5ozQA6jNNzRmgB1FNzRmgB2aM03NGaAHZozTc0ZoAdmjNNzRmgB2aM03NFADs0ZpuaM0AOzRmm5ozQA7NGabmjNADs0ZpuaM0ALmgGm5oBoAwtOP/FZ6l/1yX+db5Nc9px/4rLUv+uS/wA6380APzRmm5ozQA7NFNzRmgB2aM03NGaAHZozTc0ZoAdmjNNzRmgB2aM03NGaAHZozTc0ZoAdmjNNzRmgB2aM03NGaAHZozTc0ZoAdmjNNzRmgBc0ZpM0maAMLWT/AMVFpX/XSt/Nc/rJ/wCKg0r/AK6VvZoAfmim5ozQA7NFNzRmgB2aM03NGfegB2aM03PvRmgB2aM03NGaAHZozTc0ZoAdmjNNzRmgB2aM03NGaAHZopuaM0AOozTc0ZoAdmjNNzRmgB2aM03NGaAMfxWf+KcuPw/nWnaH/QLf/rkv8qy/FR/4p24/D+daVmf9Bt/+uS/yoAsA0uaYDS5oAdmjNNzRmgB2aM03PvRmgB2aKbmjNADqKbmjNAC0uabmjNADs0ZpuaM0AOzRmm5ozQA7NGabmjNADs0ZpuaM0ALmjNJmjNAC5ozSZozQAy4P+jyf7prJ8Jn/AIkp/wCuz/zrVnP+jyf7prI8KH/iSn/rs/8AOgDczRmm5pc0ALmlzTM0uaAHZopuaM0AOzRmm5ozQA7NGabmjNADs0ZpuaM0AOzRmm5ozQA7NGabmjNADs0ZpuaM0AOzRmm5ozQA4mjNNzRmgB2aM03NGaAFzWBph/4rDVf9xK3c1g6Yf+Kx1X/rmlAHQZpc0zNLmgBc0A03NANAD80ZpuaM0AOzRmm5ozQA7NGabmjNADs0ZpuaM0AOzRmm5ozQA7NGabmjNADs0ZpuaM0AOzRmm5ozQA7NGabmjNADqTNJmjNAC1hayf8Aie6X/wBdDW2TWHrP/Id0r/roaAN7PFLmm54oBoAdmjNNzRmgB2aM03NGaAHZozTc0ZoAdmjNNzRmgB2aM03NGaAHZozTc0ZoAdmjNNzRmgB2aM03NGaAHZozTc0ZoAdmim5ozQA7NGabmjNAC5rE8Wn/AIpyf8P51sk1jeKVZ/D04QFjxwPrQBq2h/0C3/65r/Kps1XsyfsEAPH7tf5VLuoAeWx1o3A1HuwOTTN4PTigCbJz7UFsVGG9TVDU9d0/SbZ5tQuo4UXqCefyoCxpiTPFBNebX3xn8PWhIRZ5iP7q1zd38e0EmLKyUr/00JzSA9tzRurxiw+PCSXKre6eFhzy0bHIruNN+JHhzUUGy/WNz/A/BpDsdgDmlzWZDrthKoMdyjD1Bq1HfW8v3JVJ+tFxWLINFMDg9DS5poB2aM03NGaYDs0ZptGfegB2aM03NGaAHZozTc0ZoAdmjNNzRmgB2abKf3L/AO6aM0yU/uX/AN00AYvg4/8AEif/AK+JP51vZrn/AAcf+JC3/XxJ/Ot3NAD80UzNFABmjNNzRmgBSapauf8AiT3X/XM/yq2TVLWP+QPdf9cz/KgBnhs/8U1Y/wDXP+tamayfDZ/4puy/65f1rTzQA/NeR/FX4NT+PfElpqum38Nm4hENx5iE7gDkMMd8HFesmjNAGPa+Gba18Ex+Gwxa3Sy+ybiOo27c/wBa83+GXwPl8E+LJdZ1LUI7vy1ZLWNEwQD/ABMT3x6V7BnmjNAFPW9GsfEOjXGl6rAs9rcJtdG/Qj3FeJR/A/xl4YvLk+CPF721rM2RHkoce/OCfevec0ZoA8b8H/Ah7XxEviDxtqzatfxyrKiDO0sOcuTnd9K6b4t/Dq6+I2k6faWd5DaPaXBkZpVJBBGCOK77NGcCgCh4e0v+w/D1jpnmGX7JCsW8/wAWB1rjvih8J7L4hRRXUM/2HVrddsVwFyHH91u/0PavQM0ZoA8CPwT8favp40vXPGZOnxcRxMWkB/DP867H4U/Ce5+G+o6lcTapFfJeRJGAkRQrtJOeSfWvTM0ZoAdmjNNzRQA7NGabmigB2aM03NFADs0ZpuaM0AOzRmm5ozQA7NGabmjNADs0ZpuaM0AOzRmm5ooAdmjNNooAdmjNNooAdmjNNozQA7NGabmjNADs0ZpuaM0AOzRmm5ozQA7NGabRQA7NGabmjNADs0maTNGaAMLTj/xWWo/9cl/nW/mue03/AJHLUT/0xX+db+aAHZozTc0ZoAdmjNNozQA7NGabmjNADs0ZpuaM0AOzRmm5ozQA7NGabmjNADs0ZpuaM0AOzRmm5ozQA7NGabmjNADs0ZpuaM0AOzRmm5ozQA7NGabmjNAGHrB/4qLSv+uhrdJ5rB1c/wDFQ6T/ANdDW6aAHCim5ozQA7NGabmkoAfmjNMpaAHZozTaKAHZozTaKAHZozTaKAHZozTaKAHZozTaKAHZozTc0ZoAdmjNNzRmgB2aM03NFADs0ZpKTNAGR4qP/FO3H4fzrStD/oFv/wBcl/lWX4r/AORduPw/nWnaf8eFv/1zX+VAE+aXNMpaAHZozTc0ZoAdmjNNzRmgB2aM03NGaAHZozTc0ZoAdmjNNzRmgB2aM03NFADs0ZpuaKAHZozTaKAHZozTc0ZoAdRmm5ooAdmjNNzRmgBs/wDx7Sf7prJ8KH/iSn/rs/8AOtSc/wCjSf7prJ8Kf8gY/wDXZ/50AbmaM03NGeKAHZozTc0ZoAdmjNNzRmgB2aKbmjNADs0ZptGaAHZozTc0ZoAdmjNNzRQA7NGabmjNADs0ZpuaM0AOzRmm5ozQA6jNNzRQA6jNNzRmgB2awNMP/FY6r/1zSt3NYGmH/istU/65pQB0NGabmigB2aAabmjNADs0ZpuaM0AOzRk02igB2TRk02igB2TRk02igB2TRk02igB2TRk02igB2aM02igB2aM03NGaAHZozTc0ZoAdmjNNzRmgBc1h6yf+J7pX/XQ1tZrD1k/8T7Sf+upoA380ZpuaM0AOzRTc0UAOoyabRQA7JoyabRQA7JoyabRQA7JoyabRQA7JoyabRQA7JoyabRmgB2aM02igB1FNzRmkA7NGabmmlsUXAkzSE1Huo3UXAfupkgDrtYAjOcGkzRmgB+abuyeDTdwPFOVAOgoAWqGravY6Pa+fqFxHAnbc2C30HeuS+IPxHt/CdmYbDy7nUnyqxZyI/dv8K8P1PxPqPiK7a61i7aV/4VJwq+wHakM9B8V/F25uHkttDX7PAOPOP3m9/avMNQ1q6vpGkubiSZz3ds1HPiRfkYVUSH5vnNAWKNxJczNhFY1Ellcsw3jb+NbLzwQJyyioUvLaZsLIoP1oGNt9Pk4w/NWR9otiP5g1IrhEJU/rTFvFkOx+v1pMDTsPE15Z4CzPj03V1ek+LZ7gBkmZXU9N1cBKqY4xTbe6e2k3RsR9KQz2+38dzuiRlyJFwM5611emeL1aKP7T1PBNfPMWvC3dZGJOOSBW3pXjdLqZ4trDA4p3Ez6WjmWWMOhBUjOadurzP4feILi6ikgmnMihvlz2Feiq/wAoNMksZozUYcGlzTAfmjNNzRmgB2aM03NGaYDs0U3NGaAHZpsp/cv/ALpozTZT+5f/AHTQBieDz/xIm/6+JP51vZrA8H/8gJ/+viT+dbtAC5optFABmjNNzRmgBxqlq5/4k11/1yb+VW81S1j/AJAt3x/yyb+VAEfhw/8AFN2X/XP+taeayvDxx4bsv+uQrS3UAPzRmm7qN1ADs0Zpu6jdQA7NGabuo3UAOzRmm7qN1ADs0Zpu6jdQA7NGabuo3UAOzRmm7qM0AOzRmm7qM0AOzRmm5ozQA7PvRmm5ozQA7PvRTcijcKAHZopu6jNADs0Zpu6jdQA7NH403cKN1ADvxoz70maTNADs+9Gfem5pd1AC596M03NG6gB1GabuozQA7NGabuFG6gB2aPxpu4UZoAd+NGfek3UmaAHZ96M+9NzRuFADs0ZpuaM0AYWmn/isdR/65L/Ougrn9OI/4S7UeP8AlkvNb2eaAF/GjPvSE0maAH5pM+9JmkzQA7NGabmjNADs0ZpuaM0AOzRmm5ozQA7NGabmjNADs0ZpuaM0AOzRmm5ozQA7NGabmjNADs0ZpuaM0AOzRmm5ozQAufelz703NANAGJqx/wCKi0r/AHzW6TzWBq//ACMmk+m81uZ5oAfmjNNzRmgB2aM03NGaAH596KZmjNAD6T8abmjNAD/xoz70zNGaAHfjR+NNzRmgB/40fjTM0ZoAf+NH40zNGaAH0fjTM0ZoAf8AjSZ96bmjNAD/AMaPxpmaM0APz70mabmjNAGR4rOPDdx+H8607M/6Bb/9cl/kKyvFp/4pu47nj+dadoR9ht/+ua/yoAsZpc0zNGaAH0fjTM0ZoAf+NH40zNGaAH/jSfjTc0ZoAfn3o/GmZozQA/PvSZ96bmjNADs+9GabmjIoAdn3pc0zcKM0APzRmmbhRuFADs0uaZmjIoAdmjNNzRkUAOJozTc0bhQA2f8A49pP901leFT/AMSY/wDXV/51qT827/7prJ8LcaLzx+9f+dAG3mjNN3UZoAdmjNNzRmgB2aM03NGaAHZozTc0ZoAdn3ozTc0ZoAdn3ozTc0ZoAdmjNNzRmgB2aM03NGaAHZoz703NGaAHZozTc0ZoAdn3ozTc0ZoAdmim5ozQA7NYGmH/AIrHVP8ArmlbuawdMP8AxWGqcceWnNAHQZozTc0ZoAdmjNNyKM0AOzRmm5ozQA7NGabmjNADs0ZpuaM0AOzRmm5ozQA7NGabmjNADs0ZpuaM0AOzRmm5ozQA7NGabmjNADs0ZpuaM0AOzR+NNzRmgBaw9aP/ABPtJ/661tZzWFrR/wCJ9pGP+e3P5UAdBmjNNyKM0AOzRn3puaM0AOz70U3NGaAHfjRTc0ZoAdR+NNzRmgB1FNzRmgB340U3NGaAHUZpuaM0AOzRn3puaM0AOzRmm5pN1JgPJqJn5xSlqjfkg0APzSbvejNIaADdS7s0w0A4oAeowc1zHxA8ZxeD/Drzqym9m+S3jPc+v0FdNuwua+ZPi14gOueOZ0iffDaAQpg8cdaTA5y4vZb+6luruQyTSsXdz3JqNYS5yxwKpBiBgUvmydAaRSLsisifIaree27Dmp4mJQZ60x4tx6Uh2I3khK/Pg/hVCaOB/uJt960PscZ++SKetraL/ESfemBi5lg5jYkemaq3F7KxyDt+ldK1vGRwoIqpNFCnSNPypMDHt9auI/ldt496kbV5D0xVxbG0uOqbG9qgn0NlBMUn4UtB6lY6pI3U1Y07WBaXLMw4YYqjJYSRZ3GqzqQaasJpnuXwz1pfOKiT5mOcZr3y0n821Q5/hr4w8KapPYaijws2QegPWvqHwX4j/tTT02jkABgTyKaIO0EhVuvFTLID3qnuyM0iu2/2qgNAN70uarJMMgE81MGFAD80Z96bmjNMB2aM+9NzRmgB2abKf3L/AO6aNwpshBhfP900AY3g4/8AEif/AK+JP51u5rA8H5/sSTP/AD8yfzrdzQA6im5ooATPvSZpM0ZoAUn3qK6h+02csOf9YhXNSZpM0AYEGg6pbWyQW2ttGiDAXyQcU/8AsbW/+hhf/vwK3QaMmgDC/sbW/wDoYX/78Cj+xtb/AOhgk/78Ct6koAwv7F1v/oYZP+/Ao/sbW/8AoYJP+/ArdooAwv7G1v8A6GCT/vwKP7G1r/oYJP8AvwK3aWgDB/sXWv8AoYH/AO/ApP7G1v8A6GB/+/IrezRmgDB/sXW/+hhf/vyKP7F1v/oYX/78it7NGaAMH+xdb/6GF/8AvwKP7F1v/oYX/wC/ArezRmgDB/sXWv8AoYZP+/Ao/sXWv+hhk/78it7NGaAMH+xdb/6GGT/vwKX+xtc/6GJ/+/C1u5ozQBhf2Nrf/QxP/wB+Fo/sbW/+hik/78LW9mkoAwv7G1v/AKGKT/vwtH9ja5/0MT/9+Frd5oyaAML+xtc/6GJ//AdaP7G1v/oYn/8AAda3c0ZoAwv7G1z/AKGJ/wDwHWj+xtc/6GJ//Ada3c0maAMP+xtc/wChif8A8B1o/sbXP+hif/wHWt3NJmgDD/sbXP8AoYn/APAdaP7G1z/oYn/8Bl/xrdzRk0AYX9ja5/0MT/8AgOtH9ja5/wBDE/8A4DrW7k0c0AYX9ja5/wBDE/8A4DrR/Y2uf9DE/wD4DrW7k0ZNAGF/Y2t/9DE//gOtH9ja3/0MT/8Afha3cmjNAGF/Y2uf9DE//gOtH9ja5/0MT/8AgOtbuaM0AYX9ja5/0MT/APgOtH9ja5/0MT/+A61u5pM0AYf9ja5/0MT/APgOtH9ja5/0MT/+A6/41u5oyaAML+xtc/6GJ/8AwHWj+xtb/wChif8A8B1rezSZNAGF/Y2t/wDQxSf9+Fo/sbW/+hif/wAB1rdzRmgDB/sbW/8AoYpP+/C0h0XWe/iCU/8AbEVv5ozQBzy+H9QRzLBq7Rzt96Qxglvwp39i6338Qv8AhCK380ZoAwRomsf9B+X/AL9ClGi6x/0H5f8Av0K3c0uTQBg/2JrH/Qfl/wC/Qo/sXWe2vSf9+hW9k0maAML+xtb7a+//AH5FH9j65/0H2/78it3JozQBhf2Prn/Qfb/vyKP7H1z/AKD7f9+RW7mjNAGF/Y+uf9B9v+/Io/sfXP8AoPt/35FbuaM0AYX9j65/0H2/78ij+x9c/wCg+3/fkVu5ozQBhf2Prn/Qfb/vyKP7H1z/AKD7f9+RW7mjNAGF/Y+uf9B9v+/Io/sfXP8AoPt/35FbuaM0AYX9j65/0H2/78ij+x9c/wCg+3/fkVu5ozQBhf2Prn/Qfb/vyKP7H1z/AKD7f9+RW7mjNAGF/Y+uf9B9v+/Io/sfXP8AoPt/35FbuaM0AYX9j65/0H2/78ij+xtZP3tec/SIVu5ozQBz50C/dleXUzJIn3GZMbacdF1c/wDMab8ErezRmgDB/sTVv+g0/wD3zR/Ymrdtaf8A74rezRuoAwv7F1f/AKDb/wDfuj+xdY/6Dj/9+xW7mjdQBhf2LrP/AEHX/wC/Qo/sXWf+g6//AH6FbuaN1AGF/Yus/wDQdf8A79Cj+xdZ/wCg6/8A36Fbu6jdQBhf2LrP/Qdf/v0KP7F1n/oOv/36Fbu6jdQBhf2LrP8A0HX/AO/Qo/sXWf8AoOv/AN+hW7uo3UAYX9i6z/0HX/79Cj+xdZ/6Dr/9+hW7uo3UAYX9i6z/ANB1/wDv0KP7F1n/AKDr/wDfoVu7qN1AGF/Yus/9B1/+/Qo/sXWf+g6//foVu7qN1AGF/Yus/wDQdf8A79Cj+xdZ/wCg6/8A36Fbu6jdQBhf2LrP/Qdf/v0KP7F1n/oOv/36Fbu6jdQBhf2LrP8A0HX/AO/Qo/sbWe+uv/36Fbu6jNAHPvoOpTKUuNXaWM9VaMc0/wDsbWQNqa3tUcKBCOBW7mjNAGD/AGNrX/Qdb/v0KX+xtZ/6Dr/9+hW7mjNAGF/Yus/9B1/+/Qo/sXWf+g6//foVu7qN1AGF/Yus/wDQdf8A79Cj+xdZ/wCg6/8A36Fbu6jdQBhf2LrP/Qdf/v0KP7F1n/oOv/36Fbu6jdQBhf2LrP8A0HX/AO/Qo/sXWf8AoOv/AN+hW7uozQBhf2LrP/Qdf/v0KP7G1n/oPP8A9+hW7mjNAGF/Y2s9tef/AL9Cj+x9bHTX2/78it3NGaAML+x9c/6GBv8AvwKP7I1z/oYG/wC/ArdzRmgDC/sjXP8AoYG/78Cj+yNc/wChgb/vwK3c0ZoAwv7I1z/oYG/78Cj+yNc/6GBv+/ArdzRmgDC/sjXP+hgb/vwKP7H1v/oYG/78Ct3NGaAML+x9a/6D7/8AfkUf2Rrn/Qwt/wCA4rdzRmgDAk0XWZBiTXXI9BEBTIfDuqWy7bTXHhTOdvkhufXmuhzS5oAw/wCyNd/6GJv/AAGWg6Rrf/QfY/8AbACtzJozQBhf2Rrf/Qfb/vyKX+yNb/6D7f8AfgVuZozQBhf2Rrf/AEH2/wC/Apf7I1v/AKD7f9+BW5mjNAGH/ZGt/wDQfb/vwKP7I1v/AKD7f9+BW5zRmgDC/sjW/wDoPt/35FJ/Y+td9ff/AL8it3NGaAML+x9a/wCg8/8A36FH9j61/wBB5/8AvyK3c0ZoAwv7I1v/AKD7f9+RR/ZGtf8AQfb/AL8it3NGaAML+yNb/wCg+3/fkUv9ka3/ANDA3/fgVuZozQBh/wBka3/0H2/78Cl/sjW/+g+3/fgVuZozQBh/2Rrf/Qfb/vwKP7I1v/oPt/34FbmaM0AYf9ka3/0H2/78im/2PrX/AEH2/wC/IrezSZoAwv7I1v8A6D7f9+RR/Y+uH/mYHH/bAVu5ozQBhHRda/6GGXP/AFxFNTw/qcbtLDrTLM/3pDACSPSt8GlyaAMH+xdd/wChjk/8B1o/sbWx/wAzDIf+2AreyaM0AYX9j61/0H3/AO/Io/sfWv8AoPN/35FbtGTQBhf2Prf/AEHm/wC/IpP7H1v/AKDzf9+RW9mkyaAML+x9b/6Dzf8AfkUf2Prf/Qeb/vyK3c0ZoAwv7H1v/oPN/wB+RR/Y+t/9B5v+/IrdyaM0AYX9j63/ANB5v+/Io/sfW/8AoPN/35FbuaMmgDC/sfW/+g83/fkUf2Prf/Qeb/vyK3c0ZoAwv7H1v/oPN/35FH9j63/0Hm/78it3JozQBhf2Prf/AEHm/wC/Io/sfW/+g83/AH5FbuaMmgDD/sfW/wDoPt/35FH9ka3/ANB9v+/ArczS5oAwv7I1z/oPt/34FH9ka3/0H2/78it2jNAGF/Y+t/8AQeb/AL8ik/sjW/8AoPt/35Fb2aTNAGF/Y2snrrz/AIRCoz4f1KR1eXVy8icozRj5T610XNGaAMH+x9c/6GBh9IBR/Y2t9/EL/wDfkVvZpM0AYX9j63/0MEn/AH5FH9j63/0MMn/fkVu80UAYX9j63/0MMn/fkUf2Nrf/AEMMn/fgVu5NGTQBhf2Prf8A0MEn/fkUf2Nrf/Qwyf8AfgVu5NGTQBhf2Nrf/Qwyf9+BR/Y+t/8AQwSf9+RW7k0ZNAGF/Y2t/wDQwyf9+BR/Y2t/9DDJ/wB+BW7k0ZNAGF/Y+t/9DBJ/35FH9j63/wBDBJ/35FbuTRk0AYX9ja3/ANDDJ/34FH9j63/0MEn/AH5FbuTRmgDC/sbWv+hhf/vyKP7G1r/oYJP+/IrdzSE0AYi6ZrETBm1pnAPIMY5rZDHaMnJxSMc03NJiZJmjNMBpSaQAXxQGzULnJqRPu0wHZpN3NKRxUZHPFCAyfF2snQ/Ct9fI2HjibZ9SOK+SVma4u5ZpiSzksSfU19IfGJmX4fzgfxSKK+aGJQnFRJ2Lirss7g0mB3q8lixjyB+lQ6Pp0t9dAqPlU8mu1j0dxGAErklWsehSocyOUit2DYx+lWDbFV6H8q6u00DfKNy4rXPhVWj+6Kj25q8LY8zlib0NUpoZOSMj8K9RbwgnOYxVeXwlH/zzFJ4iwLCpnlRe4R8Bm+lXYreWdMlSfwr0aLwfDuy0S1ox+GYUTAjUVH1i5f1VHkx06cN8qN+VXEtJkT95mvSn8PxqfuCqV1oKshwuKX1hh9VR5ldWxLHj9Kybi32sc16bN4eXB3DmuQ8R6SbKRXUfK3WuinVUmc9Wg4ozNFk+x6nBPjcEcFhjqK+kPDto3/CQWFxYKUt5rcPIFHAr5y09QXzX1L8Nk3eB9PlcZcx4yfTNdiPOludWDxSgZNJTlOKYivdZVlKnBptyl7cxKLW98g+oQGn3HzFafC21QKQFEaXrJ/5jjD/tiKX+ydb7a83/AH4FaqTDcFzgmpQ2aYGIdJ1z/oPH/vyKP7J1z/oPH/vyK3c0maYGH/ZOu/8AQfP/AH4FMfQ9YdSG8QS/MMH9yK6DNGaYFLSNP/svTktfM8zBJL4xkmr2cUmaM0ALRSZooAbmlzSDpRQAuaTNFFABmlzSUUAGf85oz/nNFFABn/OaXP8AnNJRQAZ/zmlz/nNJRQAZozRRQAuaM0lFAC5ozSUUALmkzRRQAZpc0lFAC5ozSUUALmjNJRQAZooooAPxo/GiigA/Gj8aKKAD8aXNJRQAuaM0lFAC5ozSUUALSfjRRQAfjR+NFFAB+NH40UUAH40ZoooAXNJmiigA/Gj8aKKAD8aM0UUALmjNJRQAuaM0lFAC5pM0UUAFFFFAB/nrRRRQAUUUUAFFFFABRRRQAUUUUAFFFFABRRRQAUUUUAFFFFABRRRQAUUUUAFFFFABRRRQAUUUUAH+etFFFABR/nrRRQAUUUUAH+etFFFABR/nrRRQAUUUUAH+etFFFABRRRQAUUUUAFFFFABR/nrRRQAUUUUAH+etFFFABSUtFABRmiigAz/nNFFFABk0UUUAGTRmiigAyaMmiigAyaMmiigAzRk0UUAFFFFABk0c0UUAGTRk0UUAGTRk0UUAHNGTRRQAZoz/AJzRRQAf560UUUAFGaKKACiiigAyaMmiigAzRmiigAzRRRQAUZoooAKM0UUAFGaKKADJpcmkooAKKKKADNGaKKADP+c0ZoooAM0Z/wA5oooAM0ZoooAM/wCc0ZoooAM0ZoooAM0UUUALk0ZNJRQAUZoooAM0UUUAGaKKKACiiigAooooAKKKKACiiigAooooAKKKKACjmiigBDwOaaXHrSy/cqAUAOZqZu96VqjpMRMG96C3vUa0poAM5p6tUVSL0pCJN1ICM0zvS0AeefGmbHg1IR1eYV86vAXl2ivoL4zf8gG2/wCuh/lXhkIH2npWdX4Talud54Q0dItPjkZeWGeldhFbJtxgflWV4d/5BkX0FbsdeHWk7n0OHirCQWaCQHFaKooFQRVaX+tTFuxU3qAjU9h+VRSW6noP0qxQw60MhSM9oBnpTWQAdKvMB6VC4qC7mbKtVJV4rTkA9KoTjrQ2ykZk0QOeK5zxFpQu9OlGOQMjFdVJVC9H+jv9DXRQk7mNbVHkdrEYZcH1r6o+H6hPA+mDp+5Br5hmGLx8f3jX1B4H/wCRK0v/AK91r2o7Hz9T4joz0qMmndqZ3NUQRseaVeBSSdaUf0oAQn98rA/dq1DNvBB6iqR+9UkP+sH1poC+DnvR075pR90fSmd6YD80ZoHSimAZpc0lFABmiiigD//Z)"
      ],
      "metadata": {
        "id": "1MaOADP4dACo"
      }
    },
    {
      "cell_type": "code",
      "execution_count": null,
      "metadata": {
        "id": "m6vRycC_cfuq"
      },
      "outputs": [],
      "source": []
    },
    {
      "cell_type": "code",
      "execution_count": null,
      "metadata": {
        "id": "cv8EHs_icfTp"
      },
      "outputs": [],
      "source": []
    },
    {
      "cell_type": "code",
      "execution_count": null,
      "metadata": {
        "id": "EUJwfSk2cfRS"
      },
      "outputs": [],
      "source": []
    },
    {
      "cell_type": "markdown",
      "metadata": {
        "id": "ZVbeRJwab-pl"
      },
      "source": [
        "## Implement Bag of Words"
      ]
    },
    {
      "cell_type": "code",
      "execution_count": null,
      "metadata": {
        "id": "3rpl_G7ecgbn"
      },
      "outputs": [],
      "source": []
    },
    {
      "cell_type": "code",
      "execution_count": null,
      "metadata": {
        "id": "Dm3EymJIcgYa"
      },
      "outputs": [],
      "source": []
    },
    {
      "cell_type": "code",
      "execution_count": null,
      "metadata": {
        "id": "ctTaew2LcgWE"
      },
      "outputs": [],
      "source": []
    },
    {
      "cell_type": "markdown",
      "metadata": {
        "id": "q2JTDLuScQvz"
      },
      "source": [
        "## ML Models for Text Classification"
      ]
    },
    {
      "cell_type": "code",
      "execution_count": null,
      "metadata": {
        "id": "KMlJvGpOciwn"
      },
      "outputs": [],
      "source": []
    },
    {
      "cell_type": "code",
      "execution_count": null,
      "metadata": {
        "id": "IIF1N3jbciTB"
      },
      "outputs": [],
      "source": []
    },
    {
      "cell_type": "code",
      "execution_count": null,
      "metadata": {
        "id": "uZs1HZB2ciQm"
      },
      "outputs": [],
      "source": []
    },
    {
      "cell_type": "markdown",
      "metadata": {
        "id": "d7R5LsS1cUwJ"
      },
      "source": [
        "## Make Predictions and Submit to Kaggle"
      ]
    },
    {
      "cell_type": "code",
      "execution_count": null,
      "metadata": {
        "id": "cF7KVxXOcjrd"
      },
      "outputs": [],
      "source": []
    },
    {
      "cell_type": "code",
      "execution_count": null,
      "metadata": {
        "id": "KkzeqIWncjoO"
      },
      "outputs": [],
      "source": []
    },
    {
      "cell_type": "code",
      "execution_count": null,
      "metadata": {
        "id": "21cWh5TUcjly"
      },
      "outputs": [],
      "source": []
    }
  ],
  "metadata": {
    "colab": {
      "provenance": [],
      "include_colab_link": true
    },
    "kernelspec": {
      "display_name": "Python 3 (ipykernel)",
      "language": "python",
      "name": "python3"
    },
    "language_info": {
      "codemirror_mode": {
        "name": "ipython",
        "version": 3
      },
      "file_extension": ".py",
      "mimetype": "text/x-python",
      "name": "python",
      "nbconvert_exporter": "python",
      "pygments_lexer": "ipython3",
      "version": "3.9.7"
    }
  },
  "nbformat": 4,
  "nbformat_minor": 0
}