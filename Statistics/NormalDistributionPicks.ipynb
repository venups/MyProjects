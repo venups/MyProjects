{
  "nbformat": 4,
  "nbformat_minor": 0,
  "metadata": {
    "colab": {
      "provenance": [],
      "authorship_tag": "ABX9TyPyOp6OVCgBmn7Zbbb6O7qO",
      "include_colab_link": true
    },
    "kernelspec": {
      "name": "python3",
      "display_name": "Python 3"
    },
    "language_info": {
      "name": "python"
    }
  },
  "cells": [
    {
      "cell_type": "markdown",
      "metadata": {
        "id": "view-in-github",
        "colab_type": "text"
      },
      "source": [
        "<a href=\"https://colab.research.google.com/github/venups/MyProjects/blob/main/NormalDistributionPicks.ipynb\" target=\"_parent\"><img src=\"https://colab.research.google.com/assets/colab-badge.svg\" alt=\"Open In Colab\"/></a>"
      ]
    },
    {
      "cell_type": "code",
      "execution_count": null,
      "metadata": {
        "colab": {
          "base_uri": "https://localhost:8080/"
        },
        "id": "sBk6YRdVrlPn",
        "outputId": "d481d585-d799-4e08-fa77-a91cb7945bcd"
      },
      "outputs": [
        {
          "output_type": "stream",
          "name": "stdout",
          "text": [
            "probability of X between -2 to 2:  0.9578\n",
            "probability of X between -2^(1/5) to 2^(1/5):  0.755\n",
            "probability of X^5 between -2 to 2:  0.755\n",
            "Probability of X_1 and X_2^5 is: 0.7231390000000001\n"
          ]
        }
      ],
      "source": [
        "import numpy as np\n",
        "\n",
        "mu, sigma = 0, 1\n",
        "n_picks = 10000\n",
        "x_1 = np.random.normal(mu, sigma, n_picks)\n",
        "x_2 = np.random.normal(mu, sigma, n_picks)\n",
        "x_2_5 = np.power(x_2,5)\n",
        "\n",
        "a_1 = len(x_1[(x_1 >= -np.power(2,1)) & (x_1 <= np.power(2,1))])\n",
        "print('probability of X between -2 to 2: ', a_1/n_picks)\n",
        "\n",
        "a_2 = len(x_2[(x_2 >= -np.power(2,1/5)) & (x_2 <= np.power(2,1/5))])\n",
        "print('probability of X between -2^(1/5) to 2^(1/5): ', a_2/n_picks)\n",
        "\n",
        "a_3 = len(x_2_5[(x_2_5 >= -np.power(2,1)) & (x_2_5 <= np.power(2,1))])\n",
        "print('probability of X^5 between -2 to 2: ', a_3/n_picks)\n",
        "\n",
        "print('Probability of X_1 and X_2^5 is:', a_1/n_picks*a_3/n_picks)"
      ]
    }
  ]
}